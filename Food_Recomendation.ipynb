{
 "cells": [
  {
   "cell_type": "markdown",
   "source": [
    "## Persiapan Data"
   ],
   "metadata": {
    "collapsed": false
   },
   "id": "16e7cb37f7cffd23"
  },
  {
   "cell_type": "code",
   "execution_count": 32,
   "id": "initial_id",
   "metadata": {
    "collapsed": true,
    "ExecuteTime": {
     "end_time": "2023-12-11T09:13:17.156944700Z",
     "start_time": "2023-12-11T09:13:16.633550Z"
    }
   },
   "outputs": [
    {
     "data": {
      "text/plain": "  Participant_ID  Gender       cuisine  ethnic_food  \\\n0         FPS001  Female  Korean/Asian            5   \n1         FPS002  Female         other            4   \n2         FPS003  Female      American            2   \n3         FPS004  Female      American            5   \n4         FPS005  Female      American            5   \n\n                             fav_cuisine  fruit_day  greek_food  indian_food  \\\n0                                italian          5           5            5   \n1                                African          2           2            5   \n2               Anything american style.          5           3            1   \n3  Orange chicken and chow mani noodles           5           1            1   \n4                                italian          5           4            3   \n\n   italian_food     marital_status  persian_food  thai_food  veggies_day  \\\n0             5  In a relationship             5          5            5   \n1             5  In a relationship             5          4            1   \n2             3             Single             1          1            4   \n3             5             Single             2          2            5   \n4             5  In a relationship             3          5            5   \n\n                     weight  Age Nationality  \\\n0  I'm not answering this.    16      Indian   \n1                       190   16      Indian   \n2                       137   16      Indian   \n3                       116   16      Indian   \n4                       123   16      Indian   \n\n                                                Food Dessert  \\\n0  cereal, frozen yogurt, pizza, fast food, mac a...     Yes   \n1  cereal, Candy, brownies and soda., Fries, plai...     Yes   \n2  cereal, Ice cream, cheeseburgers, chips., chic...     Yes   \n3  cereal, Pasta, grandma homemade chocolate cake...     Yes   \n4  cereal, ice cream, cake, chocolate, steak, las...     Yes   \n\n                                               Drink  \n0  espresso shown, orange juice, Fresh Juice, Fre...  \n1     espresso shown, soda, Fresh Juice, Fresh Juice  \n2  creamy frapuccino, soda, Fresh Juice, Fresh Juice  \n3     espresso shown, soda, Fresh Juice, Fresh Juice  \n4     espresso shown, soda, Fresh Juice, Fresh Juice  ",
      "text/html": "<div>\n<style scoped>\n    .dataframe tbody tr th:only-of-type {\n        vertical-align: middle;\n    }\n\n    .dataframe tbody tr th {\n        vertical-align: top;\n    }\n\n    .dataframe thead th {\n        text-align: right;\n    }\n</style>\n<table border=\"1\" class=\"dataframe\">\n  <thead>\n    <tr style=\"text-align: right;\">\n      <th></th>\n      <th>Participant_ID</th>\n      <th>Gender</th>\n      <th>cuisine</th>\n      <th>ethnic_food</th>\n      <th>fav_cuisine</th>\n      <th>fruit_day</th>\n      <th>greek_food</th>\n      <th>indian_food</th>\n      <th>italian_food</th>\n      <th>marital_status</th>\n      <th>persian_food</th>\n      <th>thai_food</th>\n      <th>veggies_day</th>\n      <th>weight</th>\n      <th>Age</th>\n      <th>Nationality</th>\n      <th>Food</th>\n      <th>Dessert</th>\n      <th>Drink</th>\n    </tr>\n  </thead>\n  <tbody>\n    <tr>\n      <th>0</th>\n      <td>FPS001</td>\n      <td>Female</td>\n      <td>Korean/Asian</td>\n      <td>5</td>\n      <td>italian</td>\n      <td>5</td>\n      <td>5</td>\n      <td>5</td>\n      <td>5</td>\n      <td>In a relationship</td>\n      <td>5</td>\n      <td>5</td>\n      <td>5</td>\n      <td>I'm not answering this.</td>\n      <td>16</td>\n      <td>Indian</td>\n      <td>cereal, frozen yogurt, pizza, fast food, mac a...</td>\n      <td>Yes</td>\n      <td>espresso shown, orange juice, Fresh Juice, Fre...</td>\n    </tr>\n    <tr>\n      <th>1</th>\n      <td>FPS002</td>\n      <td>Female</td>\n      <td>other</td>\n      <td>4</td>\n      <td>African</td>\n      <td>2</td>\n      <td>2</td>\n      <td>5</td>\n      <td>5</td>\n      <td>In a relationship</td>\n      <td>5</td>\n      <td>4</td>\n      <td>1</td>\n      <td>190</td>\n      <td>16</td>\n      <td>Indian</td>\n      <td>cereal, Candy, brownies and soda., Fries, plai...</td>\n      <td>Yes</td>\n      <td>espresso shown, soda, Fresh Juice, Fresh Juice</td>\n    </tr>\n    <tr>\n      <th>2</th>\n      <td>FPS003</td>\n      <td>Female</td>\n      <td>American</td>\n      <td>2</td>\n      <td>Anything american style.</td>\n      <td>5</td>\n      <td>3</td>\n      <td>1</td>\n      <td>3</td>\n      <td>Single</td>\n      <td>1</td>\n      <td>1</td>\n      <td>4</td>\n      <td>137</td>\n      <td>16</td>\n      <td>Indian</td>\n      <td>cereal, Ice cream, cheeseburgers, chips., chic...</td>\n      <td>Yes</td>\n      <td>creamy frapuccino, soda, Fresh Juice, Fresh Juice</td>\n    </tr>\n    <tr>\n      <th>3</th>\n      <td>FPS004</td>\n      <td>Female</td>\n      <td>American</td>\n      <td>5</td>\n      <td>Orange chicken and chow mani noodles</td>\n      <td>5</td>\n      <td>1</td>\n      <td>1</td>\n      <td>5</td>\n      <td>Single</td>\n      <td>2</td>\n      <td>2</td>\n      <td>5</td>\n      <td>116</td>\n      <td>16</td>\n      <td>Indian</td>\n      <td>cereal, Pasta, grandma homemade chocolate cake...</td>\n      <td>Yes</td>\n      <td>espresso shown, soda, Fresh Juice, Fresh Juice</td>\n    </tr>\n    <tr>\n      <th>4</th>\n      <td>FPS005</td>\n      <td>Female</td>\n      <td>American</td>\n      <td>5</td>\n      <td>italian</td>\n      <td>5</td>\n      <td>4</td>\n      <td>3</td>\n      <td>5</td>\n      <td>In a relationship</td>\n      <td>3</td>\n      <td>5</td>\n      <td>5</td>\n      <td>123</td>\n      <td>16</td>\n      <td>Indian</td>\n      <td>cereal, ice cream, cake, chocolate, steak, las...</td>\n      <td>Yes</td>\n      <td>espresso shown, soda, Fresh Juice, Fresh Juice</td>\n    </tr>\n  </tbody>\n</table>\n</div>"
     },
     "execution_count": 32,
     "metadata": {},
     "output_type": "execute_result"
    }
   ],
   "source": [
    "import pandas as pd\n",
    "\n",
    "file_path = 'final_dataset.csv'\n",
    "df = pd.read_csv(file_path)\n",
    "df.head()"
   ]
  },
  {
   "cell_type": "code",
   "execution_count": 33,
   "outputs": [
    {
     "name": "stdout",
     "output_type": "stream",
     "text": [
      "<class 'pandas.core.frame.DataFrame'>\n",
      "RangeIndex: 149 entries, 0 to 148\n",
      "Data columns (total 19 columns):\n",
      " #   Column          Non-Null Count  Dtype \n",
      "---  ------          --------------  ----- \n",
      " 0   Participant_ID  149 non-null    object\n",
      " 1   Gender          149 non-null    object\n",
      " 2   cuisine         149 non-null    object\n",
      " 3   ethnic_food     149 non-null    int64 \n",
      " 4   fav_cuisine     149 non-null    object\n",
      " 5   fruit_day       149 non-null    int64 \n",
      " 6   greek_food      149 non-null    int64 \n",
      " 7   indian_food     149 non-null    int64 \n",
      " 8   italian_food    149 non-null    int64 \n",
      " 9   marital_status  149 non-null    object\n",
      " 10  persian_food    149 non-null    int64 \n",
      " 11  thai_food       149 non-null    int64 \n",
      " 12  veggies_day     149 non-null    int64 \n",
      " 13  weight          149 non-null    object\n",
      " 14  Age             149 non-null    int64 \n",
      " 15  Nationality     149 non-null    object\n",
      " 16  Food            149 non-null    object\n",
      " 17  Dessert         149 non-null    object\n",
      " 18  Drink           149 non-null    object\n",
      "dtypes: int64(9), object(10)\n",
      "memory usage: 22.2+ KB\n"
     ]
    }
   ],
   "source": [
    "df.info()"
   ],
   "metadata": {
    "collapsed": false,
    "ExecuteTime": {
     "end_time": "2023-12-11T09:13:17.204953500Z",
     "start_time": "2023-12-11T09:13:16.769944Z"
    }
   },
   "id": "c0d1e2b1a1778af0"
  },
  {
   "cell_type": "code",
   "execution_count": 34,
   "outputs": [
    {
     "data": {
      "text/plain": "Participant_ID    0\nGender            0\ncuisine           0\nethnic_food       0\nfav_cuisine       0\nfruit_day         0\ngreek_food        0\nindian_food       0\nitalian_food      0\nmarital_status    0\npersian_food      0\nthai_food         0\nveggies_day       0\nweight            0\nAge               0\nNationality       0\nFood              0\nDessert           0\nDrink             0\ndtype: int64"
     },
     "execution_count": 34,
     "metadata": {},
     "output_type": "execute_result"
    }
   ],
   "source": [
    "df.isnull().sum()"
   ],
   "metadata": {
    "collapsed": false,
    "ExecuteTime": {
     "end_time": "2023-12-11T09:13:17.204953500Z",
     "start_time": "2023-12-11T09:13:16.856398500Z"
    }
   },
   "id": "6e6367ec6b2daf5a"
  },
  {
   "cell_type": "code",
   "execution_count": 35,
   "outputs": [
    {
     "data": {
      "text/plain": "0"
     },
     "execution_count": 35,
     "metadata": {},
     "output_type": "execute_result"
    }
   ],
   "source": [
    "df.duplicated().sum()"
   ],
   "metadata": {
    "collapsed": false,
    "ExecuteTime": {
     "end_time": "2023-12-11T09:13:17.204953500Z",
     "start_time": "2023-12-11T09:13:16.959146500Z"
    }
   },
   "id": "10b6d7595208553a"
  },
  {
   "cell_type": "markdown",
   "source": [
    "## Pemrosesan Data"
   ],
   "metadata": {
    "collapsed": false
   },
   "id": "3eaea3d6dba7fd57"
  },
  {
   "cell_type": "code",
   "execution_count": 36,
   "outputs": [],
   "source": [
    "import tensorflow as tf\n",
    "from sklearn.model_selection import train_test_split\n",
    "from sklearn.preprocessing import LabelEncoder"
   ],
   "metadata": {
    "collapsed": false,
    "ExecuteTime": {
     "end_time": "2023-12-11T09:13:17.204953500Z",
     "start_time": "2023-12-11T09:13:17.071933100Z"
    }
   },
   "id": "6b0fc8d77605993c"
  },
  {
   "cell_type": "code",
   "execution_count": 37,
   "outputs": [],
   "source": [
    "label_encoder = LabelEncoder()\n",
    "df['Participant_ID'] = label_encoder.fit_transform(df['Participant_ID'])\n",
    "df['Gender'] = label_encoder.fit_transform(df['Gender'])\n",
    "df['cuisine'] = label_encoder.fit_transform(df['cuisine'])\n",
    "df['ethnic_food'] = label_encoder.fit_transform(df['ethnic_food'])\n",
    "df['fav_cuisine'] = label_encoder.fit_transform(df['fav_cuisine'])\n",
    "df['fruit_day'] = label_encoder.fit_transform(df['fruit_day'])\n",
    "df['greek_food'] = label_encoder.fit_transform(df['greek_food'])\n",
    "df['indian_food'] = label_encoder.fit_transform(df['indian_food'])\n",
    "df['italian_food'] = label_encoder.fit_transform(df['italian_food'])\n",
    "df['marital_status'] = label_encoder.fit_transform(df['marital_status'])\n",
    "df['persian_food'] = label_encoder.fit_transform(df['persian_food'])\n",
    "df['thai_food'] = label_encoder.fit_transform(df['thai_food'])\n",
    "df['veggies_day'] = label_encoder.fit_transform(df['veggies_day'])\n",
    "df['weight'] = label_encoder.fit_transform(df['weight'])\n",
    "df['Age'] = label_encoder.fit_transform(df['Age'])\n",
    "df['Nationality'] = label_encoder.fit_transform(df['Nationality'])\n",
    "df['Food'] = label_encoder.fit_transform(df['Food'])\n",
    "df['Dessert'] = label_encoder.fit_transform(df['Dessert'])\n",
    "df['Drink'] = label_encoder.fit_transform(df['Drink'])"
   ],
   "metadata": {
    "collapsed": false,
    "ExecuteTime": {
     "end_time": "2023-12-11T09:13:17.374274800Z",
     "start_time": "2023-12-11T09:13:17.071933100Z"
    }
   },
   "id": "b30235649382e7db"
  },
  {
   "cell_type": "code",
   "execution_count": 38,
   "outputs": [],
   "source": [
    "train_data, test_data = train_test_split(df, test_size=0.2, random_state=42)"
   ],
   "metadata": {
    "collapsed": false,
    "ExecuteTime": {
     "end_time": "2023-12-11T09:13:19.685843Z",
     "start_time": "2023-12-11T09:13:17.156944700Z"
    }
   },
   "id": "4abdc4de0e6eb13d"
  },
  {
   "cell_type": "markdown",
   "source": [
    "## Pembuatan dan Pelatihan Model"
   ],
   "metadata": {
    "collapsed": false
   },
   "id": "26ddc3f40cd9231c"
  },
  {
   "cell_type": "code",
   "execution_count": 39,
   "outputs": [],
   "source": [
    "embedding_size = 20"
   ],
   "metadata": {
    "collapsed": false,
    "ExecuteTime": {
     "end_time": "2023-12-11T09:13:19.693819Z",
     "start_time": "2023-12-11T09:13:17.705429Z"
    }
   },
   "id": "9c464a1df9335db2"
  },
  {
   "cell_type": "code",
   "execution_count": 40,
   "outputs": [],
   "source": [
    "user_input = tf.keras.layers.Input(shape=(1,), name='user_input')\n",
    "food_input = tf.keras.layers.Input(shape=(1,), name='food_input')"
   ],
   "metadata": {
    "collapsed": false,
    "ExecuteTime": {
     "end_time": "2023-12-11T09:13:19.693819Z",
     "start_time": "2023-12-11T09:13:17.774873200Z"
    }
   },
   "id": "7e19bd118afb32c1"
  },
  {
   "cell_type": "code",
   "execution_count": 41,
   "outputs": [],
   "source": [
    "user_embedding = tf.keras.layers.Embedding(input_dim=df['Participant_ID'].nunique(), output_dim=embedding_size, input_length=1)(user_input)\n",
    "food_embedding = tf.keras.layers.Embedding(input_dim=df['Food'].nunique(), output_dim=embedding_size, input_length=1)(food_input)"
   ],
   "metadata": {
    "collapsed": false,
    "ExecuteTime": {
     "end_time": "2023-12-11T09:13:19.702393800Z",
     "start_time": "2023-12-11T09:13:17.812569800Z"
    }
   },
   "id": "9650466df88f6284"
  },
  {
   "cell_type": "code",
   "execution_count": 42,
   "outputs": [],
   "source": [
    "user_vecs = tf.keras.layers.Flatten()(user_embedding)\n",
    "food_vecs = tf.keras.layers.Flatten()(food_embedding)"
   ],
   "metadata": {
    "collapsed": false,
    "ExecuteTime": {
     "end_time": "2023-12-11T09:13:19.774408100Z",
     "start_time": "2023-12-11T09:13:17.912366Z"
    }
   },
   "id": "c3ded17b3b605db2"
  },
  {
   "cell_type": "code",
   "execution_count": 43,
   "outputs": [],
   "source": [
    "prod = tf.keras.layers.Dot(axes=1)([user_vecs, food_vecs])"
   ],
   "metadata": {
    "collapsed": false,
    "ExecuteTime": {
     "end_time": "2023-12-11T09:13:19.806414500Z",
     "start_time": "2023-12-11T09:13:17.956792100Z"
    }
   },
   "id": "f70fd9fcc3c5a759"
  },
  {
   "cell_type": "code",
   "execution_count": 44,
   "outputs": [],
   "source": [
    "model = tf.keras.models.Model(inputs=[user_input, food_input], outputs=prod)\n",
    "model.compile(optimizer='adam', loss='mean_squared_error', metrics=['mae'])"
   ],
   "metadata": {
    "collapsed": false,
    "ExecuteTime": {
     "end_time": "2023-12-11T09:13:19.886426900Z",
     "start_time": "2023-12-11T09:13:17.989096200Z"
    }
   },
   "id": "f8eabc02471acf72"
  },
  {
   "cell_type": "code",
   "execution_count": 45,
   "outputs": [
    {
     "name": "stdout",
     "output_type": "stream",
     "text": [
      "Epoch 1/100\n",
      "6/6 [==============================] - 3s 234ms/step - loss: 2.3787 - mae: 1.4108 - val_loss: 1.8785 - val_mae: 1.2093\n",
      "Epoch 2/100\n",
      "6/6 [==============================] - 0s 78ms/step - loss: 2.3719 - mae: 1.4084 - val_loss: 1.8787 - val_mae: 1.2094\n",
      "Epoch 3/100\n",
      "6/6 [==============================] - 0s 48ms/step - loss: 2.3650 - mae: 1.4061 - val_loss: 1.8790 - val_mae: 1.2094\n",
      "Epoch 4/100\n",
      "6/6 [==============================] - 0s 35ms/step - loss: 2.3583 - mae: 1.4039 - val_loss: 1.8792 - val_mae: 1.2095\n",
      "Epoch 5/100\n",
      "6/6 [==============================] - 0s 22ms/step - loss: 2.3513 - mae: 1.4015 - val_loss: 1.8794 - val_mae: 1.2096\n",
      "Epoch 6/100\n",
      "6/6 [==============================] - 0s 28ms/step - loss: 2.3438 - mae: 1.3991 - val_loss: 1.8796 - val_mae: 1.2096\n",
      "Epoch 7/100\n",
      "6/6 [==============================] - 0s 25ms/step - loss: 2.3359 - mae: 1.3964 - val_loss: 1.8799 - val_mae: 1.2097\n",
      "Epoch 8/100\n",
      "6/6 [==============================] - 0s 24ms/step - loss: 2.3273 - mae: 1.3935 - val_loss: 1.8802 - val_mae: 1.2097\n",
      "Epoch 9/100\n",
      "6/6 [==============================] - 0s 29ms/step - loss: 2.3179 - mae: 1.3905 - val_loss: 1.8805 - val_mae: 1.2098\n",
      "Epoch 10/100\n",
      "6/6 [==============================] - 0s 24ms/step - loss: 2.3079 - mae: 1.3870 - val_loss: 1.8808 - val_mae: 1.2099\n",
      "Epoch 11/100\n",
      "6/6 [==============================] - 0s 23ms/step - loss: 2.2968 - mae: 1.3834 - val_loss: 1.8810 - val_mae: 1.2099\n",
      "Epoch 12/100\n",
      "6/6 [==============================] - 0s 22ms/step - loss: 2.2843 - mae: 1.3792 - val_loss: 1.8813 - val_mae: 1.2100\n",
      "Epoch 13/100\n",
      "6/6 [==============================] - 0s 25ms/step - loss: 2.2709 - mae: 1.3748 - val_loss: 1.8816 - val_mae: 1.2101\n",
      "Epoch 14/100\n",
      "6/6 [==============================] - 0s 22ms/step - loss: 2.2565 - mae: 1.3699 - val_loss: 1.8818 - val_mae: 1.2102\n",
      "Epoch 15/100\n",
      "6/6 [==============================] - 0s 22ms/step - loss: 2.2409 - mae: 1.3647 - val_loss: 1.8821 - val_mae: 1.2102\n",
      "Epoch 16/100\n",
      "6/6 [==============================] - 0s 25ms/step - loss: 2.2238 - mae: 1.3589 - val_loss: 1.8825 - val_mae: 1.2103\n",
      "Epoch 17/100\n",
      "6/6 [==============================] - 0s 22ms/step - loss: 2.2051 - mae: 1.3527 - val_loss: 1.8827 - val_mae: 1.2104\n",
      "Epoch 18/100\n",
      "6/6 [==============================] - 0s 21ms/step - loss: 2.1854 - mae: 1.3459 - val_loss: 1.8830 - val_mae: 1.2104\n",
      "Epoch 19/100\n",
      "6/6 [==============================] - 0s 21ms/step - loss: 2.1638 - mae: 1.3388 - val_loss: 1.8833 - val_mae: 1.2105\n",
      "Epoch 20/100\n",
      "6/6 [==============================] - 0s 23ms/step - loss: 2.1416 - mae: 1.3311 - val_loss: 1.8837 - val_mae: 1.2106\n",
      "Epoch 21/100\n",
      "6/6 [==============================] - 0s 22ms/step - loss: 2.1172 - mae: 1.3228 - val_loss: 1.8840 - val_mae: 1.2107\n",
      "Epoch 22/100\n",
      "6/6 [==============================] - 0s 29ms/step - loss: 2.0920 - mae: 1.3141 - val_loss: 1.8843 - val_mae: 1.2108\n",
      "Epoch 23/100\n",
      "6/6 [==============================] - 0s 18ms/step - loss: 2.0650 - mae: 1.3046 - val_loss: 1.8846 - val_mae: 1.2108\n",
      "Epoch 24/100\n",
      "6/6 [==============================] - 0s 28ms/step - loss: 2.0360 - mae: 1.2948 - val_loss: 1.8849 - val_mae: 1.2109\n",
      "Epoch 25/100\n",
      "6/6 [==============================] - 0s 19ms/step - loss: 2.0065 - mae: 1.2843 - val_loss: 1.8852 - val_mae: 1.2110\n",
      "Epoch 26/100\n",
      "6/6 [==============================] - 0s 19ms/step - loss: 1.9757 - mae: 1.2733 - val_loss: 1.8855 - val_mae: 1.2111\n",
      "Epoch 27/100\n",
      "6/6 [==============================] - 0s 19ms/step - loss: 1.9423 - mae: 1.2616 - val_loss: 1.8858 - val_mae: 1.2111\n",
      "Epoch 28/100\n",
      "6/6 [==============================] - 0s 22ms/step - loss: 1.9093 - mae: 1.2495 - val_loss: 1.8862 - val_mae: 1.2112\n",
      "Epoch 29/100\n",
      "6/6 [==============================] - 0s 26ms/step - loss: 1.8739 - mae: 1.2368 - val_loss: 1.8865 - val_mae: 1.2113\n",
      "Epoch 30/100\n",
      "6/6 [==============================] - 0s 19ms/step - loss: 1.8376 - mae: 1.2235 - val_loss: 1.8867 - val_mae: 1.2114\n",
      "Epoch 31/100\n",
      "6/6 [==============================] - 0s 29ms/step - loss: 1.8001 - mae: 1.2098 - val_loss: 1.8871 - val_mae: 1.2114\n",
      "Epoch 32/100\n",
      "6/6 [==============================] - 0s 22ms/step - loss: 1.7632 - mae: 1.1957 - val_loss: 1.8874 - val_mae: 1.2115\n",
      "Epoch 33/100\n",
      "6/6 [==============================] - 0s 19ms/step - loss: 1.7224 - mae: 1.1805 - val_loss: 1.8877 - val_mae: 1.2116\n",
      "Epoch 34/100\n",
      "6/6 [==============================] - 0s 22ms/step - loss: 1.6820 - mae: 1.1653 - val_loss: 1.8880 - val_mae: 1.2117\n",
      "Epoch 35/100\n",
      "6/6 [==============================] - 0s 24ms/step - loss: 1.6408 - mae: 1.1494 - val_loss: 1.8883 - val_mae: 1.2117\n",
      "Epoch 36/100\n",
      "6/6 [==============================] - 0s 24ms/step - loss: 1.5999 - mae: 1.1332 - val_loss: 1.8886 - val_mae: 1.2118\n",
      "Epoch 37/100\n",
      "6/6 [==============================] - 0s 21ms/step - loss: 1.5569 - mae: 1.1160 - val_loss: 1.8889 - val_mae: 1.2119\n",
      "Epoch 38/100\n",
      "6/6 [==============================] - 0s 19ms/step - loss: 1.5134 - mae: 1.0990 - val_loss: 1.8892 - val_mae: 1.2119\n",
      "Epoch 39/100\n",
      "6/6 [==============================] - 0s 22ms/step - loss: 1.4695 - mae: 1.0809 - val_loss: 1.8894 - val_mae: 1.2120\n",
      "Epoch 40/100\n",
      "6/6 [==============================] - 0s 27ms/step - loss: 1.4249 - mae: 1.0627 - val_loss: 1.8897 - val_mae: 1.2121\n",
      "Epoch 41/100\n",
      "6/6 [==============================] - 0s 21ms/step - loss: 1.3828 - mae: 1.0446 - val_loss: 1.8900 - val_mae: 1.2122\n",
      "Epoch 42/100\n",
      "6/6 [==============================] - 0s 27ms/step - loss: 1.3356 - mae: 1.0252 - val_loss: 1.8904 - val_mae: 1.2123\n",
      "Epoch 43/100\n",
      "6/6 [==============================] - 0s 19ms/step - loss: 1.2933 - mae: 1.0063 - val_loss: 1.8907 - val_mae: 1.2123\n",
      "Epoch 44/100\n",
      "6/6 [==============================] - 0s 21ms/step - loss: 1.2478 - mae: 0.9862 - val_loss: 1.8911 - val_mae: 1.2124\n",
      "Epoch 45/100\n",
      "6/6 [==============================] - 0s 19ms/step - loss: 1.2036 - mae: 0.9668 - val_loss: 1.8913 - val_mae: 1.2125\n",
      "Epoch 46/100\n",
      "6/6 [==============================] - 0s 21ms/step - loss: 1.1586 - mae: 0.9462 - val_loss: 1.8916 - val_mae: 1.2125\n",
      "Epoch 47/100\n",
      "6/6 [==============================] - 0s 19ms/step - loss: 1.1139 - mae: 0.9253 - val_loss: 1.8919 - val_mae: 1.2126\n",
      "Epoch 48/100\n",
      "6/6 [==============================] - 0s 22ms/step - loss: 1.0695 - mae: 0.9050 - val_loss: 1.8922 - val_mae: 1.2127\n",
      "Epoch 49/100\n",
      "6/6 [==============================] - 0s 22ms/step - loss: 1.0275 - mae: 0.8841 - val_loss: 1.8925 - val_mae: 1.2127\n",
      "Epoch 50/100\n",
      "6/6 [==============================] - 0s 24ms/step - loss: 0.9850 - mae: 0.8630 - val_loss: 1.8927 - val_mae: 1.2128\n",
      "Epoch 51/100\n",
      "6/6 [==============================] - 0s 29ms/step - loss: 0.9426 - mae: 0.8419 - val_loss: 1.8930 - val_mae: 1.2129\n",
      "Epoch 52/100\n",
      "6/6 [==============================] - 0s 24ms/step - loss: 0.9001 - mae: 0.8202 - val_loss: 1.8933 - val_mae: 1.2129\n",
      "Epoch 53/100\n",
      "6/6 [==============================] - 0s 23ms/step - loss: 0.8595 - mae: 0.7989 - val_loss: 1.8936 - val_mae: 1.2130\n",
      "Epoch 54/100\n",
      "6/6 [==============================] - 0s 22ms/step - loss: 0.8203 - mae: 0.7776 - val_loss: 1.8939 - val_mae: 1.2131\n",
      "Epoch 55/100\n",
      "6/6 [==============================] - 0s 21ms/step - loss: 0.7804 - mae: 0.7559 - val_loss: 1.8941 - val_mae: 1.2131\n",
      "Epoch 56/100\n",
      "6/6 [==============================] - 0s 24ms/step - loss: 0.7413 - mae: 0.7340 - val_loss: 1.8944 - val_mae: 1.2132\n",
      "Epoch 57/100\n",
      "6/6 [==============================] - 0s 22ms/step - loss: 0.7055 - mae: 0.7131 - val_loss: 1.8947 - val_mae: 1.2133\n",
      "Epoch 58/100\n",
      "6/6 [==============================] - 0s 21ms/step - loss: 0.6683 - mae: 0.6915 - val_loss: 1.8950 - val_mae: 1.2133\n",
      "Epoch 59/100\n",
      "6/6 [==============================] - 0s 22ms/step - loss: 0.6336 - mae: 0.6704 - val_loss: 1.8952 - val_mae: 1.2134\n",
      "Epoch 60/100\n",
      "6/6 [==============================] - 0s 24ms/step - loss: 0.5984 - mae: 0.6489 - val_loss: 1.8954 - val_mae: 1.2135\n",
      "Epoch 61/100\n",
      "6/6 [==============================] - 0s 22ms/step - loss: 0.5647 - mae: 0.6279 - val_loss: 1.8957 - val_mae: 1.2135\n",
      "Epoch 62/100\n",
      "6/6 [==============================] - 0s 22ms/step - loss: 0.5343 - mae: 0.6074 - val_loss: 1.8960 - val_mae: 1.2136\n",
      "Epoch 63/100\n",
      "6/6 [==============================] - 0s 21ms/step - loss: 0.5018 - mae: 0.5864 - val_loss: 1.8962 - val_mae: 1.2136\n",
      "Epoch 64/100\n",
      "6/6 [==============================] - 0s 28ms/step - loss: 0.4742 - mae: 0.5667 - val_loss: 1.8964 - val_mae: 1.2137\n",
      "Epoch 65/100\n",
      "6/6 [==============================] - 0s 21ms/step - loss: 0.4444 - mae: 0.5462 - val_loss: 1.8967 - val_mae: 1.2138\n",
      "Epoch 66/100\n",
      "6/6 [==============================] - 0s 22ms/step - loss: 0.4164 - mae: 0.5262 - val_loss: 1.8969 - val_mae: 1.2138\n",
      "Epoch 67/100\n",
      "6/6 [==============================] - 0s 22ms/step - loss: 0.3898 - mae: 0.5065 - val_loss: 1.8972 - val_mae: 1.2139\n",
      "Epoch 68/100\n",
      "6/6 [==============================] - 0s 25ms/step - loss: 0.3647 - mae: 0.4875 - val_loss: 1.8974 - val_mae: 1.2139\n",
      "Epoch 69/100\n",
      "6/6 [==============================] - 0s 22ms/step - loss: 0.3420 - mae: 0.4691 - val_loss: 1.8977 - val_mae: 1.2140\n",
      "Epoch 70/100\n",
      "6/6 [==============================] - 0s 21ms/step - loss: 0.3192 - mae: 0.4509 - val_loss: 1.8979 - val_mae: 1.2140\n",
      "Epoch 71/100\n",
      "6/6 [==============================] - 0s 22ms/step - loss: 0.2963 - mae: 0.4322 - val_loss: 1.8981 - val_mae: 1.2141\n",
      "Epoch 72/100\n",
      "6/6 [==============================] - 0s 27ms/step - loss: 0.2755 - mae: 0.4145 - val_loss: 1.8983 - val_mae: 1.2142\n",
      "Epoch 73/100\n",
      "6/6 [==============================] - 0s 24ms/step - loss: 0.2571 - mae: 0.3979 - val_loss: 1.8985 - val_mae: 1.2142\n",
      "Epoch 74/100\n",
      "6/6 [==============================] - 0s 22ms/step - loss: 0.2381 - mae: 0.3807 - val_loss: 1.8988 - val_mae: 1.2143\n",
      "Epoch 75/100\n",
      "6/6 [==============================] - 0s 24ms/step - loss: 0.2202 - mae: 0.3643 - val_loss: 1.8990 - val_mae: 1.2143\n",
      "Epoch 76/100\n",
      "6/6 [==============================] - 0s 21ms/step - loss: 0.2040 - mae: 0.3487 - val_loss: 1.8992 - val_mae: 1.2144\n",
      "Epoch 77/100\n",
      "6/6 [==============================] - 0s 33ms/step - loss: 0.1883 - mae: 0.3328 - val_loss: 1.8995 - val_mae: 1.2144\n",
      "Epoch 78/100\n",
      "6/6 [==============================] - 0s 19ms/step - loss: 0.1735 - mae: 0.3177 - val_loss: 1.8997 - val_mae: 1.2145\n",
      "Epoch 79/100\n",
      "6/6 [==============================] - 0s 22ms/step - loss: 0.1600 - mae: 0.3033 - val_loss: 1.8999 - val_mae: 1.2145\n",
      "Epoch 80/100\n",
      "6/6 [==============================] - 0s 22ms/step - loss: 0.1471 - mae: 0.2891 - val_loss: 1.9001 - val_mae: 1.2146\n",
      "Epoch 81/100\n",
      "6/6 [==============================] - 0s 46ms/step - loss: 0.1350 - mae: 0.2754 - val_loss: 1.9003 - val_mae: 1.2146\n",
      "Epoch 82/100\n",
      "6/6 [==============================] - 0s 22ms/step - loss: 0.1243 - mae: 0.2626 - val_loss: 1.9004 - val_mae: 1.2146\n",
      "Epoch 83/100\n",
      "6/6 [==============================] - 0s 21ms/step - loss: 0.1135 - mae: 0.2495 - val_loss: 1.9006 - val_mae: 1.2147\n",
      "Epoch 84/100\n",
      "6/6 [==============================] - 0s 22ms/step - loss: 0.1037 - mae: 0.2371 - val_loss: 1.9008 - val_mae: 1.2147\n",
      "Epoch 85/100\n",
      "6/6 [==============================] - 0s 21ms/step - loss: 0.0948 - mae: 0.2253 - val_loss: 1.9010 - val_mae: 1.2148\n",
      "Epoch 86/100\n",
      "6/6 [==============================] - 0s 26ms/step - loss: 0.0863 - mae: 0.2139 - val_loss: 1.9011 - val_mae: 1.2148\n",
      "Epoch 87/100\n",
      "6/6 [==============================] - 0s 22ms/step - loss: 0.0785 - mae: 0.2027 - val_loss: 1.9013 - val_mae: 1.2148\n",
      "Epoch 88/100\n",
      "6/6 [==============================] - 0s 22ms/step - loss: 0.0710 - mae: 0.1919 - val_loss: 1.9014 - val_mae: 1.2149\n",
      "Epoch 89/100\n",
      "6/6 [==============================] - 0s 24ms/step - loss: 0.0649 - mae: 0.1823 - val_loss: 1.9016 - val_mae: 1.2149\n",
      "Epoch 90/100\n",
      "6/6 [==============================] - 0s 22ms/step - loss: 0.0588 - mae: 0.1725 - val_loss: 1.9018 - val_mae: 1.2150\n",
      "Epoch 91/100\n",
      "6/6 [==============================] - 0s 21ms/step - loss: 0.0529 - mae: 0.1628 - val_loss: 1.9019 - val_mae: 1.2150\n",
      "Epoch 92/100\n",
      "6/6 [==============================] - 0s 22ms/step - loss: 0.0479 - mae: 0.1542 - val_loss: 1.9021 - val_mae: 1.2150\n",
      "Epoch 93/100\n",
      "6/6 [==============================] - 0s 37ms/step - loss: 0.0432 - mae: 0.1456 - val_loss: 1.9022 - val_mae: 1.2151\n",
      "Epoch 94/100\n",
      "6/6 [==============================] - 0s 19ms/step - loss: 0.0391 - mae: 0.1378 - val_loss: 1.9024 - val_mae: 1.2151\n",
      "Epoch 95/100\n",
      "6/6 [==============================] - 0s 18ms/step - loss: 0.0351 - mae: 0.1297 - val_loss: 1.9026 - val_mae: 1.2151\n",
      "Epoch 96/100\n",
      "6/6 [==============================] - 0s 19ms/step - loss: 0.0316 - mae: 0.1225 - val_loss: 1.9027 - val_mae: 1.2152\n",
      "Epoch 97/100\n",
      "6/6 [==============================] - 0s 19ms/step - loss: 0.0282 - mae: 0.1151 - val_loss: 1.9028 - val_mae: 1.2152\n",
      "Epoch 98/100\n",
      "6/6 [==============================] - 0s 25ms/step - loss: 0.0253 - mae: 0.1085 - val_loss: 1.9029 - val_mae: 1.2152\n",
      "Epoch 99/100\n",
      "6/6 [==============================] - 0s 73ms/step - loss: 0.0225 - mae: 0.1018 - val_loss: 1.9030 - val_mae: 1.2152\n",
      "Epoch 100/100\n",
      "6/6 [==============================] - 0s 21ms/step - loss: 0.0203 - mae: 0.0961 - val_loss: 1.9031 - val_mae: 1.2153\n"
     ]
    },
    {
     "data": {
      "text/plain": "<keras.src.callbacks.History at 0x1e6a24a5190>"
     },
     "execution_count": 45,
     "metadata": {},
     "output_type": "execute_result"
    }
   ],
   "source": [
    "model.fit([train_data['Participant_ID'], train_data['Food']], train_data['Dessert'], epochs=100, batch_size=16,\n",
    "          validation_split=0.2)"
   ],
   "metadata": {
    "collapsed": false,
    "ExecuteTime": {
     "end_time": "2023-12-11T09:13:35.683674900Z",
     "start_time": "2023-12-11T09:13:18.039591Z"
    }
   },
   "id": "48eaaefaf4a69980"
  },
  {
   "cell_type": "markdown",
   "source": [
    "## Evaluasi Model"
   ],
   "metadata": {
    "collapsed": false
   },
   "id": "e0eacbf1d2632d00"
  },
  {
   "cell_type": "code",
   "execution_count": 47,
   "outputs": [
    {
     "name": "stdout",
     "output_type": "stream",
     "text": [
      "1/1 [==============================] - 0s 152ms/step - loss: 2.1932 - mae: 1.3320\n",
      "Mean Squared Error on Test Data: 2.1932318210601807\n",
      "Mean Absolute Error on Test Data: 1.3319591283798218\n"
     ]
    }
   ],
   "source": [
    "# Evaluasi model pada data uji\n",
    "evaluation = model.evaluate([test_data['Participant_ID'], test_data['Food']], test_data['Dessert'])\n",
    "\n",
    "# Menampilkan metrik hasil evaluasi\n",
    "print(\"Mean Squared Error on Test Data:\", evaluation[0])\n",
    "print(\"Mean Absolute Error on Test Data:\", evaluation[1])"
   ],
   "metadata": {
    "collapsed": false,
    "ExecuteTime": {
     "end_time": "2023-12-11T09:20:47.889743700Z",
     "start_time": "2023-12-11T09:20:47.386166800Z"
    }
   },
   "id": "527dd4b1c144162d"
  },
  {
   "cell_type": "code",
   "execution_count": 48,
   "outputs": [
    {
     "name": "stdout",
     "output_type": "stream",
     "text": [
      "1/1 [==============================] - 3s 3s/step\n",
      "Prediction: 0.005273827351629734, Actual: 1\n",
      "Prediction: 0.013401791453361511, Actual: 2\n",
      "Prediction: 0.00593844149261713, Actual: 1\n",
      "Prediction: -0.0035432716831564903, Actual: 1\n",
      "Prediction: -0.004219741094857454, Actual: 1\n"
     ]
    }
   ],
   "source": [
    "# Mendapatkan prediksi pada data uji\n",
    "predictions = model.predict([test_data['Participant_ID'], test_data['Food']])\n",
    "\n",
    "# Menampilkan beberapa hasil prediksi\n",
    "for i in range(5):\n",
    "    print(f\"Prediction: {predictions[i][0]}, Actual: {test_data['Dessert'].iloc[i]}\")"
   ],
   "metadata": {
    "collapsed": false,
    "ExecuteTime": {
     "end_time": "2023-12-11T09:21:14.237345600Z",
     "start_time": "2023-12-11T09:21:11.107536800Z"
    }
   },
   "id": "551167e98ecd355e"
  },
  {
   "cell_type": "markdown",
   "source": [
    "## Export Model"
   ],
   "metadata": {
    "collapsed": false
   },
   "id": "11a4d1c0607baf66"
  },
  {
   "cell_type": "code",
   "execution_count": 51,
   "outputs": [
    {
     "name": "stderr",
     "output_type": "stream",
     "text": [
      "C:\\Users\\Administrator\\AppData\\Local\\Programs\\Python\\Python311\\Lib\\site-packages\\keras\\src\\engine\\training.py:3079: UserWarning: You are saving your model as an HDF5 file via `model.save()`. This file format is considered legacy. We recommend using instead the native Keras format, e.g. `model.save('my_model.keras')`.\n",
      "  saving_api.save_model(\n"
     ]
    }
   ],
   "source": [
    "# Simpan model ke dalam format HDF5\n",
    "model_h5 = model.save(\"final_model/h5/model.h5\")"
   ],
   "metadata": {
    "collapsed": false,
    "ExecuteTime": {
     "end_time": "2023-12-11T09:51:12.807093100Z",
     "start_time": "2023-12-11T09:51:12.593649700Z"
    }
   },
   "id": "470dc8c396cd4ee9"
  }
 ],
 "metadata": {
  "kernelspec": {
   "display_name": "Python 3",
   "language": "python",
   "name": "python3"
  },
  "language_info": {
   "codemirror_mode": {
    "name": "ipython",
    "version": 2
   },
   "file_extension": ".py",
   "mimetype": "text/x-python",
   "name": "python",
   "nbconvert_exporter": "python",
   "pygments_lexer": "ipython2",
   "version": "2.7.6"
  }
 },
 "nbformat": 4,
 "nbformat_minor": 5
}
