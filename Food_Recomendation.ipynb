{
 "cells": [
  {
   "cell_type": "markdown",
   "source": [
    "## Persiapan Data"
   ],
   "metadata": {
    "collapsed": false
   },
   "id": "16e7cb37f7cffd23"
  },
  {
   "cell_type": "code",
   "execution_count": 55,
   "id": "initial_id",
   "metadata": {
    "collapsed": true,
    "ExecuteTime": {
     "end_time": "2023-12-11T11:11:04.037796900Z",
     "start_time": "2023-12-11T11:11:03.720962100Z"
    }
   },
   "outputs": [
    {
     "data": {
      "text/plain": "  Participant_ID  Gender       cuisine  ethnic_food  \\\n0         FPS001  Female  Korean/Asian            5   \n1         FPS002  Female         other            4   \n2         FPS003  Female      American            2   \n3         FPS004  Female      American            5   \n4         FPS005  Female      American            5   \n\n                             fav_cuisine  fruit_day  greek_food  indian_food  \\\n0                                italian          5           5            5   \n1                                African          2           2            5   \n2               Anything american style.          5           3            1   \n3  Orange chicken and chow mani noodles           5           1            1   \n4                                italian          5           4            3   \n\n   italian_food     marital_status  persian_food  thai_food  veggies_day  \\\n0             5  In a relationship             5          5            5   \n1             5  In a relationship             5          4            1   \n2             3             Single             1          1            4   \n3             5             Single             2          2            5   \n4             5  In a relationship             3          5            5   \n\n                     weight  Age Nationality  \\\n0  I'm not answering this.    16      Indian   \n1                       190   16      Indian   \n2                       137   16      Indian   \n3                       116   16      Indian   \n4                       123   16      Indian   \n\n                                                Food Dessert  \\\n0  cereal, frozen yogurt, pizza, fast food, mac a...     Yes   \n1  cereal, Candy, brownies and soda., Fries, plai...     Yes   \n2  cereal, Ice cream, cheeseburgers, chips., chic...     Yes   \n3  cereal, Pasta, grandma homemade chocolate cake...     Yes   \n4  cereal, ice cream, cake, chocolate, steak, las...     Yes   \n\n                                               Drink  \n0  espresso shown, orange juice, Fresh Juice, Fre...  \n1     espresso shown, soda, Fresh Juice, Fresh Juice  \n2  creamy frapuccino, soda, Fresh Juice, Fresh Juice  \n3     espresso shown, soda, Fresh Juice, Fresh Juice  \n4     espresso shown, soda, Fresh Juice, Fresh Juice  ",
      "text/html": "<div>\n<style scoped>\n    .dataframe tbody tr th:only-of-type {\n        vertical-align: middle;\n    }\n\n    .dataframe tbody tr th {\n        vertical-align: top;\n    }\n\n    .dataframe thead th {\n        text-align: right;\n    }\n</style>\n<table border=\"1\" class=\"dataframe\">\n  <thead>\n    <tr style=\"text-align: right;\">\n      <th></th>\n      <th>Participant_ID</th>\n      <th>Gender</th>\n      <th>cuisine</th>\n      <th>ethnic_food</th>\n      <th>fav_cuisine</th>\n      <th>fruit_day</th>\n      <th>greek_food</th>\n      <th>indian_food</th>\n      <th>italian_food</th>\n      <th>marital_status</th>\n      <th>persian_food</th>\n      <th>thai_food</th>\n      <th>veggies_day</th>\n      <th>weight</th>\n      <th>Age</th>\n      <th>Nationality</th>\n      <th>Food</th>\n      <th>Dessert</th>\n      <th>Drink</th>\n    </tr>\n  </thead>\n  <tbody>\n    <tr>\n      <th>0</th>\n      <td>FPS001</td>\n      <td>Female</td>\n      <td>Korean/Asian</td>\n      <td>5</td>\n      <td>italian</td>\n      <td>5</td>\n      <td>5</td>\n      <td>5</td>\n      <td>5</td>\n      <td>In a relationship</td>\n      <td>5</td>\n      <td>5</td>\n      <td>5</td>\n      <td>I'm not answering this.</td>\n      <td>16</td>\n      <td>Indian</td>\n      <td>cereal, frozen yogurt, pizza, fast food, mac a...</td>\n      <td>Yes</td>\n      <td>espresso shown, orange juice, Fresh Juice, Fre...</td>\n    </tr>\n    <tr>\n      <th>1</th>\n      <td>FPS002</td>\n      <td>Female</td>\n      <td>other</td>\n      <td>4</td>\n      <td>African</td>\n      <td>2</td>\n      <td>2</td>\n      <td>5</td>\n      <td>5</td>\n      <td>In a relationship</td>\n      <td>5</td>\n      <td>4</td>\n      <td>1</td>\n      <td>190</td>\n      <td>16</td>\n      <td>Indian</td>\n      <td>cereal, Candy, brownies and soda., Fries, plai...</td>\n      <td>Yes</td>\n      <td>espresso shown, soda, Fresh Juice, Fresh Juice</td>\n    </tr>\n    <tr>\n      <th>2</th>\n      <td>FPS003</td>\n      <td>Female</td>\n      <td>American</td>\n      <td>2</td>\n      <td>Anything american style.</td>\n      <td>5</td>\n      <td>3</td>\n      <td>1</td>\n      <td>3</td>\n      <td>Single</td>\n      <td>1</td>\n      <td>1</td>\n      <td>4</td>\n      <td>137</td>\n      <td>16</td>\n      <td>Indian</td>\n      <td>cereal, Ice cream, cheeseburgers, chips., chic...</td>\n      <td>Yes</td>\n      <td>creamy frapuccino, soda, Fresh Juice, Fresh Juice</td>\n    </tr>\n    <tr>\n      <th>3</th>\n      <td>FPS004</td>\n      <td>Female</td>\n      <td>American</td>\n      <td>5</td>\n      <td>Orange chicken and chow mani noodles</td>\n      <td>5</td>\n      <td>1</td>\n      <td>1</td>\n      <td>5</td>\n      <td>Single</td>\n      <td>2</td>\n      <td>2</td>\n      <td>5</td>\n      <td>116</td>\n      <td>16</td>\n      <td>Indian</td>\n      <td>cereal, Pasta, grandma homemade chocolate cake...</td>\n      <td>Yes</td>\n      <td>espresso shown, soda, Fresh Juice, Fresh Juice</td>\n    </tr>\n    <tr>\n      <th>4</th>\n      <td>FPS005</td>\n      <td>Female</td>\n      <td>American</td>\n      <td>5</td>\n      <td>italian</td>\n      <td>5</td>\n      <td>4</td>\n      <td>3</td>\n      <td>5</td>\n      <td>In a relationship</td>\n      <td>3</td>\n      <td>5</td>\n      <td>5</td>\n      <td>123</td>\n      <td>16</td>\n      <td>Indian</td>\n      <td>cereal, ice cream, cake, chocolate, steak, las...</td>\n      <td>Yes</td>\n      <td>espresso shown, soda, Fresh Juice, Fresh Juice</td>\n    </tr>\n  </tbody>\n</table>\n</div>"
     },
     "execution_count": 55,
     "metadata": {},
     "output_type": "execute_result"
    }
   ],
   "source": [
    "import pandas as pd\n",
    "\n",
    "file_path = 'final_dataset.csv'\n",
    "df = pd.read_csv(file_path)\n",
    "df.head()"
   ]
  },
  {
   "cell_type": "code",
   "execution_count": 56,
   "outputs": [
    {
     "name": "stdout",
     "output_type": "stream",
     "text": [
      "<class 'pandas.core.frame.DataFrame'>\n",
      "RangeIndex: 149 entries, 0 to 148\n",
      "Data columns (total 19 columns):\n",
      " #   Column          Non-Null Count  Dtype \n",
      "---  ------          --------------  ----- \n",
      " 0   Participant_ID  149 non-null    object\n",
      " 1   Gender          149 non-null    object\n",
      " 2   cuisine         149 non-null    object\n",
      " 3   ethnic_food     149 non-null    int64 \n",
      " 4   fav_cuisine     149 non-null    object\n",
      " 5   fruit_day       149 non-null    int64 \n",
      " 6   greek_food      149 non-null    int64 \n",
      " 7   indian_food     149 non-null    int64 \n",
      " 8   italian_food    149 non-null    int64 \n",
      " 9   marital_status  149 non-null    object\n",
      " 10  persian_food    149 non-null    int64 \n",
      " 11  thai_food       149 non-null    int64 \n",
      " 12  veggies_day     149 non-null    int64 \n",
      " 13  weight          149 non-null    object\n",
      " 14  Age             149 non-null    int64 \n",
      " 15  Nationality     149 non-null    object\n",
      " 16  Food            149 non-null    object\n",
      " 17  Dessert         149 non-null    object\n",
      " 18  Drink           149 non-null    object\n",
      "dtypes: int64(9), object(10)\n",
      "memory usage: 22.2+ KB\n"
     ]
    }
   ],
   "source": [
    "df.info()"
   ],
   "metadata": {
    "collapsed": false,
    "ExecuteTime": {
     "end_time": "2023-12-11T11:11:04.152432200Z",
     "start_time": "2023-12-11T11:11:03.798812800Z"
    }
   },
   "id": "c0d1e2b1a1778af0"
  },
  {
   "cell_type": "code",
   "execution_count": 57,
   "outputs": [
    {
     "data": {
      "text/plain": "Participant_ID    0\nGender            0\ncuisine           0\nethnic_food       0\nfav_cuisine       0\nfruit_day         0\ngreek_food        0\nindian_food       0\nitalian_food      0\nmarital_status    0\npersian_food      0\nthai_food         0\nveggies_day       0\nweight            0\nAge               0\nNationality       0\nFood              0\nDessert           0\nDrink             0\ndtype: int64"
     },
     "execution_count": 57,
     "metadata": {},
     "output_type": "execute_result"
    }
   ],
   "source": [
    "df.isnull().sum()"
   ],
   "metadata": {
    "collapsed": false,
    "ExecuteTime": {
     "end_time": "2023-12-11T11:11:04.857333Z",
     "start_time": "2023-12-11T11:11:04.074296300Z"
    }
   },
   "id": "6e6367ec6b2daf5a"
  },
  {
   "cell_type": "code",
   "execution_count": 58,
   "outputs": [
    {
     "data": {
      "text/plain": "0"
     },
     "execution_count": 58,
     "metadata": {},
     "output_type": "execute_result"
    }
   ],
   "source": [
    "df.duplicated().sum()"
   ],
   "metadata": {
    "collapsed": false,
    "ExecuteTime": {
     "end_time": "2023-12-11T11:11:04.857333Z",
     "start_time": "2023-12-11T11:11:04.841705300Z"
    }
   },
   "id": "10b6d7595208553a"
  },
  {
   "cell_type": "markdown",
   "source": [
    "## Pemrosesan Data"
   ],
   "metadata": {
    "collapsed": false
   },
   "id": "3eaea3d6dba7fd57"
  },
  {
   "cell_type": "code",
   "execution_count": 59,
   "outputs": [],
   "source": [
    "import tensorflow as tf\n",
    "from sklearn.model_selection import train_test_split\n",
    "from sklearn.preprocessing import LabelEncoder"
   ],
   "metadata": {
    "collapsed": false,
    "ExecuteTime": {
     "end_time": "2023-12-11T11:11:04.857333Z",
     "start_time": "2023-12-11T11:11:04.841705300Z"
    }
   },
   "id": "6b0fc8d77605993c"
  },
  {
   "cell_type": "code",
   "execution_count": 60,
   "outputs": [],
   "source": [
    "label_encoder = LabelEncoder()\n",
    "df['Participant_ID'] = label_encoder.fit_transform(df['Participant_ID'])\n",
    "df['Gender'] = label_encoder.fit_transform(df['Gender'])\n",
    "df['cuisine'] = label_encoder.fit_transform(df['cuisine'])\n",
    "df['ethnic_food'] = label_encoder.fit_transform(df['ethnic_food'])\n",
    "df['fav_cuisine'] = label_encoder.fit_transform(df['fav_cuisine'])\n",
    "df['fruit_day'] = label_encoder.fit_transform(df['fruit_day'])\n",
    "df['greek_food'] = label_encoder.fit_transform(df['greek_food'])\n",
    "df['indian_food'] = label_encoder.fit_transform(df['indian_food'])\n",
    "df['italian_food'] = label_encoder.fit_transform(df['italian_food'])\n",
    "df['marital_status'] = label_encoder.fit_transform(df['marital_status'])\n",
    "df['persian_food'] = label_encoder.fit_transform(df['persian_food'])\n",
    "df['thai_food'] = label_encoder.fit_transform(df['thai_food'])\n",
    "df['veggies_day'] = label_encoder.fit_transform(df['veggies_day'])\n",
    "df['weight'] = label_encoder.fit_transform(df['weight'])\n",
    "df['Age'] = label_encoder.fit_transform(df['Age'])\n",
    "df['Nationality'] = label_encoder.fit_transform(df['Nationality'])\n",
    "df['Food'] = label_encoder.fit_transform(df['Food'])\n",
    "df['Dessert'] = label_encoder.fit_transform(df['Dessert'])\n",
    "df['Drink'] = label_encoder.fit_transform(df['Drink'])"
   ],
   "metadata": {
    "collapsed": false,
    "ExecuteTime": {
     "end_time": "2023-12-11T11:11:04.857333Z",
     "start_time": "2023-12-11T11:11:04.841705300Z"
    }
   },
   "id": "b30235649382e7db"
  },
  {
   "cell_type": "code",
   "execution_count": 61,
   "outputs": [],
   "source": [
    "train_data, test_data = train_test_split(df, test_size=0.2, random_state=42)"
   ],
   "metadata": {
    "collapsed": false,
    "ExecuteTime": {
     "end_time": "2023-12-11T11:11:05.511978200Z",
     "start_time": "2023-12-11T11:11:04.841705300Z"
    }
   },
   "id": "4abdc4de0e6eb13d"
  },
  {
   "cell_type": "markdown",
   "source": [
    "## Pembuatan dan Pelatihan Model"
   ],
   "metadata": {
    "collapsed": false
   },
   "id": "26ddc3f40cd9231c"
  },
  {
   "cell_type": "code",
   "execution_count": 62,
   "outputs": [],
   "source": [
    "embedding_size = 20"
   ],
   "metadata": {
    "collapsed": false,
    "ExecuteTime": {
     "end_time": "2023-12-11T11:11:05.566428300Z",
     "start_time": "2023-12-11T11:11:05.496349300Z"
    }
   },
   "id": "9c464a1df9335db2"
  },
  {
   "cell_type": "code",
   "execution_count": 63,
   "outputs": [],
   "source": [
    "user_input = tf.keras.layers.Input(shape=(1,), name='user_input')\n",
    "food_input = tf.keras.layers.Input(shape=(1,), name='food_input')"
   ],
   "metadata": {
    "collapsed": false,
    "ExecuteTime": {
     "end_time": "2023-12-11T11:11:05.644288700Z",
     "start_time": "2023-12-11T11:11:05.566428300Z"
    }
   },
   "id": "7e19bd118afb32c1"
  },
  {
   "cell_type": "code",
   "execution_count": 64,
   "outputs": [],
   "source": [
    "user_embedding = tf.keras.layers.Embedding(input_dim=df['Participant_ID'].nunique(), output_dim=embedding_size, input_length=1)(user_input)\n",
    "food_embedding = tf.keras.layers.Embedding(input_dim=df['Food'].nunique(), output_dim=embedding_size, input_length=1)(food_input)"
   ],
   "metadata": {
    "collapsed": false,
    "ExecuteTime": {
     "end_time": "2023-12-11T11:11:05.825362900Z",
     "start_time": "2023-12-11T11:11:05.644288700Z"
    }
   },
   "id": "9650466df88f6284"
  },
  {
   "cell_type": "code",
   "execution_count": 65,
   "outputs": [],
   "source": [
    "user_vecs = tf.keras.layers.Flatten()(user_embedding)\n",
    "food_vecs = tf.keras.layers.Flatten()(food_embedding)"
   ],
   "metadata": {
    "collapsed": false,
    "ExecuteTime": {
     "end_time": "2023-12-11T11:11:05.948288900Z",
     "start_time": "2023-12-11T11:11:05.856625500Z"
    }
   },
   "id": "c3ded17b3b605db2"
  },
  {
   "cell_type": "code",
   "execution_count": 66,
   "outputs": [],
   "source": [
    "prod = tf.keras.layers.Dot(axes=1)([user_vecs, food_vecs])"
   ],
   "metadata": {
    "collapsed": false,
    "ExecuteTime": {
     "end_time": "2023-12-11T11:11:05.948288900Z",
     "start_time": "2023-12-11T11:11:05.948288900Z"
    }
   },
   "id": "f70fd9fcc3c5a759"
  },
  {
   "cell_type": "code",
   "execution_count": 67,
   "outputs": [],
   "source": [
    "model = tf.keras.models.Model(inputs=[user_input, food_input], outputs=prod)\n",
    "model.compile(optimizer='adam', loss='mean_squared_error', metrics=['mae'])"
   ],
   "metadata": {
    "collapsed": false,
    "ExecuteTime": {
     "end_time": "2023-12-11T11:11:06.096680700Z",
     "start_time": "2023-12-11T11:11:05.948288900Z"
    }
   },
   "id": "f8eabc02471acf72"
  },
  {
   "cell_type": "code",
   "execution_count": 68,
   "outputs": [
    {
     "name": "stdout",
     "output_type": "stream",
     "text": [
      "Epoch 1/100\n",
      "6/6 [==============================] - 5s 130ms/step - loss: 2.3823 - mae: 1.4118 - val_loss: 1.8757 - val_mae: 1.2084\n",
      "Epoch 2/100\n",
      "6/6 [==============================] - 0s 37ms/step - loss: 2.3749 - mae: 1.4093 - val_loss: 1.8757 - val_mae: 1.2084\n",
      "Epoch 3/100\n",
      "6/6 [==============================] - 0s 25ms/step - loss: 2.3685 - mae: 1.4070 - val_loss: 1.8756 - val_mae: 1.2083\n",
      "Epoch 4/100\n",
      "6/6 [==============================] - 0s 22ms/step - loss: 2.3617 - mae: 1.4047 - val_loss: 1.8755 - val_mae: 1.2083\n",
      "Epoch 5/100\n",
      "6/6 [==============================] - 0s 19ms/step - loss: 2.3546 - mae: 1.4023 - val_loss: 1.8754 - val_mae: 1.2083\n",
      "Epoch 6/100\n",
      "6/6 [==============================] - 0s 22ms/step - loss: 2.3475 - mae: 1.3999 - val_loss: 1.8754 - val_mae: 1.2083\n",
      "Epoch 7/100\n",
      "6/6 [==============================] - 0s 19ms/step - loss: 2.3395 - mae: 1.3973 - val_loss: 1.8754 - val_mae: 1.2083\n",
      "Epoch 8/100\n",
      "6/6 [==============================] - 0s 34ms/step - loss: 2.3311 - mae: 1.3945 - val_loss: 1.8754 - val_mae: 1.2083\n",
      "Epoch 9/100\n",
      "6/6 [==============================] - 0s 36ms/step - loss: 2.3220 - mae: 1.3914 - val_loss: 1.8754 - val_mae: 1.2083\n",
      "Epoch 10/100\n",
      "6/6 [==============================] - 0s 25ms/step - loss: 2.3119 - mae: 1.3881 - val_loss: 1.8754 - val_mae: 1.2083\n",
      "Epoch 11/100\n",
      "6/6 [==============================] - 0s 25ms/step - loss: 2.3011 - mae: 1.3844 - val_loss: 1.8754 - val_mae: 1.2083\n",
      "Epoch 12/100\n",
      "6/6 [==============================] - 0s 22ms/step - loss: 2.2892 - mae: 1.3805 - val_loss: 1.8755 - val_mae: 1.2083\n",
      "Epoch 13/100\n",
      "6/6 [==============================] - 0s 37ms/step - loss: 2.2762 - mae: 1.3761 - val_loss: 1.8755 - val_mae: 1.2083\n",
      "Epoch 14/100\n",
      "6/6 [==============================] - 0s 21ms/step - loss: 2.2617 - mae: 1.3713 - val_loss: 1.8756 - val_mae: 1.2084\n",
      "Epoch 15/100\n",
      "6/6 [==============================] - 0s 29ms/step - loss: 2.2465 - mae: 1.3661 - val_loss: 1.8758 - val_mae: 1.2084\n",
      "Epoch 16/100\n",
      "6/6 [==============================] - 0s 26ms/step - loss: 2.2298 - mae: 1.3606 - val_loss: 1.8759 - val_mae: 1.2084\n",
      "Epoch 17/100\n",
      "6/6 [==============================] - 0s 22ms/step - loss: 2.2112 - mae: 1.3543 - val_loss: 1.8760 - val_mae: 1.2084\n",
      "Epoch 18/100\n",
      "6/6 [==============================] - 0s 19ms/step - loss: 2.1916 - mae: 1.3477 - val_loss: 1.8761 - val_mae: 1.2085\n",
      "Epoch 19/100\n",
      "6/6 [==============================] - 0s 19ms/step - loss: 2.1705 - mae: 1.3406 - val_loss: 1.8762 - val_mae: 1.2085\n",
      "Epoch 20/100\n",
      "6/6 [==============================] - 0s 21ms/step - loss: 2.1487 - mae: 1.3330 - val_loss: 1.8763 - val_mae: 1.2085\n",
      "Epoch 21/100\n",
      "6/6 [==============================] - 0s 31ms/step - loss: 2.1247 - mae: 1.3248 - val_loss: 1.8765 - val_mae: 1.2086\n",
      "Epoch 22/100\n",
      "6/6 [==============================] - 0s 22ms/step - loss: 2.0988 - mae: 1.3162 - val_loss: 1.8767 - val_mae: 1.2086\n",
      "Epoch 23/100\n",
      "6/6 [==============================] - 0s 24ms/step - loss: 2.0728 - mae: 1.3068 - val_loss: 1.8768 - val_mae: 1.2087\n",
      "Epoch 24/100\n",
      "6/6 [==============================] - 0s 22ms/step - loss: 2.0436 - mae: 1.2970 - val_loss: 1.8769 - val_mae: 1.2087\n",
      "Epoch 25/100\n",
      "6/6 [==============================] - 0s 19ms/step - loss: 2.0153 - mae: 1.2869 - val_loss: 1.8771 - val_mae: 1.2087\n",
      "Epoch 26/100\n",
      "6/6 [==============================] - 0s 25ms/step - loss: 1.9836 - mae: 1.2758 - val_loss: 1.8773 - val_mae: 1.2088\n",
      "Epoch 27/100\n",
      "6/6 [==============================] - 0s 30ms/step - loss: 1.9510 - mae: 1.2644 - val_loss: 1.8775 - val_mae: 1.2088\n",
      "Epoch 28/100\n",
      "6/6 [==============================] - 0s 25ms/step - loss: 1.9172 - mae: 1.2522 - val_loss: 1.8777 - val_mae: 1.2089\n",
      "Epoch 29/100\n",
      "6/6 [==============================] - 1s 111ms/step - loss: 1.8825 - mae: 1.2398 - val_loss: 1.8778 - val_mae: 1.2089\n",
      "Epoch 30/100\n",
      "6/6 [==============================] - 0s 34ms/step - loss: 1.8465 - mae: 1.2265 - val_loss: 1.8781 - val_mae: 1.2090\n",
      "Epoch 31/100\n",
      "6/6 [==============================] - 0s 38ms/step - loss: 1.8083 - mae: 1.2126 - val_loss: 1.8782 - val_mae: 1.2090\n",
      "Epoch 32/100\n",
      "6/6 [==============================] - 0s 37ms/step - loss: 1.7710 - mae: 1.1986 - val_loss: 1.8784 - val_mae: 1.2091\n",
      "Epoch 33/100\n",
      "6/6 [==============================] - 0s 88ms/step - loss: 1.7305 - mae: 1.1836 - val_loss: 1.8786 - val_mae: 1.2091\n",
      "Epoch 34/100\n",
      "6/6 [==============================] - 0s 22ms/step - loss: 1.6902 - mae: 1.1683 - val_loss: 1.8788 - val_mae: 1.2092\n",
      "Epoch 35/100\n",
      "6/6 [==============================] - 0s 40ms/step - loss: 1.6499 - mae: 1.1526 - val_loss: 1.8790 - val_mae: 1.2092\n",
      "Epoch 36/100\n",
      "6/6 [==============================] - 0s 40ms/step - loss: 1.6072 - mae: 1.1362 - val_loss: 1.8793 - val_mae: 1.2093\n",
      "Epoch 37/100\n",
      "6/6 [==============================] - 0s 58ms/step - loss: 1.5647 - mae: 1.1193 - val_loss: 1.8795 - val_mae: 1.2093\n",
      "Epoch 38/100\n",
      "6/6 [==============================] - 0s 28ms/step - loss: 1.5225 - mae: 1.1024 - val_loss: 1.8798 - val_mae: 1.2094\n",
      "Epoch 39/100\n",
      "6/6 [==============================] - 0s 28ms/step - loss: 1.4780 - mae: 1.0845 - val_loss: 1.8800 - val_mae: 1.2094\n",
      "Epoch 40/100\n",
      "6/6 [==============================] - 0s 22ms/step - loss: 1.4337 - mae: 1.0663 - val_loss: 1.8802 - val_mae: 1.2095\n",
      "Epoch 41/100\n",
      "6/6 [==============================] - 0s 41ms/step - loss: 1.3898 - mae: 1.0478 - val_loss: 1.8804 - val_mae: 1.2095\n",
      "Epoch 42/100\n",
      "6/6 [==============================] - 0s 22ms/step - loss: 1.3449 - mae: 1.0289 - val_loss: 1.8807 - val_mae: 1.2096\n",
      "Epoch 43/100\n",
      "6/6 [==============================] - 0s 22ms/step - loss: 1.2994 - mae: 1.0095 - val_loss: 1.8809 - val_mae: 1.2097\n",
      "Epoch 44/100\n",
      "6/6 [==============================] - 0s 31ms/step - loss: 1.2559 - mae: 0.9902 - val_loss: 1.8811 - val_mae: 1.2097\n",
      "Epoch 45/100\n",
      "6/6 [==============================] - 0s 39ms/step - loss: 1.2104 - mae: 0.9698 - val_loss: 1.8814 - val_mae: 1.2098\n",
      "Epoch 46/100\n",
      "6/6 [==============================] - 0s 28ms/step - loss: 1.1661 - mae: 0.9498 - val_loss: 1.8817 - val_mae: 1.2099\n",
      "Epoch 47/100\n",
      "6/6 [==============================] - 0s 22ms/step - loss: 1.1212 - mae: 0.9295 - val_loss: 1.8819 - val_mae: 1.2099\n",
      "Epoch 48/100\n",
      "6/6 [==============================] - 0s 29ms/step - loss: 1.0766 - mae: 0.9083 - val_loss: 1.8821 - val_mae: 1.2100\n",
      "Epoch 49/100\n",
      "6/6 [==============================] - 0s 19ms/step - loss: 1.0346 - mae: 0.8879 - val_loss: 1.8823 - val_mae: 1.2100\n",
      "Epoch 50/100\n",
      "6/6 [==============================] - 0s 22ms/step - loss: 0.9912 - mae: 0.8665 - val_loss: 1.8825 - val_mae: 1.2101\n",
      "Epoch 51/100\n",
      "6/6 [==============================] - 0s 22ms/step - loss: 0.9487 - mae: 0.8456 - val_loss: 1.8828 - val_mae: 1.2101\n",
      "Epoch 52/100\n",
      "6/6 [==============================] - 0s 42ms/step - loss: 0.9081 - mae: 0.8240 - val_loss: 1.8830 - val_mae: 1.2102\n",
      "Epoch 53/100\n",
      "6/6 [==============================] - 0s 25ms/step - loss: 0.8657 - mae: 0.8026 - val_loss: 1.8832 - val_mae: 1.2102\n",
      "Epoch 54/100\n",
      "6/6 [==============================] - 0s 25ms/step - loss: 0.8264 - mae: 0.7812 - val_loss: 1.8835 - val_mae: 1.2103\n",
      "Epoch 55/100\n",
      "6/6 [==============================] - 0s 27ms/step - loss: 0.7859 - mae: 0.7593 - val_loss: 1.8837 - val_mae: 1.2104\n",
      "Epoch 56/100\n",
      "6/6 [==============================] - 0s 22ms/step - loss: 0.7475 - mae: 0.7380 - val_loss: 1.8839 - val_mae: 1.2104\n",
      "Epoch 57/100\n",
      "6/6 [==============================] - 0s 25ms/step - loss: 0.7123 - mae: 0.7171 - val_loss: 1.8841 - val_mae: 1.2104\n",
      "Epoch 58/100\n",
      "6/6 [==============================] - 0s 22ms/step - loss: 0.6732 - mae: 0.6951 - val_loss: 1.8843 - val_mae: 1.2105\n",
      "Epoch 59/100\n",
      "6/6 [==============================] - 0s 25ms/step - loss: 0.6383 - mae: 0.6738 - val_loss: 1.8845 - val_mae: 1.2105\n",
      "Epoch 60/100\n",
      "6/6 [==============================] - 0s 29ms/step - loss: 0.6044 - mae: 0.6527 - val_loss: 1.8847 - val_mae: 1.2106\n",
      "Epoch 61/100\n",
      "6/6 [==============================] - 0s 73ms/step - loss: 0.5712 - mae: 0.6316 - val_loss: 1.8849 - val_mae: 1.2106\n",
      "Epoch 62/100\n",
      "6/6 [==============================] - 0s 22ms/step - loss: 0.5382 - mae: 0.6107 - val_loss: 1.8851 - val_mae: 1.2107\n",
      "Epoch 63/100\n",
      "6/6 [==============================] - 0s 32ms/step - loss: 0.5091 - mae: 0.5905 - val_loss: 1.8852 - val_mae: 1.2107\n",
      "Epoch 64/100\n",
      "6/6 [==============================] - 0s 22ms/step - loss: 0.4780 - mae: 0.5702 - val_loss: 1.8854 - val_mae: 1.2108\n",
      "Epoch 65/100\n",
      "6/6 [==============================] - 0s 22ms/step - loss: 0.4492 - mae: 0.5498 - val_loss: 1.8856 - val_mae: 1.2108\n",
      "Epoch 66/100\n",
      "6/6 [==============================] - 0s 22ms/step - loss: 0.4220 - mae: 0.5302 - val_loss: 1.8858 - val_mae: 1.2109\n",
      "Epoch 67/100\n",
      "6/6 [==============================] - 0s 21ms/step - loss: 0.3960 - mae: 0.5108 - val_loss: 1.8860 - val_mae: 1.2109\n",
      "Epoch 68/100\n",
      "6/6 [==============================] - 0s 28ms/step - loss: 0.3707 - mae: 0.4917 - val_loss: 1.8862 - val_mae: 1.2110\n",
      "Epoch 69/100\n",
      "6/6 [==============================] - 0s 19ms/step - loss: 0.3465 - mae: 0.4727 - val_loss: 1.8864 - val_mae: 1.2110\n",
      "Epoch 70/100\n",
      "6/6 [==============================] - 0s 22ms/step - loss: 0.3229 - mae: 0.4539 - val_loss: 1.8865 - val_mae: 1.2110\n",
      "Epoch 71/100\n",
      "6/6 [==============================] - 0s 24ms/step - loss: 0.3014 - mae: 0.4362 - val_loss: 1.8867 - val_mae: 1.2111\n",
      "Epoch 72/100\n",
      "6/6 [==============================] - 0s 28ms/step - loss: 0.2804 - mae: 0.4183 - val_loss: 1.8868 - val_mae: 1.2111\n",
      "Epoch 73/100\n",
      "6/6 [==============================] - 0s 22ms/step - loss: 0.2601 - mae: 0.4008 - val_loss: 1.8870 - val_mae: 1.2111\n",
      "Epoch 74/100\n",
      "6/6 [==============================] - 0s 25ms/step - loss: 0.2420 - mae: 0.3844 - val_loss: 1.8871 - val_mae: 1.2112\n",
      "Epoch 75/100\n",
      "6/6 [==============================] - 0s 27ms/step - loss: 0.2239 - mae: 0.3678 - val_loss: 1.8873 - val_mae: 1.2112\n",
      "Epoch 76/100\n",
      "6/6 [==============================] - 0s 22ms/step - loss: 0.2076 - mae: 0.3518 - val_loss: 1.8874 - val_mae: 1.2113\n",
      "Epoch 77/100\n",
      "6/6 [==============================] - 0s 22ms/step - loss: 0.1923 - mae: 0.3365 - val_loss: 1.8876 - val_mae: 1.2113\n",
      "Epoch 78/100\n",
      "6/6 [==============================] - 0s 22ms/step - loss: 0.1777 - mae: 0.3216 - val_loss: 1.8877 - val_mae: 1.2113\n",
      "Epoch 79/100\n",
      "6/6 [==============================] - 0s 19ms/step - loss: 0.1631 - mae: 0.3065 - val_loss: 1.8878 - val_mae: 1.2114\n",
      "Epoch 80/100\n",
      "6/6 [==============================] - 0s 22ms/step - loss: 0.1498 - mae: 0.2922 - val_loss: 1.8880 - val_mae: 1.2114\n",
      "Epoch 81/100\n",
      "6/6 [==============================] - 0s 25ms/step - loss: 0.1379 - mae: 0.2785 - val_loss: 1.8881 - val_mae: 1.2114\n",
      "Epoch 82/100\n",
      "6/6 [==============================] - 0s 30ms/step - loss: 0.1269 - mae: 0.2654 - val_loss: 1.8882 - val_mae: 1.2114\n",
      "Epoch 83/100\n",
      "6/6 [==============================] - 0s 19ms/step - loss: 0.1160 - mae: 0.2529 - val_loss: 1.8883 - val_mae: 1.2115\n",
      "Epoch 84/100\n",
      "6/6 [==============================] - 0s 19ms/step - loss: 0.1060 - mae: 0.2400 - val_loss: 1.8884 - val_mae: 1.2115\n",
      "Epoch 85/100\n",
      "6/6 [==============================] - 0s 19ms/step - loss: 0.0970 - mae: 0.2286 - val_loss: 1.8886 - val_mae: 1.2115\n",
      "Epoch 86/100\n",
      "6/6 [==============================] - 0s 19ms/step - loss: 0.0884 - mae: 0.2169 - val_loss: 1.8887 - val_mae: 1.2115\n",
      "Epoch 87/100\n",
      "6/6 [==============================] - 0s 21ms/step - loss: 0.0807 - mae: 0.2058 - val_loss: 1.8888 - val_mae: 1.2116\n",
      "Epoch 88/100\n",
      "6/6 [==============================] - 0s 25ms/step - loss: 0.0733 - mae: 0.1953 - val_loss: 1.8889 - val_mae: 1.2116\n",
      "Epoch 89/100\n",
      "6/6 [==============================] - 0s 22ms/step - loss: 0.0664 - mae: 0.1848 - val_loss: 1.8890 - val_mae: 1.2116\n",
      "Epoch 90/100\n",
      "6/6 [==============================] - 1s 58ms/step - loss: 0.0601 - mae: 0.1749 - val_loss: 1.8891 - val_mae: 1.2116\n",
      "Epoch 91/100\n",
      "6/6 [==============================] - 0s 28ms/step - loss: 0.0545 - mae: 0.1654 - val_loss: 1.8892 - val_mae: 1.2117\n",
      "Epoch 92/100\n",
      "6/6 [==============================] - 0s 22ms/step - loss: 0.0497 - mae: 0.1570 - val_loss: 1.8892 - val_mae: 1.2117\n",
      "Epoch 93/100\n",
      "6/6 [==============================] - 0s 25ms/step - loss: 0.0444 - mae: 0.1478 - val_loss: 1.8893 - val_mae: 1.2117\n",
      "Epoch 94/100\n",
      "6/6 [==============================] - 0s 25ms/step - loss: 0.0400 - mae: 0.1396 - val_loss: 1.8894 - val_mae: 1.2117\n",
      "Epoch 95/100\n",
      "6/6 [==============================] - 0s 22ms/step - loss: 0.0359 - mae: 0.1315 - val_loss: 1.8895 - val_mae: 1.2117\n",
      "Epoch 96/100\n",
      "6/6 [==============================] - 0s 19ms/step - loss: 0.0323 - mae: 0.1242 - val_loss: 1.8896 - val_mae: 1.2118\n",
      "Epoch 97/100\n",
      "6/6 [==============================] - 0s 57ms/step - loss: 0.0289 - mae: 0.1169 - val_loss: 1.8896 - val_mae: 1.2118\n",
      "Epoch 98/100\n",
      "6/6 [==============================] - 0s 22ms/step - loss: 0.0261 - mae: 0.1104 - val_loss: 1.8897 - val_mae: 1.2118\n",
      "Epoch 99/100\n",
      "6/6 [==============================] - 0s 27ms/step - loss: 0.0233 - mae: 0.1037 - val_loss: 1.8898 - val_mae: 1.2118\n",
      "Epoch 100/100\n",
      "6/6 [==============================] - 0s 34ms/step - loss: 0.0207 - mae: 0.0974 - val_loss: 1.8898 - val_mae: 1.2118\n"
     ]
    },
    {
     "data": {
      "text/plain": "<keras.src.callbacks.History at 0x1e6a46d0790>"
     },
     "execution_count": 68,
     "metadata": {},
     "output_type": "execute_result"
    }
   ],
   "source": [
    "model.fit([train_data['Participant_ID'], train_data['Food']], train_data['Dessert'], epochs=100, batch_size=16,\n",
    "          validation_split=0.2)"
   ],
   "metadata": {
    "collapsed": false,
    "ExecuteTime": {
     "end_time": "2023-12-11T11:11:28.741012200Z",
     "start_time": "2023-12-11T11:11:06.112311200Z"
    }
   },
   "id": "48eaaefaf4a69980"
  },
  {
   "cell_type": "markdown",
   "source": [
    "## Evaluasi Model"
   ],
   "metadata": {
    "collapsed": false
   },
   "id": "e0eacbf1d2632d00"
  },
  {
   "cell_type": "code",
   "execution_count": 69,
   "outputs": [
    {
     "name": "stdout",
     "output_type": "stream",
     "text": [
      "1/1 [==============================] - 0s 93ms/step - loss: 2.2065 - mae: 1.3351\n",
      "Mean Squared Error on Test Data: 2.2064783573150635\n",
      "Mean Absolute Error on Test Data: 1.335060715675354\n"
     ]
    }
   ],
   "source": [
    "# Evaluasi model pada data uji\n",
    "evaluation = model.evaluate([test_data['Participant_ID'], test_data['Food']], test_data['Dessert'])\n",
    "\n",
    "# Menampilkan metrik hasil evaluasi\n",
    "print(\"Mean Squared Error on Test Data:\", evaluation[0])\n",
    "print(\"Mean Absolute Error on Test Data:\", evaluation[1])"
   ],
   "metadata": {
    "collapsed": false,
    "ExecuteTime": {
     "end_time": "2023-12-11T11:11:29.589185200Z",
     "start_time": "2023-12-11T11:11:28.694125800Z"
    }
   },
   "id": "527dd4b1c144162d"
  },
  {
   "cell_type": "code",
   "execution_count": 70,
   "outputs": [
    {
     "name": "stdout",
     "output_type": "stream",
     "text": [
      "1/1 [==============================] - 0s 267ms/step\n",
      "Prediction: 0.005384405143558979, Actual: 1\n",
      "Prediction: -0.005131520330905914, Actual: 2\n",
      "Prediction: -0.0004175888607278466, Actual: 1\n",
      "Prediction: 0.002223396673798561, Actual: 1\n",
      "Prediction: 0.0017025036504492164, Actual: 1\n"
     ]
    }
   ],
   "source": [
    "# Mendapatkan prediksi pada data uji\n",
    "predictions = model.predict([test_data['Participant_ID'], test_data['Food']])\n",
    "\n",
    "# Menampilkan beberapa hasil prediksi\n",
    "for i in range(5):\n",
    "    print(f\"Prediction: {predictions[i][0]}, Actual: {test_data['Dessert'].iloc[i]}\")"
   ],
   "metadata": {
    "collapsed": false,
    "ExecuteTime": {
     "end_time": "2023-12-11T11:11:30.299196500Z",
     "start_time": "2023-12-11T11:11:29.604813800Z"
    }
   },
   "id": "551167e98ecd355e"
  },
  {
   "cell_type": "markdown",
   "source": [
    "## Export Model"
   ],
   "metadata": {
    "collapsed": false
   },
   "id": "11a4d1c0607baf66"
  },
  {
   "cell_type": "code",
   "execution_count": 71,
   "outputs": [
    {
     "name": "stderr",
     "output_type": "stream",
     "text": [
      "C:\\Users\\Administrator\\AppData\\Local\\Programs\\Python\\Python311\\Lib\\site-packages\\keras\\src\\engine\\training.py:3079: UserWarning: You are saving your model as an HDF5 file via `model.save()`. This file format is considered legacy. We recommend using instead the native Keras format, e.g. `model.save('my_model.keras')`.\n",
      "  saving_api.save_model(\n"
     ]
    }
   ],
   "source": [
    "# Simpan model ke dalam format HDF5\n",
    "model_h5 = model.save(\"final_model/h5/model.h5\")"
   ],
   "metadata": {
    "collapsed": false,
    "ExecuteTime": {
     "end_time": "2023-12-11T11:11:30.490835500Z",
     "start_time": "2023-12-11T11:11:30.299196500Z"
    }
   },
   "id": "470dc8c396cd4ee9"
  },
  {
   "cell_type": "code",
   "execution_count": 73,
   "outputs": [
    {
     "name": "stdout",
     "output_type": "stream",
     "text": [
      "INFO:tensorflow:Assets written to: C:\\Users\\ADMINI~1\\AppData\\Local\\Temp\\tmpa2iz8o9n\\assets\n"
     ]
    },
    {
     "name": "stderr",
     "output_type": "stream",
     "text": [
      "INFO:tensorflow:Assets written to: C:\\Users\\ADMINI~1\\AppData\\Local\\Temp\\tmpa2iz8o9n\\assets\n"
     ]
    }
   ],
   "source": [
    "# Load model from the saved file\n",
    "model = tf.keras.models.load_model(\"final_model/h5/model.h5\")\n",
    "\n",
    "# Convert the Keras model to a TensorFlow Lite model\n",
    "converter = tf.lite.TFLiteConverter.from_keras_model(model)\n",
    "tflite_model = converter.convert()\n",
    "\n",
    "# Save the TensorFlow Lite model to a file\n",
    "with open(\"final_model/tflite/model.tflite\", \"wb\") as f:\n",
    "    f.write(tflite_model)"
   ],
   "metadata": {
    "collapsed": false,
    "ExecuteTime": {
     "end_time": "2023-12-11T11:13:23.515279200Z",
     "start_time": "2023-12-11T11:13:17.488169Z"
    }
   },
   "id": "b165b5bade552f8d"
  },
  {
   "cell_type": "code",
   "execution_count": null,
   "outputs": [],
   "source": [],
   "metadata": {
    "collapsed": false,
    "ExecuteTime": {
     "start_time": "2023-12-11T11:11:35.287513900Z"
    }
   },
   "id": "c39a26234776dfe9"
  }
 ],
 "metadata": {
  "kernelspec": {
   "display_name": "Python 3",
   "language": "python",
   "name": "python3"
  },
  "language_info": {
   "codemirror_mode": {
    "name": "ipython",
    "version": 2
   },
   "file_extension": ".py",
   "mimetype": "text/x-python",
   "name": "python",
   "nbconvert_exporter": "python",
   "pygments_lexer": "ipython2",
   "version": "2.7.6"
  }
 },
 "nbformat": 4,
 "nbformat_minor": 5
}
