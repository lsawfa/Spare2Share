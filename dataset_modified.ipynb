{
 "cells": [
  {
   "cell_type": "code",
   "execution_count": 2,
   "outputs": [],
   "source": [
    "import pandas as pd\n",
    "import numpy as np\n",
    "\n",
    "df1 = pd.read_csv('food_coded.csv')\n",
    "df2 = pd.read_csv('Food_Preference.csv')\n",
    "\n",
    "columns_to_drop = ['GPA', 'calories_chicken', 'calories_day', 'calories_scone', 'comfort_food_reasons', 'comfort_food_reasons_coded', 'cook', 'comfort_food_reasons_coded.1', 'diet_current', 'diet_current_coded', 'eating_changes', 'eating_changes_coded', 'eating_changes_coded1', 'eating_out', 'employment', 'exercise', 'father_education', 'father_profession', 'fav_cuisine_coded', 'fries', 'healthy_feeling', 'ideal_diet', 'ideal_diet_coded', 'income', 'life_rewarding', 'meals_dinner_friend', 'mother_education', 'mother_profession', 'nutritional_check', 'on_off_campus', 'parents_cook', 'pay_meal_out', 'self_perception_weight', 'sports', 'tortilla_calories', 'turkey_calories', 'type_sports', 'vitamins', 'waffle_calories']\n",
    "\n",
    "df1 = df1.drop(columns=columns_to_drop)\n",
    "\n",
    "columns_to_drop = ['Timestamp']\n",
    "\n",
    "df2 = df2.drop(columns=columns_to_drop)"
   ],
   "metadata": {
    "collapsed": false,
    "ExecuteTime": {
     "end_time": "2023-12-04T00:32:50.109600600Z",
     "start_time": "2023-12-04T00:32:47.562772900Z"
    }
   },
   "id": "ceb9653ac47e9819"
  },
  {
   "cell_type": "code",
   "execution_count": 3,
   "outputs": [
    {
     "data": {
      "text/plain": "   Gender  breakfast  coffee                      comfort_food  cuisine  \\\n0    Male          1       1                              none      NaN   \n1  Female          1       2       chocolate, chips, ice cream      1.0   \n2  Female          1       2   frozen yogurt, pizza, fast food      3.0   \n3  Female          1       2  Pizza, Mac and cheese, ice cream      2.0   \n4  Female          1       2      Ice cream, chocolate, chips       2.0   \n\n   drink  ethnic_food     fav_cuisine  fav_food  \\\n0    1.0            1  Arabic cuisine       1.0   \n1    2.0            4         Italian       1.0   \n2    1.0            5         italian       3.0   \n3    2.0            5        Turkish        1.0   \n4    2.0            4        Italian        3.0   \n\n                                 food_childhood  ...  greek_food  \\\n0                            rice  and chicken   ...           5   \n1  chicken and biscuits, beef soup, baked beans  ...           4   \n2                  mac and cheese, pizza, tacos  ...           5   \n3                 Beef stroganoff, tacos, pizza  ...           5   \n4                 Pasta, chicken tender, pizza   ...           4   \n\n                                        healthy_meal  indian_food  \\\n0                                    looks not oily             5   \n1  Grains, Veggies, (more of grains and veggies),...            4   \n2  usually includes natural ingredients; nonproce...            5   \n3           Fresh fruits& vegetables, organic meats             5   \n4  A lean protein such as grilled chicken, green ...            2   \n\n  italian_food  marital_status  persian_food  soup  thai_food  veggies_day  \\\n0            5             1.0           5.0   1.0          1            5   \n1            4             2.0           4.0   1.0          2            4   \n2            5             2.0           5.0   1.0          5            5   \n3            5             2.0           5.0   1.0          5            3   \n4            5             1.0           2.0   1.0          4            4   \n\n                     weight  \n0                       187  \n1                       155  \n2  I'm not answering this.   \n3             Not sure, 240  \n4                       190  \n\n[5 rows x 22 columns]",
      "text/html": "<div>\n<style scoped>\n    .dataframe tbody tr th:only-of-type {\n        vertical-align: middle;\n    }\n\n    .dataframe tbody tr th {\n        vertical-align: top;\n    }\n\n    .dataframe thead th {\n        text-align: right;\n    }\n</style>\n<table border=\"1\" class=\"dataframe\">\n  <thead>\n    <tr style=\"text-align: right;\">\n      <th></th>\n      <th>Gender</th>\n      <th>breakfast</th>\n      <th>coffee</th>\n      <th>comfort_food</th>\n      <th>cuisine</th>\n      <th>drink</th>\n      <th>ethnic_food</th>\n      <th>fav_cuisine</th>\n      <th>fav_food</th>\n      <th>food_childhood</th>\n      <th>...</th>\n      <th>greek_food</th>\n      <th>healthy_meal</th>\n      <th>indian_food</th>\n      <th>italian_food</th>\n      <th>marital_status</th>\n      <th>persian_food</th>\n      <th>soup</th>\n      <th>thai_food</th>\n      <th>veggies_day</th>\n      <th>weight</th>\n    </tr>\n  </thead>\n  <tbody>\n    <tr>\n      <th>0</th>\n      <td>Male</td>\n      <td>1</td>\n      <td>1</td>\n      <td>none</td>\n      <td>NaN</td>\n      <td>1.0</td>\n      <td>1</td>\n      <td>Arabic cuisine</td>\n      <td>1.0</td>\n      <td>rice  and chicken</td>\n      <td>...</td>\n      <td>5</td>\n      <td>looks not oily</td>\n      <td>5</td>\n      <td>5</td>\n      <td>1.0</td>\n      <td>5.0</td>\n      <td>1.0</td>\n      <td>1</td>\n      <td>5</td>\n      <td>187</td>\n    </tr>\n    <tr>\n      <th>1</th>\n      <td>Female</td>\n      <td>1</td>\n      <td>2</td>\n      <td>chocolate, chips, ice cream</td>\n      <td>1.0</td>\n      <td>2.0</td>\n      <td>4</td>\n      <td>Italian</td>\n      <td>1.0</td>\n      <td>chicken and biscuits, beef soup, baked beans</td>\n      <td>...</td>\n      <td>4</td>\n      <td>Grains, Veggies, (more of grains and veggies),...</td>\n      <td>4</td>\n      <td>4</td>\n      <td>2.0</td>\n      <td>4.0</td>\n      <td>1.0</td>\n      <td>2</td>\n      <td>4</td>\n      <td>155</td>\n    </tr>\n    <tr>\n      <th>2</th>\n      <td>Female</td>\n      <td>1</td>\n      <td>2</td>\n      <td>frozen yogurt, pizza, fast food</td>\n      <td>3.0</td>\n      <td>1.0</td>\n      <td>5</td>\n      <td>italian</td>\n      <td>3.0</td>\n      <td>mac and cheese, pizza, tacos</td>\n      <td>...</td>\n      <td>5</td>\n      <td>usually includes natural ingredients; nonproce...</td>\n      <td>5</td>\n      <td>5</td>\n      <td>2.0</td>\n      <td>5.0</td>\n      <td>1.0</td>\n      <td>5</td>\n      <td>5</td>\n      <td>I'm not answering this.</td>\n    </tr>\n    <tr>\n      <th>3</th>\n      <td>Female</td>\n      <td>1</td>\n      <td>2</td>\n      <td>Pizza, Mac and cheese, ice cream</td>\n      <td>2.0</td>\n      <td>2.0</td>\n      <td>5</td>\n      <td>Turkish</td>\n      <td>1.0</td>\n      <td>Beef stroganoff, tacos, pizza</td>\n      <td>...</td>\n      <td>5</td>\n      <td>Fresh fruits&amp; vegetables, organic meats</td>\n      <td>5</td>\n      <td>5</td>\n      <td>2.0</td>\n      <td>5.0</td>\n      <td>1.0</td>\n      <td>5</td>\n      <td>3</td>\n      <td>Not sure, 240</td>\n    </tr>\n    <tr>\n      <th>4</th>\n      <td>Female</td>\n      <td>1</td>\n      <td>2</td>\n      <td>Ice cream, chocolate, chips</td>\n      <td>2.0</td>\n      <td>2.0</td>\n      <td>4</td>\n      <td>Italian</td>\n      <td>3.0</td>\n      <td>Pasta, chicken tender, pizza</td>\n      <td>...</td>\n      <td>4</td>\n      <td>A lean protein such as grilled chicken, green ...</td>\n      <td>2</td>\n      <td>5</td>\n      <td>1.0</td>\n      <td>2.0</td>\n      <td>1.0</td>\n      <td>4</td>\n      <td>4</td>\n      <td>190</td>\n    </tr>\n  </tbody>\n</table>\n<p>5 rows × 22 columns</p>\n</div>"
     },
     "execution_count": 3,
     "metadata": {},
     "output_type": "execute_result"
    }
   ],
   "source": [
    "df1.head()"
   ],
   "metadata": {
    "collapsed": false,
    "ExecuteTime": {
     "end_time": "2023-12-04T00:32:50.569672700Z",
     "start_time": "2023-12-04T00:32:50.109600600Z"
    }
   },
   "id": "777fd08b467c0a5b"
  },
  {
   "cell_type": "code",
   "execution_count": 4,
   "outputs": [
    {
     "data": {
      "text/plain": "  Participant_ID  Gender Nationality  Age              Food  \\\n0         FPS001    Male      Indian   24  Traditional food   \n1         FPS002  Female      Indian   22      Western Food   \n2         FPS003    Male      Indian   31      Western Food   \n3         FPS004  Female      Indian   25  Traditional food   \n4         FPS005    Male      Indian   27  Traditional food   \n\n               Juice Dessert  \n0        Fresh Juice   Maybe  \n1  Carbonated drinks     Yes  \n2        Fresh Juice   Maybe  \n3        Fresh Juice   Maybe  \n4        Fresh Juice   Maybe  ",
      "text/html": "<div>\n<style scoped>\n    .dataframe tbody tr th:only-of-type {\n        vertical-align: middle;\n    }\n\n    .dataframe tbody tr th {\n        vertical-align: top;\n    }\n\n    .dataframe thead th {\n        text-align: right;\n    }\n</style>\n<table border=\"1\" class=\"dataframe\">\n  <thead>\n    <tr style=\"text-align: right;\">\n      <th></th>\n      <th>Participant_ID</th>\n      <th>Gender</th>\n      <th>Nationality</th>\n      <th>Age</th>\n      <th>Food</th>\n      <th>Juice</th>\n      <th>Dessert</th>\n    </tr>\n  </thead>\n  <tbody>\n    <tr>\n      <th>0</th>\n      <td>FPS001</td>\n      <td>Male</td>\n      <td>Indian</td>\n      <td>24</td>\n      <td>Traditional food</td>\n      <td>Fresh Juice</td>\n      <td>Maybe</td>\n    </tr>\n    <tr>\n      <th>1</th>\n      <td>FPS002</td>\n      <td>Female</td>\n      <td>Indian</td>\n      <td>22</td>\n      <td>Western Food</td>\n      <td>Carbonated drinks</td>\n      <td>Yes</td>\n    </tr>\n    <tr>\n      <th>2</th>\n      <td>FPS003</td>\n      <td>Male</td>\n      <td>Indian</td>\n      <td>31</td>\n      <td>Western Food</td>\n      <td>Fresh Juice</td>\n      <td>Maybe</td>\n    </tr>\n    <tr>\n      <th>3</th>\n      <td>FPS004</td>\n      <td>Female</td>\n      <td>Indian</td>\n      <td>25</td>\n      <td>Traditional food</td>\n      <td>Fresh Juice</td>\n      <td>Maybe</td>\n    </tr>\n    <tr>\n      <th>4</th>\n      <td>FPS005</td>\n      <td>Male</td>\n      <td>Indian</td>\n      <td>27</td>\n      <td>Traditional food</td>\n      <td>Fresh Juice</td>\n      <td>Maybe</td>\n    </tr>\n  </tbody>\n</table>\n</div>"
     },
     "execution_count": 4,
     "metadata": {},
     "output_type": "execute_result"
    }
   ],
   "source": [
    "df2.head()"
   ],
   "metadata": {
    "collapsed": false,
    "ExecuteTime": {
     "end_time": "2023-12-04T00:32:50.772813300Z",
     "start_time": "2023-12-04T00:32:50.486246300Z"
    }
   },
   "id": "8a7c87eca320f456"
  },
  {
   "cell_type": "code",
   "execution_count": 5,
   "outputs": [
    {
     "data": {
      "text/plain": "   Gender  breakfast  coffee                      comfort_food  cuisine  \\\n0    Male          1       1                              none      NaN   \n1  Female          1       2       chocolate, chips, ice cream      1.0   \n2  Female          1       2   frozen yogurt, pizza, fast food      3.0   \n3  Female          1       2  Pizza, Mac and cheese, ice cream      2.0   \n4  Female          1       2      Ice cream, chocolate, chips       2.0   \n\n   drink  ethnic_food     fav_cuisine  fav_food  \\\n0    1.0            1  Arabic cuisine       1.0   \n1    2.0            4         Italian       1.0   \n2    1.0            5         italian       3.0   \n3    2.0            5        Turkish        1.0   \n4    2.0            4        Italian        3.0   \n\n                                 food_childhood  ...  \\\n0                            rice  and chicken   ...   \n1  chicken and biscuits, beef soup, baked beans  ...   \n2                  mac and cheese, pizza, tacos  ...   \n3                 Beef stroganoff, tacos, pizza  ...   \n4                 Pasta, chicken tender, pizza   ...   \n\n                                        healthy_meal  indian_food  \\\n0                                    looks not oily             5   \n1  Grains, Veggies, (more of grains and veggies),...            4   \n2  usually includes natural ingredients; nonproce...            5   \n3           Fresh fruits& vegetables, organic meats             5   \n4  A lean protein such as grilled chicken, green ...            2   \n\n   italian_food marital_status  persian_food  soup  thai_food  veggies_day  \\\n0             5            1.0           5.0   1.0          1            5   \n1             4            2.0           4.0   1.0          2            4   \n2             5            2.0           5.0   1.0          5            5   \n3             5            2.0           5.0   1.0          5            3   \n4             5            1.0           2.0   1.0          4            4   \n\n                     weight  Age  \n0                       187   15  \n1                       155   17  \n2  I'm not answering this.    16  \n3             Not sure, 240   17  \n4                       190   17  \n\n[5 rows x 23 columns]",
      "text/html": "<div>\n<style scoped>\n    .dataframe tbody tr th:only-of-type {\n        vertical-align: middle;\n    }\n\n    .dataframe tbody tr th {\n        vertical-align: top;\n    }\n\n    .dataframe thead th {\n        text-align: right;\n    }\n</style>\n<table border=\"1\" class=\"dataframe\">\n  <thead>\n    <tr style=\"text-align: right;\">\n      <th></th>\n      <th>Gender</th>\n      <th>breakfast</th>\n      <th>coffee</th>\n      <th>comfort_food</th>\n      <th>cuisine</th>\n      <th>drink</th>\n      <th>ethnic_food</th>\n      <th>fav_cuisine</th>\n      <th>fav_food</th>\n      <th>food_childhood</th>\n      <th>...</th>\n      <th>healthy_meal</th>\n      <th>indian_food</th>\n      <th>italian_food</th>\n      <th>marital_status</th>\n      <th>persian_food</th>\n      <th>soup</th>\n      <th>thai_food</th>\n      <th>veggies_day</th>\n      <th>weight</th>\n      <th>Age</th>\n    </tr>\n  </thead>\n  <tbody>\n    <tr>\n      <th>0</th>\n      <td>Male</td>\n      <td>1</td>\n      <td>1</td>\n      <td>none</td>\n      <td>NaN</td>\n      <td>1.0</td>\n      <td>1</td>\n      <td>Arabic cuisine</td>\n      <td>1.0</td>\n      <td>rice  and chicken</td>\n      <td>...</td>\n      <td>looks not oily</td>\n      <td>5</td>\n      <td>5</td>\n      <td>1.0</td>\n      <td>5.0</td>\n      <td>1.0</td>\n      <td>1</td>\n      <td>5</td>\n      <td>187</td>\n      <td>15</td>\n    </tr>\n    <tr>\n      <th>1</th>\n      <td>Female</td>\n      <td>1</td>\n      <td>2</td>\n      <td>chocolate, chips, ice cream</td>\n      <td>1.0</td>\n      <td>2.0</td>\n      <td>4</td>\n      <td>Italian</td>\n      <td>1.0</td>\n      <td>chicken and biscuits, beef soup, baked beans</td>\n      <td>...</td>\n      <td>Grains, Veggies, (more of grains and veggies),...</td>\n      <td>4</td>\n      <td>4</td>\n      <td>2.0</td>\n      <td>4.0</td>\n      <td>1.0</td>\n      <td>2</td>\n      <td>4</td>\n      <td>155</td>\n      <td>17</td>\n    </tr>\n    <tr>\n      <th>2</th>\n      <td>Female</td>\n      <td>1</td>\n      <td>2</td>\n      <td>frozen yogurt, pizza, fast food</td>\n      <td>3.0</td>\n      <td>1.0</td>\n      <td>5</td>\n      <td>italian</td>\n      <td>3.0</td>\n      <td>mac and cheese, pizza, tacos</td>\n      <td>...</td>\n      <td>usually includes natural ingredients; nonproce...</td>\n      <td>5</td>\n      <td>5</td>\n      <td>2.0</td>\n      <td>5.0</td>\n      <td>1.0</td>\n      <td>5</td>\n      <td>5</td>\n      <td>I'm not answering this.</td>\n      <td>16</td>\n    </tr>\n    <tr>\n      <th>3</th>\n      <td>Female</td>\n      <td>1</td>\n      <td>2</td>\n      <td>Pizza, Mac and cheese, ice cream</td>\n      <td>2.0</td>\n      <td>2.0</td>\n      <td>5</td>\n      <td>Turkish</td>\n      <td>1.0</td>\n      <td>Beef stroganoff, tacos, pizza</td>\n      <td>...</td>\n      <td>Fresh fruits&amp; vegetables, organic meats</td>\n      <td>5</td>\n      <td>5</td>\n      <td>2.0</td>\n      <td>5.0</td>\n      <td>1.0</td>\n      <td>5</td>\n      <td>3</td>\n      <td>Not sure, 240</td>\n      <td>17</td>\n    </tr>\n    <tr>\n      <th>4</th>\n      <td>Female</td>\n      <td>1</td>\n      <td>2</td>\n      <td>Ice cream, chocolate, chips</td>\n      <td>2.0</td>\n      <td>2.0</td>\n      <td>4</td>\n      <td>Italian</td>\n      <td>3.0</td>\n      <td>Pasta, chicken tender, pizza</td>\n      <td>...</td>\n      <td>A lean protein such as grilled chicken, green ...</td>\n      <td>2</td>\n      <td>5</td>\n      <td>1.0</td>\n      <td>2.0</td>\n      <td>1.0</td>\n      <td>4</td>\n      <td>4</td>\n      <td>190</td>\n      <td>17</td>\n    </tr>\n  </tbody>\n</table>\n<p>5 rows × 23 columns</p>\n</div>"
     },
     "execution_count": 5,
     "metadata": {},
     "output_type": "execute_result"
    }
   ],
   "source": [
    "def generate_age(grade):\n",
    "    if grade == 1:\n",
    "        return np.random.choice([14, 15], size=1)[0]\n",
    "    elif grade == 2:\n",
    "        return np.random.choice([15, 16], size=1)[0]\n",
    "    elif grade == 3:\n",
    "        return np.random.choice([16, 17], size=1)[0]\n",
    "    elif grade == 4:\n",
    "        return np.random.choice([17, 18], size=1)[0]\n",
    "    else:\n",
    "        return np.nan \n",
    "\n",
    "df1['Age'] = df1['grade_level'].apply(generate_age)\n",
    "\n",
    "df1.head()\n"
   ],
   "metadata": {
    "collapsed": false,
    "ExecuteTime": {
     "end_time": "2023-12-04T00:32:51.347255600Z",
     "start_time": "2023-12-04T00:32:50.538419700Z"
    }
   },
   "id": "bb7ffdc9024a6161"
  },
  {
   "cell_type": "code",
   "execution_count": 6,
   "outputs": [],
   "source": [
    "columns_to_drop = ['grade_level']\n",
    "\n",
    "df1 = df1.drop(columns=columns_to_drop)"
   ],
   "metadata": {
    "collapsed": false,
    "ExecuteTime": {
     "end_time": "2023-12-04T00:32:52.760001400Z",
     "start_time": "2023-12-04T00:32:51.126682500Z"
    }
   },
   "id": "98a989a4703841cc"
  },
  {
   "cell_type": "code",
   "execution_count": 7,
   "outputs": [
    {
     "data": {
      "text/plain": "   Gender  breakfast  coffee                      comfort_food  cuisine  \\\n0    Male          1       1                              none      NaN   \n1  Female          1       2       chocolate, chips, ice cream      1.0   \n2  Female          1       2   frozen yogurt, pizza, fast food      3.0   \n3  Female          1       2  Pizza, Mac and cheese, ice cream      2.0   \n4  Female          1       2      Ice cream, chocolate, chips       2.0   \n\n   drink  ethnic_food     fav_cuisine  fav_food  \\\n0    1.0            1  Arabic cuisine       1.0   \n1    2.0            4         Italian       1.0   \n2    1.0            5         italian       3.0   \n3    2.0            5        Turkish        1.0   \n4    2.0            4        Italian        3.0   \n\n                                 food_childhood  ...  \\\n0                            rice  and chicken   ...   \n1  chicken and biscuits, beef soup, baked beans  ...   \n2                  mac and cheese, pizza, tacos  ...   \n3                 Beef stroganoff, tacos, pizza  ...   \n4                 Pasta, chicken tender, pizza   ...   \n\n                                        healthy_meal  indian_food  \\\n0                                    looks not oily             5   \n1  Grains, Veggies, (more of grains and veggies),...            4   \n2  usually includes natural ingredients; nonproce...            5   \n3           Fresh fruits& vegetables, organic meats             5   \n4  A lean protein such as grilled chicken, green ...            2   \n\n  italian_food  marital_status  persian_food  soup  thai_food  veggies_day  \\\n0            5             1.0           5.0   1.0          1            5   \n1            4             2.0           4.0   1.0          2            4   \n2            5             2.0           5.0   1.0          5            5   \n3            5             2.0           5.0   1.0          5            3   \n4            5             1.0           2.0   1.0          4            4   \n\n                     weight  Age  \n0                       187   15  \n1                       155   17  \n2  I'm not answering this.    16  \n3             Not sure, 240   17  \n4                       190   17  \n\n[5 rows x 22 columns]",
      "text/html": "<div>\n<style scoped>\n    .dataframe tbody tr th:only-of-type {\n        vertical-align: middle;\n    }\n\n    .dataframe tbody tr th {\n        vertical-align: top;\n    }\n\n    .dataframe thead th {\n        text-align: right;\n    }\n</style>\n<table border=\"1\" class=\"dataframe\">\n  <thead>\n    <tr style=\"text-align: right;\">\n      <th></th>\n      <th>Gender</th>\n      <th>breakfast</th>\n      <th>coffee</th>\n      <th>comfort_food</th>\n      <th>cuisine</th>\n      <th>drink</th>\n      <th>ethnic_food</th>\n      <th>fav_cuisine</th>\n      <th>fav_food</th>\n      <th>food_childhood</th>\n      <th>...</th>\n      <th>healthy_meal</th>\n      <th>indian_food</th>\n      <th>italian_food</th>\n      <th>marital_status</th>\n      <th>persian_food</th>\n      <th>soup</th>\n      <th>thai_food</th>\n      <th>veggies_day</th>\n      <th>weight</th>\n      <th>Age</th>\n    </tr>\n  </thead>\n  <tbody>\n    <tr>\n      <th>0</th>\n      <td>Male</td>\n      <td>1</td>\n      <td>1</td>\n      <td>none</td>\n      <td>NaN</td>\n      <td>1.0</td>\n      <td>1</td>\n      <td>Arabic cuisine</td>\n      <td>1.0</td>\n      <td>rice  and chicken</td>\n      <td>...</td>\n      <td>looks not oily</td>\n      <td>5</td>\n      <td>5</td>\n      <td>1.0</td>\n      <td>5.0</td>\n      <td>1.0</td>\n      <td>1</td>\n      <td>5</td>\n      <td>187</td>\n      <td>15</td>\n    </tr>\n    <tr>\n      <th>1</th>\n      <td>Female</td>\n      <td>1</td>\n      <td>2</td>\n      <td>chocolate, chips, ice cream</td>\n      <td>1.0</td>\n      <td>2.0</td>\n      <td>4</td>\n      <td>Italian</td>\n      <td>1.0</td>\n      <td>chicken and biscuits, beef soup, baked beans</td>\n      <td>...</td>\n      <td>Grains, Veggies, (more of grains and veggies),...</td>\n      <td>4</td>\n      <td>4</td>\n      <td>2.0</td>\n      <td>4.0</td>\n      <td>1.0</td>\n      <td>2</td>\n      <td>4</td>\n      <td>155</td>\n      <td>17</td>\n    </tr>\n    <tr>\n      <th>2</th>\n      <td>Female</td>\n      <td>1</td>\n      <td>2</td>\n      <td>frozen yogurt, pizza, fast food</td>\n      <td>3.0</td>\n      <td>1.0</td>\n      <td>5</td>\n      <td>italian</td>\n      <td>3.0</td>\n      <td>mac and cheese, pizza, tacos</td>\n      <td>...</td>\n      <td>usually includes natural ingredients; nonproce...</td>\n      <td>5</td>\n      <td>5</td>\n      <td>2.0</td>\n      <td>5.0</td>\n      <td>1.0</td>\n      <td>5</td>\n      <td>5</td>\n      <td>I'm not answering this.</td>\n      <td>16</td>\n    </tr>\n    <tr>\n      <th>3</th>\n      <td>Female</td>\n      <td>1</td>\n      <td>2</td>\n      <td>Pizza, Mac and cheese, ice cream</td>\n      <td>2.0</td>\n      <td>2.0</td>\n      <td>5</td>\n      <td>Turkish</td>\n      <td>1.0</td>\n      <td>Beef stroganoff, tacos, pizza</td>\n      <td>...</td>\n      <td>Fresh fruits&amp; vegetables, organic meats</td>\n      <td>5</td>\n      <td>5</td>\n      <td>2.0</td>\n      <td>5.0</td>\n      <td>1.0</td>\n      <td>5</td>\n      <td>3</td>\n      <td>Not sure, 240</td>\n      <td>17</td>\n    </tr>\n    <tr>\n      <th>4</th>\n      <td>Female</td>\n      <td>1</td>\n      <td>2</td>\n      <td>Ice cream, chocolate, chips</td>\n      <td>2.0</td>\n      <td>2.0</td>\n      <td>4</td>\n      <td>Italian</td>\n      <td>3.0</td>\n      <td>Pasta, chicken tender, pizza</td>\n      <td>...</td>\n      <td>A lean protein such as grilled chicken, green ...</td>\n      <td>2</td>\n      <td>5</td>\n      <td>1.0</td>\n      <td>2.0</td>\n      <td>1.0</td>\n      <td>4</td>\n      <td>4</td>\n      <td>190</td>\n      <td>17</td>\n    </tr>\n  </tbody>\n</table>\n<p>5 rows × 22 columns</p>\n</div>"
     },
     "execution_count": 7,
     "metadata": {},
     "output_type": "execute_result"
    }
   ],
   "source": [
    "df1.head()"
   ],
   "metadata": {
    "collapsed": false,
    "ExecuteTime": {
     "end_time": "2023-12-04T00:32:52.760001400Z",
     "start_time": "2023-12-04T00:32:52.650617800Z"
    }
   },
   "id": "b229f8baa8bbea16"
  },
  {
   "cell_type": "code",
   "execution_count": 8,
   "outputs": [
    {
     "data": {
      "text/plain": "Gender             0\nbreakfast          0\ncoffee             0\ncomfort_food       1\ncuisine           17\ndrink              2\nethnic_food        0\nfav_cuisine        2\nfav_food           2\nfood_childhood     1\nfruit_day          0\ngreek_food         0\nhealthy_meal       1\nindian_food        0\nitalian_food       0\nmarital_status     1\npersian_food       1\nsoup               1\nthai_food          0\nveggies_day        0\nweight             2\nAge                0\ndtype: int64"
     },
     "execution_count": 8,
     "metadata": {},
     "output_type": "execute_result"
    }
   ],
   "source": [
    "df1.isnull().sum()"
   ],
   "metadata": {
    "collapsed": false,
    "ExecuteTime": {
     "end_time": "2023-12-04T00:32:52.760001400Z",
     "start_time": "2023-12-04T00:32:52.650617800Z"
    }
   },
   "id": "5d18fb459c0ec4f1"
  },
  {
   "cell_type": "code",
   "execution_count": 9,
   "outputs": [],
   "source": [
    "df1['comfort_food'].fillna('None', inplace=True)\n",
    "df1['cuisine'].fillna(6, inplace=True)\n",
    "df1['drink'] = df1['drink'].apply(lambda x: np.random.choice([1, 2]) if pd.isnull(x) else x)"
   ],
   "metadata": {
    "collapsed": false,
    "ExecuteTime": {
     "end_time": "2023-12-04T00:32:52.900636800Z",
     "start_time": "2023-12-04T00:32:52.650617800Z"
    }
   },
   "id": "2157bb2859cd8902"
  },
  {
   "cell_type": "code",
   "execution_count": 10,
   "outputs": [],
   "source": [
    "def fill_missing_fav_cuisine(row):\n",
    "    if pd.isnull(row['fav_cuisine']):\n",
    "        if row['cuisine'] == 'American':\n",
    "            return 'American'\n",
    "        elif row['cuisine'] == 'Mexican.Spanish':\n",
    "            return np.random.choice(['Spanish', 'Mexican'], size=1)[0]\n",
    "        elif row['cuisine'] == 'Korean/Asian':\n",
    "            return np.random.choice(['Asian', 'Chinese', 'Thai', 'Nepal'], size=1)[0]\n",
    "        elif row['cuisine'] == 'Indian':\n",
    "            return 'Indian'\n",
    "        elif row['cuisine'] == 'other':\n",
    "            return np.random.choice(['Italian', 'French', 'Greek', 'Arabic', 'Turkish', 'African', 'Jamaican'], size=1)[0]\n",
    "    else:\n",
    "        return row['fav_cuisine']\n",
    "\n",
    "df1.loc[pd.isna(df1['fav_cuisine']), 'fav_cuisine'] = df1.apply(fill_missing_fav_cuisine, axis=1)\n",
    "df1['food_childhood'].fillna('None', inplace=True)"
   ],
   "metadata": {
    "collapsed": false,
    "ExecuteTime": {
     "end_time": "2023-12-04T00:32:52.916261800Z",
     "start_time": "2023-12-04T00:32:52.650617800Z"
    }
   },
   "id": "3e6023cd64dc76b3"
  },
  {
   "cell_type": "code",
   "execution_count": 11,
   "outputs": [
    {
     "name": "stderr",
     "output_type": "stream",
     "text": [
      "C:\\Users\\Administrator\\AppData\\Local\\Temp\\ipykernel_4256\\1926497547.py:3: FutureWarning: Setting an item of incompatible dtype is deprecated and will raise in a future error of pandas. Value 'None' has dtype incompatible with float64, please explicitly cast to a compatible dtype first.\n",
      "  df1['marital_status'].fillna('None', inplace=True)\n",
      "C:\\Users\\Administrator\\AppData\\Local\\Temp\\ipykernel_4256\\1926497547.py:4: FutureWarning: Setting an item of incompatible dtype is deprecated and will raise in a future error of pandas. Value 'None' has dtype incompatible with float64, please explicitly cast to a compatible dtype first.\n",
      "  df1['persian_food'].fillna('None', inplace=True)\n",
      "C:\\Users\\Administrator\\AppData\\Local\\Temp\\ipykernel_4256\\1926497547.py:5: FutureWarning: Setting an item of incompatible dtype is deprecated and will raise in a future error of pandas. Value 'None' has dtype incompatible with float64, please explicitly cast to a compatible dtype first.\n",
      "  df1['soup'].fillna('None', inplace=True)\n"
     ]
    }
   ],
   "source": [
    "df1['fav_cuisine'].fillna('None', inplace=True)\n",
    "df1['healthy_meal'].fillna('None', inplace=True)\n",
    "df1['marital_status'].fillna('None', inplace=True)\n",
    "df1['persian_food'].fillna('None', inplace=True)\n",
    "df1['soup'].fillna('None', inplace=True)\n",
    "df1.dropna(subset=['weight'], inplace=True)"
   ],
   "metadata": {
    "collapsed": false,
    "ExecuteTime": {
     "end_time": "2023-12-04T00:32:52.916261800Z",
     "start_time": "2023-12-04T00:32:52.650617800Z"
    }
   },
   "id": "32d9588711487bb6"
  },
  {
   "cell_type": "code",
   "execution_count": 12,
   "outputs": [
    {
     "data": {
      "text/plain": "Gender            0\nbreakfast         0\ncoffee            0\ncomfort_food      0\ncuisine           0\ndrink             0\nethnic_food       0\nfav_cuisine       0\nfav_food          1\nfood_childhood    0\nfruit_day         0\ngreek_food        0\nhealthy_meal      0\nindian_food       0\nitalian_food      0\nmarital_status    0\npersian_food      0\nsoup              0\nthai_food         0\nveggies_day       0\nweight            0\nAge               0\ndtype: int64"
     },
     "execution_count": 12,
     "metadata": {},
     "output_type": "execute_result"
    }
   ],
   "source": [
    "df1.isnull().sum()"
   ],
   "metadata": {
    "collapsed": false,
    "ExecuteTime": {
     "end_time": "2023-12-04T00:32:52.916261800Z",
     "start_time": "2023-12-04T00:32:52.650617800Z"
    }
   },
   "id": "2447abb0c0375ba3"
  },
  {
   "cell_type": "code",
   "execution_count": 13,
   "outputs": [
    {
     "data": {
      "text/plain": "Participant_ID    0\nGender            4\nNationality       0\nAge               0\nFood              0\nJuice             0\nDessert           0\ndtype: int64"
     },
     "execution_count": 13,
     "metadata": {},
     "output_type": "execute_result"
    }
   ],
   "source": [
    "df2.isnull().sum()"
   ],
   "metadata": {
    "collapsed": false,
    "ExecuteTime": {
     "end_time": "2023-12-04T00:32:52.931888200Z",
     "start_time": "2023-12-04T00:32:52.650617800Z"
    }
   },
   "id": "2357d236753f0162"
  },
  {
   "cell_type": "code",
   "execution_count": 14,
   "outputs": [],
   "source": [
    "df2.dropna(subset=['Gender'], inplace=True)"
   ],
   "metadata": {
    "collapsed": false,
    "ExecuteTime": {
     "end_time": "2023-12-04T00:32:52.931888200Z",
     "start_time": "2023-12-04T00:32:52.650617800Z"
    }
   },
   "id": "59e6e8d0ef61ba96"
  },
  {
   "cell_type": "code",
   "execution_count": 15,
   "outputs": [
    {
     "data": {
      "text/plain": "Participant_ID    0\nGender            0\nNationality       0\nAge               0\nFood              0\nJuice             0\nDessert           0\ndtype: int64"
     },
     "execution_count": 15,
     "metadata": {},
     "output_type": "execute_result"
    }
   ],
   "source": [
    "df2.isnull().sum()"
   ],
   "metadata": {
    "collapsed": false,
    "ExecuteTime": {
     "end_time": "2023-12-04T00:32:52.931888200Z",
     "start_time": "2023-12-04T00:32:52.666243800Z"
    }
   },
   "id": "dd2793ba53068dca"
  },
  {
   "cell_type": "code",
   "execution_count": 16,
   "outputs": [],
   "source": [
    "merged_df = pd.merge(df1, df2, on=['Gender', 'Age'], how='left')"
   ],
   "metadata": {
    "collapsed": false,
    "ExecuteTime": {
     "end_time": "2023-12-04T00:32:52.931888200Z",
     "start_time": "2023-12-04T00:32:52.666243800Z"
    }
   },
   "id": "8f87ad05d5abbbfc"
  },
  {
   "cell_type": "code",
   "execution_count": 17,
   "outputs": [
    {
     "data": {
      "text/plain": "   Gender  breakfast  coffee                      comfort_food  cuisine  \\\n0    Male          1       1                              none      6.0   \n1  Female          1       2       chocolate, chips, ice cream      1.0   \n2  Female          1       2   frozen yogurt, pizza, fast food      3.0   \n3  Female          1       2   frozen yogurt, pizza, fast food      3.0   \n4  Female          1       2  Pizza, Mac and cheese, ice cream      2.0   \n\n   drink  ethnic_food     fav_cuisine  fav_food  \\\n0    1.0            1  Arabic cuisine       1.0   \n1    2.0            4         Italian       1.0   \n2    1.0            5         italian       3.0   \n3    1.0            5         italian       3.0   \n4    2.0            5        Turkish        1.0   \n\n                                 food_childhood  ...  soup  thai_food  \\\n0                            rice  and chicken   ...   1.0          1   \n1  chicken and biscuits, beef soup, baked beans  ...   1.0          2   \n2                  mac and cheese, pizza, tacos  ...   1.0          5   \n3                  mac and cheese, pizza, tacos  ...   1.0          5   \n4                 Beef stroganoff, tacos, pizza  ...   1.0          5   \n\n  veggies_day                    weight  Age Participant_ID Nationality  \\\n0           5                       187   15         FPS155      Indian   \n1           4                       155   17         FPS255      Indian   \n2           5  I'm not answering this.    16         FPS010      Indian   \n3           5  I'm not answering this.    16         FPS110      Indian   \n4           3             Not sure, 240   17         FPS255      Indian   \n\n               Food              Juice  Dessert  \n0      Western Food  Carbonated drinks      Yes  \n1  Traditional food        Fresh Juice       No  \n2      Western Food        Fresh Juice      Yes  \n3      Western Food        Fresh Juice      Yes  \n4  Traditional food        Fresh Juice       No  \n\n[5 rows x 27 columns]",
      "text/html": "<div>\n<style scoped>\n    .dataframe tbody tr th:only-of-type {\n        vertical-align: middle;\n    }\n\n    .dataframe tbody tr th {\n        vertical-align: top;\n    }\n\n    .dataframe thead th {\n        text-align: right;\n    }\n</style>\n<table border=\"1\" class=\"dataframe\">\n  <thead>\n    <tr style=\"text-align: right;\">\n      <th></th>\n      <th>Gender</th>\n      <th>breakfast</th>\n      <th>coffee</th>\n      <th>comfort_food</th>\n      <th>cuisine</th>\n      <th>drink</th>\n      <th>ethnic_food</th>\n      <th>fav_cuisine</th>\n      <th>fav_food</th>\n      <th>food_childhood</th>\n      <th>...</th>\n      <th>soup</th>\n      <th>thai_food</th>\n      <th>veggies_day</th>\n      <th>weight</th>\n      <th>Age</th>\n      <th>Participant_ID</th>\n      <th>Nationality</th>\n      <th>Food</th>\n      <th>Juice</th>\n      <th>Dessert</th>\n    </tr>\n  </thead>\n  <tbody>\n    <tr>\n      <th>0</th>\n      <td>Male</td>\n      <td>1</td>\n      <td>1</td>\n      <td>none</td>\n      <td>6.0</td>\n      <td>1.0</td>\n      <td>1</td>\n      <td>Arabic cuisine</td>\n      <td>1.0</td>\n      <td>rice  and chicken</td>\n      <td>...</td>\n      <td>1.0</td>\n      <td>1</td>\n      <td>5</td>\n      <td>187</td>\n      <td>15</td>\n      <td>FPS155</td>\n      <td>Indian</td>\n      <td>Western Food</td>\n      <td>Carbonated drinks</td>\n      <td>Yes</td>\n    </tr>\n    <tr>\n      <th>1</th>\n      <td>Female</td>\n      <td>1</td>\n      <td>2</td>\n      <td>chocolate, chips, ice cream</td>\n      <td>1.0</td>\n      <td>2.0</td>\n      <td>4</td>\n      <td>Italian</td>\n      <td>1.0</td>\n      <td>chicken and biscuits, beef soup, baked beans</td>\n      <td>...</td>\n      <td>1.0</td>\n      <td>2</td>\n      <td>4</td>\n      <td>155</td>\n      <td>17</td>\n      <td>FPS255</td>\n      <td>Indian</td>\n      <td>Traditional food</td>\n      <td>Fresh Juice</td>\n      <td>No</td>\n    </tr>\n    <tr>\n      <th>2</th>\n      <td>Female</td>\n      <td>1</td>\n      <td>2</td>\n      <td>frozen yogurt, pizza, fast food</td>\n      <td>3.0</td>\n      <td>1.0</td>\n      <td>5</td>\n      <td>italian</td>\n      <td>3.0</td>\n      <td>mac and cheese, pizza, tacos</td>\n      <td>...</td>\n      <td>1.0</td>\n      <td>5</td>\n      <td>5</td>\n      <td>I'm not answering this.</td>\n      <td>16</td>\n      <td>FPS010</td>\n      <td>Indian</td>\n      <td>Western Food</td>\n      <td>Fresh Juice</td>\n      <td>Yes</td>\n    </tr>\n    <tr>\n      <th>3</th>\n      <td>Female</td>\n      <td>1</td>\n      <td>2</td>\n      <td>frozen yogurt, pizza, fast food</td>\n      <td>3.0</td>\n      <td>1.0</td>\n      <td>5</td>\n      <td>italian</td>\n      <td>3.0</td>\n      <td>mac and cheese, pizza, tacos</td>\n      <td>...</td>\n      <td>1.0</td>\n      <td>5</td>\n      <td>5</td>\n      <td>I'm not answering this.</td>\n      <td>16</td>\n      <td>FPS110</td>\n      <td>Indian</td>\n      <td>Western Food</td>\n      <td>Fresh Juice</td>\n      <td>Yes</td>\n    </tr>\n    <tr>\n      <th>4</th>\n      <td>Female</td>\n      <td>1</td>\n      <td>2</td>\n      <td>Pizza, Mac and cheese, ice cream</td>\n      <td>2.0</td>\n      <td>2.0</td>\n      <td>5</td>\n      <td>Turkish</td>\n      <td>1.0</td>\n      <td>Beef stroganoff, tacos, pizza</td>\n      <td>...</td>\n      <td>1.0</td>\n      <td>5</td>\n      <td>3</td>\n      <td>Not sure, 240</td>\n      <td>17</td>\n      <td>FPS255</td>\n      <td>Indian</td>\n      <td>Traditional food</td>\n      <td>Fresh Juice</td>\n      <td>No</td>\n    </tr>\n  </tbody>\n</table>\n<p>5 rows × 27 columns</p>\n</div>"
     },
     "execution_count": 17,
     "metadata": {},
     "output_type": "execute_result"
    }
   ],
   "source": [
    "merged_df.head()"
   ],
   "metadata": {
    "collapsed": false,
    "ExecuteTime": {
     "end_time": "2023-12-04T00:32:52.931888200Z",
     "start_time": "2023-12-04T00:32:52.666243800Z"
    }
   },
   "id": "7169de16b3331e92"
  },
  {
   "cell_type": "code",
   "execution_count": 18,
   "outputs": [
    {
     "data": {
      "text/plain": "Gender             0\nbreakfast          0\ncoffee             0\ncomfort_food       0\ncuisine            0\ndrink              0\nethnic_food        0\nfav_cuisine        0\nfav_food           1\nfood_childhood     0\nfruit_day          0\ngreek_food         0\nhealthy_meal       0\nindian_food        0\nitalian_food       0\nmarital_status     0\npersian_food       0\nsoup               0\nthai_food          0\nveggies_day        0\nweight             0\nAge                0\nParticipant_ID    61\nNationality       61\nFood              61\nJuice             61\nDessert           61\ndtype: int64"
     },
     "execution_count": 18,
     "metadata": {},
     "output_type": "execute_result"
    }
   ],
   "source": [
    "merged_df.isnull().sum()"
   ],
   "metadata": {
    "collapsed": false,
    "ExecuteTime": {
     "end_time": "2023-12-04T00:32:52.947518Z",
     "start_time": "2023-12-04T00:32:52.666243800Z"
    }
   },
   "id": "381e14d03335e078"
  },
  {
   "cell_type": "code",
   "execution_count": 20,
   "outputs": [],
   "source": [
    "merged_df.to_csv('merged_dataset.csv', index=False)"
   ],
   "metadata": {
    "collapsed": false,
    "ExecuteTime": {
     "end_time": "2023-12-04T00:33:09.108691900Z",
     "start_time": "2023-12-04T00:33:07.624895600Z"
    }
   },
   "id": "e4021ce6ccd75e7b"
  },
  {
   "cell_type": "code",
   "execution_count": 31,
   "outputs": [
    {
     "data": {
      "text/plain": "Participant_ID     0\nGender             0\nbreakfast          0\ncoffee             0\ncomfort_food       0\ncuisine            0\ndrink              0\nethnic_food        0\nfav_cuisine        0\nfood_childhood     0\nfruit_day          0\ngreek_food         0\nhealthy_meal       0\nindian_food        0\nitalian_food       0\nmarital_status     0\npersian_food       0\nsoup               0\nthai_food          0\nveggies_day        0\nweight             0\nAge                0\nNationality        0\nFood              61\nJuice             61\nDessert           61\ndtype: int64"
     },
     "execution_count": 31,
     "metadata": {},
     "output_type": "execute_result"
    }
   ],
   "source": [
    "df = pd.read_csv('merged_dataset.csv')\n",
    "df.drop('fav_food', axis=1, inplace=True)\n",
    "df.isnull().sum()"
   ],
   "metadata": {
    "collapsed": false,
    "ExecuteTime": {
     "end_time": "2023-12-04T00:45:37.991206400Z",
     "start_time": "2023-12-04T00:45:37.717798200Z"
    }
   },
   "id": "f6178cf03f4145e4"
  },
  {
   "cell_type": "code",
   "execution_count": 35,
   "outputs": [
    {
     "data": {
      "text/plain": "  Participant_ID  Gender breakfast             coffee  \\\n0         FPS001  Female    cereal     espresso shown   \n1         FPS002  Female    cereal     espresso shown   \n2         FPS003  Female    cereal  creamy frapuccino   \n3         FPS004  Female    cereal     espresso shown   \n4         FPS005  Female    cereal     espresso shown   \n\n                                        comfort_food       cuisine  \\\n0                    frozen yogurt, pizza, fast food  Korean/Asian   \n1                          Candy, brownies and soda.         other   \n2                   Ice cream, cheeseburgers, chips.      American   \n3  Pasta, grandma homemade chocolate cake anythin...      American   \n4                         ice cream, cake, chocolate      American   \n\n          drink  ethnic_food                            fav_cuisine  \\\n0  orange juice            5                                italian   \n1          soda            4                                African   \n2          soda            2               Anything american style.   \n3          soda            5  Orange chicken and chow mani noodles    \n4          soda            5                                italian   \n\n                            food_childhood  ...  persian_food          soup  \\\n0             mac and cheese, pizza, tacos  ...             5  orange juice   \n1            Fries, plaintain & fried fish  ...             5          soda   \n2  chicken, cheesey potatoes, and hot dogs  ...             1          soda   \n3                                  Chicken  ...             2          soda   \n4                     steak, lasagna, crab  ...             3          soda   \n\n  thai_food  veggies_day                    weight Age  Nationality  \\\n0         5            5  I'm not answering this.   16       Indian   \n1         4            1                       190  16       Indian   \n2         1            4                       137  16       Indian   \n3         2            5                       116  16       Indian   \n4         5            5                       123  16       Indian   \n\n           Food        Juice  Dessert  \n0  Western Food  Fresh Juice      Yes  \n1  Western Food  Fresh Juice      Yes  \n2  Western Food  Fresh Juice      Yes  \n3  Western Food  Fresh Juice      Yes  \n4  Western Food  Fresh Juice      Yes  \n\n[5 rows x 26 columns]",
      "text/html": "<div>\n<style scoped>\n    .dataframe tbody tr th:only-of-type {\n        vertical-align: middle;\n    }\n\n    .dataframe tbody tr th {\n        vertical-align: top;\n    }\n\n    .dataframe thead th {\n        text-align: right;\n    }\n</style>\n<table border=\"1\" class=\"dataframe\">\n  <thead>\n    <tr style=\"text-align: right;\">\n      <th></th>\n      <th>Participant_ID</th>\n      <th>Gender</th>\n      <th>breakfast</th>\n      <th>coffee</th>\n      <th>comfort_food</th>\n      <th>cuisine</th>\n      <th>drink</th>\n      <th>ethnic_food</th>\n      <th>fav_cuisine</th>\n      <th>food_childhood</th>\n      <th>...</th>\n      <th>persian_food</th>\n      <th>soup</th>\n      <th>thai_food</th>\n      <th>veggies_day</th>\n      <th>weight</th>\n      <th>Age</th>\n      <th>Nationality</th>\n      <th>Food</th>\n      <th>Juice</th>\n      <th>Dessert</th>\n    </tr>\n  </thead>\n  <tbody>\n    <tr>\n      <th>0</th>\n      <td>FPS001</td>\n      <td>Female</td>\n      <td>cereal</td>\n      <td>espresso shown</td>\n      <td>frozen yogurt, pizza, fast food</td>\n      <td>Korean/Asian</td>\n      <td>orange juice</td>\n      <td>5</td>\n      <td>italian</td>\n      <td>mac and cheese, pizza, tacos</td>\n      <td>...</td>\n      <td>5</td>\n      <td>orange juice</td>\n      <td>5</td>\n      <td>5</td>\n      <td>I'm not answering this.</td>\n      <td>16</td>\n      <td>Indian</td>\n      <td>Western Food</td>\n      <td>Fresh Juice</td>\n      <td>Yes</td>\n    </tr>\n    <tr>\n      <th>1</th>\n      <td>FPS002</td>\n      <td>Female</td>\n      <td>cereal</td>\n      <td>espresso shown</td>\n      <td>Candy, brownies and soda.</td>\n      <td>other</td>\n      <td>soda</td>\n      <td>4</td>\n      <td>African</td>\n      <td>Fries, plaintain &amp; fried fish</td>\n      <td>...</td>\n      <td>5</td>\n      <td>soda</td>\n      <td>4</td>\n      <td>1</td>\n      <td>190</td>\n      <td>16</td>\n      <td>Indian</td>\n      <td>Western Food</td>\n      <td>Fresh Juice</td>\n      <td>Yes</td>\n    </tr>\n    <tr>\n      <th>2</th>\n      <td>FPS003</td>\n      <td>Female</td>\n      <td>cereal</td>\n      <td>creamy frapuccino</td>\n      <td>Ice cream, cheeseburgers, chips.</td>\n      <td>American</td>\n      <td>soda</td>\n      <td>2</td>\n      <td>Anything american style.</td>\n      <td>chicken, cheesey potatoes, and hot dogs</td>\n      <td>...</td>\n      <td>1</td>\n      <td>soda</td>\n      <td>1</td>\n      <td>4</td>\n      <td>137</td>\n      <td>16</td>\n      <td>Indian</td>\n      <td>Western Food</td>\n      <td>Fresh Juice</td>\n      <td>Yes</td>\n    </tr>\n    <tr>\n      <th>3</th>\n      <td>FPS004</td>\n      <td>Female</td>\n      <td>cereal</td>\n      <td>espresso shown</td>\n      <td>Pasta, grandma homemade chocolate cake anythin...</td>\n      <td>American</td>\n      <td>soda</td>\n      <td>5</td>\n      <td>Orange chicken and chow mani noodles</td>\n      <td>Chicken</td>\n      <td>...</td>\n      <td>2</td>\n      <td>soda</td>\n      <td>2</td>\n      <td>5</td>\n      <td>116</td>\n      <td>16</td>\n      <td>Indian</td>\n      <td>Western Food</td>\n      <td>Fresh Juice</td>\n      <td>Yes</td>\n    </tr>\n    <tr>\n      <th>4</th>\n      <td>FPS005</td>\n      <td>Female</td>\n      <td>cereal</td>\n      <td>espresso shown</td>\n      <td>ice cream, cake, chocolate</td>\n      <td>American</td>\n      <td>soda</td>\n      <td>5</td>\n      <td>italian</td>\n      <td>steak, lasagna, crab</td>\n      <td>...</td>\n      <td>3</td>\n      <td>soda</td>\n      <td>5</td>\n      <td>5</td>\n      <td>123</td>\n      <td>16</td>\n      <td>Indian</td>\n      <td>Western Food</td>\n      <td>Fresh Juice</td>\n      <td>Yes</td>\n    </tr>\n  </tbody>\n</table>\n<p>5 rows × 26 columns</p>\n</div>"
     },
     "execution_count": 35,
     "metadata": {},
     "output_type": "execute_result"
    }
   ],
   "source": [
    "df['breakfast'] = df['breakfast'].replace({1: 'cereal', 2: 'donut'})\n",
    "df['coffee'] = df['coffee'].replace({1: 'creamy frapuccino', 2: 'espresso shown'})\n",
    "df['cuisine'] = df['cuisine'].replace({1: 'American', 2: 'Mexican.Spanish', 3: 'Korean/Asian', 4: 'Indian', 5: 'American inspired international dishes', 6: 'other'})\n",
    "df['drink'] = df['drink'].replace({1: 'orange juice', 2: 'soda'})\n",
    "df['soup'] = df['drink'].replace({1: 'veggie soup', 2: 'creamy soup'})\n",
    "df['marital_status'] = df['marital_status'].replace({1: 'Single', 2: 'In a relationship'})\n",
    "df.head()"
   ],
   "metadata": {
    "collapsed": false,
    "ExecuteTime": {
     "end_time": "2023-12-04T01:06:09.904277200Z",
     "start_time": "2023-12-04T01:06:09.855587300Z"
    }
   },
   "id": "a6dc9e772eb1c869"
  },
  {
   "cell_type": "code",
   "execution_count": 38,
   "outputs": [
    {
     "data": {
      "text/plain": "  Participant_ID  Gender breakfast             coffee  \\\n0         FPS001  Female    cereal     espresso shown   \n1         FPS002  Female    cereal     espresso shown   \n2         FPS003  Female    cereal  creamy frapuccino   \n3         FPS004  Female    cereal     espresso shown   \n4         FPS005  Female    cereal     espresso shown   \n\n                                        comfort_food       cuisine  \\\n0                    frozen yogurt, pizza, fast food  Korean/Asian   \n1                          Candy, brownies and soda.         other   \n2                   Ice cream, cheeseburgers, chips.      American   \n3  Pasta, grandma homemade chocolate cake anythin...      American   \n4                         ice cream, cake, chocolate      American   \n\n          drink  ethnic_food                            fav_cuisine  \\\n0  orange juice            5                                italian   \n1          soda            4                                African   \n2          soda            2               Anything american style.   \n3          soda            5  Orange chicken and chow mani noodles    \n4          soda            5                                italian   \n\n                            food_childhood  ...          soup  thai_food  \\\n0             mac and cheese, pizza, tacos  ...  orange juice          5   \n1            Fries, plaintain & fried fish  ...          soda          4   \n2  chicken, cheesey potatoes, and hot dogs  ...          soda          1   \n3                                  Chicken  ...          soda          2   \n4                     steak, lasagna, crab  ...          soda          5   \n\n  veggies_day                    weight  Age Nationality  \\\n0           5  I'm not answering this.    16      Indian   \n1           1                       190   16      Indian   \n2           4                       137   16      Indian   \n3           5                       116   16      Indian   \n4           5                       123   16      Indian   \n\n                                                Food        Juice  Dessert  \\\n0  cereal, frozen yogurt, pizza, fast food, mac a...  Fresh Juice      Yes   \n1  cereal, Candy, brownies and soda., Fries, plai...  Fresh Juice      Yes   \n2  cereal, Ice cream, cheeseburgers, chips., chic...  Fresh Juice      Yes   \n3  cereal, Pasta, grandma homemade chocolate cake...  Fresh Juice      Yes   \n4  cereal, ice cream, cake, chocolate, steak, las...  Fresh Juice      Yes   \n\n                          Drink  \n0  espresso shown, orange juice  \n1          espresso shown, soda  \n2       creamy frapuccino, soda  \n3          espresso shown, soda  \n4          espresso shown, soda  \n\n[5 rows x 27 columns]",
      "text/html": "<div>\n<style scoped>\n    .dataframe tbody tr th:only-of-type {\n        vertical-align: middle;\n    }\n\n    .dataframe tbody tr th {\n        vertical-align: top;\n    }\n\n    .dataframe thead th {\n        text-align: right;\n    }\n</style>\n<table border=\"1\" class=\"dataframe\">\n  <thead>\n    <tr style=\"text-align: right;\">\n      <th></th>\n      <th>Participant_ID</th>\n      <th>Gender</th>\n      <th>breakfast</th>\n      <th>coffee</th>\n      <th>comfort_food</th>\n      <th>cuisine</th>\n      <th>drink</th>\n      <th>ethnic_food</th>\n      <th>fav_cuisine</th>\n      <th>food_childhood</th>\n      <th>...</th>\n      <th>soup</th>\n      <th>thai_food</th>\n      <th>veggies_day</th>\n      <th>weight</th>\n      <th>Age</th>\n      <th>Nationality</th>\n      <th>Food</th>\n      <th>Juice</th>\n      <th>Dessert</th>\n      <th>Drink</th>\n    </tr>\n  </thead>\n  <tbody>\n    <tr>\n      <th>0</th>\n      <td>FPS001</td>\n      <td>Female</td>\n      <td>cereal</td>\n      <td>espresso shown</td>\n      <td>frozen yogurt, pizza, fast food</td>\n      <td>Korean/Asian</td>\n      <td>orange juice</td>\n      <td>5</td>\n      <td>italian</td>\n      <td>mac and cheese, pizza, tacos</td>\n      <td>...</td>\n      <td>orange juice</td>\n      <td>5</td>\n      <td>5</td>\n      <td>I'm not answering this.</td>\n      <td>16</td>\n      <td>Indian</td>\n      <td>cereal, frozen yogurt, pizza, fast food, mac a...</td>\n      <td>Fresh Juice</td>\n      <td>Yes</td>\n      <td>espresso shown, orange juice</td>\n    </tr>\n    <tr>\n      <th>1</th>\n      <td>FPS002</td>\n      <td>Female</td>\n      <td>cereal</td>\n      <td>espresso shown</td>\n      <td>Candy, brownies and soda.</td>\n      <td>other</td>\n      <td>soda</td>\n      <td>4</td>\n      <td>African</td>\n      <td>Fries, plaintain &amp; fried fish</td>\n      <td>...</td>\n      <td>soda</td>\n      <td>4</td>\n      <td>1</td>\n      <td>190</td>\n      <td>16</td>\n      <td>Indian</td>\n      <td>cereal, Candy, brownies and soda., Fries, plai...</td>\n      <td>Fresh Juice</td>\n      <td>Yes</td>\n      <td>espresso shown, soda</td>\n    </tr>\n    <tr>\n      <th>2</th>\n      <td>FPS003</td>\n      <td>Female</td>\n      <td>cereal</td>\n      <td>creamy frapuccino</td>\n      <td>Ice cream, cheeseburgers, chips.</td>\n      <td>American</td>\n      <td>soda</td>\n      <td>2</td>\n      <td>Anything american style.</td>\n      <td>chicken, cheesey potatoes, and hot dogs</td>\n      <td>...</td>\n      <td>soda</td>\n      <td>1</td>\n      <td>4</td>\n      <td>137</td>\n      <td>16</td>\n      <td>Indian</td>\n      <td>cereal, Ice cream, cheeseburgers, chips., chic...</td>\n      <td>Fresh Juice</td>\n      <td>Yes</td>\n      <td>creamy frapuccino, soda</td>\n    </tr>\n    <tr>\n      <th>3</th>\n      <td>FPS004</td>\n      <td>Female</td>\n      <td>cereal</td>\n      <td>espresso shown</td>\n      <td>Pasta, grandma homemade chocolate cake anythin...</td>\n      <td>American</td>\n      <td>soda</td>\n      <td>5</td>\n      <td>Orange chicken and chow mani noodles</td>\n      <td>Chicken</td>\n      <td>...</td>\n      <td>soda</td>\n      <td>2</td>\n      <td>5</td>\n      <td>116</td>\n      <td>16</td>\n      <td>Indian</td>\n      <td>cereal, Pasta, grandma homemade chocolate cake...</td>\n      <td>Fresh Juice</td>\n      <td>Yes</td>\n      <td>espresso shown, soda</td>\n    </tr>\n    <tr>\n      <th>4</th>\n      <td>FPS005</td>\n      <td>Female</td>\n      <td>cereal</td>\n      <td>espresso shown</td>\n      <td>ice cream, cake, chocolate</td>\n      <td>American</td>\n      <td>soda</td>\n      <td>5</td>\n      <td>italian</td>\n      <td>steak, lasagna, crab</td>\n      <td>...</td>\n      <td>soda</td>\n      <td>5</td>\n      <td>5</td>\n      <td>123</td>\n      <td>16</td>\n      <td>Indian</td>\n      <td>cereal, ice cream, cake, chocolate, steak, las...</td>\n      <td>Fresh Juice</td>\n      <td>Yes</td>\n      <td>espresso shown, soda</td>\n    </tr>\n  </tbody>\n</table>\n<p>5 rows × 27 columns</p>\n</div>"
     },
     "execution_count": 38,
     "metadata": {},
     "output_type": "execute_result"
    }
   ],
   "source": [
    "df['Food'] = df['breakfast'] + ', ' + df['comfort_food'] + ', ' + df['food_childhood'] + ', ' + df['healthy_meal'] + ', ' + df['soup']\n",
    "df['Drink'] = df['coffee'] + ', ' + df['drink']\n",
    "df.head()"
   ],
   "metadata": {
    "collapsed": false,
    "ExecuteTime": {
     "end_time": "2023-12-04T01:11:57.146921Z",
     "start_time": "2023-12-04T01:11:56.991721700Z"
    }
   },
   "id": "7d6ad7fb655afc6a"
  },
  {
   "cell_type": "code",
   "execution_count": 41,
   "outputs": [
    {
     "data": {
      "text/plain": "  Participant_ID  Gender       cuisine  ethnic_food  \\\n0         FPS001  Female  Korean/Asian            5   \n1         FPS002  Female         other            4   \n2         FPS003  Female      American            2   \n3         FPS004  Female      American            5   \n4         FPS005  Female      American            5   \n\n                             fav_cuisine  fruit_day  greek_food  indian_food  \\\n0                                italian          5           5            5   \n1                                African          2           2            5   \n2               Anything american style.          5           3            1   \n3  Orange chicken and chow mani noodles           5           1            1   \n4                                italian          5           4            3   \n\n   italian_food     marital_status  persian_food  thai_food  veggies_day  \\\n0             5  In a relationship             5          5            5   \n1             5  In a relationship             5          4            1   \n2             3             Single             1          1            4   \n3             5             Single             2          2            5   \n4             5  In a relationship             3          5            5   \n\n                     weight  Age Nationality  \\\n0  I'm not answering this.    16      Indian   \n1                       190   16      Indian   \n2                       137   16      Indian   \n3                       116   16      Indian   \n4                       123   16      Indian   \n\n                                                Food        Juice Dessert  \\\n0  cereal, frozen yogurt, pizza, fast food, mac a...  Fresh Juice     Yes   \n1  cereal, Candy, brownies and soda., Fries, plai...  Fresh Juice     Yes   \n2  cereal, Ice cream, cheeseburgers, chips., chic...  Fresh Juice     Yes   \n3  cereal, Pasta, grandma homemade chocolate cake...  Fresh Juice     Yes   \n4  cereal, ice cream, cake, chocolate, steak, las...  Fresh Juice     Yes   \n\n                          Drink  \n0  espresso shown, orange juice  \n1          espresso shown, soda  \n2       creamy frapuccino, soda  \n3          espresso shown, soda  \n4          espresso shown, soda  ",
      "text/html": "<div>\n<style scoped>\n    .dataframe tbody tr th:only-of-type {\n        vertical-align: middle;\n    }\n\n    .dataframe tbody tr th {\n        vertical-align: top;\n    }\n\n    .dataframe thead th {\n        text-align: right;\n    }\n</style>\n<table border=\"1\" class=\"dataframe\">\n  <thead>\n    <tr style=\"text-align: right;\">\n      <th></th>\n      <th>Participant_ID</th>\n      <th>Gender</th>\n      <th>cuisine</th>\n      <th>ethnic_food</th>\n      <th>fav_cuisine</th>\n      <th>fruit_day</th>\n      <th>greek_food</th>\n      <th>indian_food</th>\n      <th>italian_food</th>\n      <th>marital_status</th>\n      <th>persian_food</th>\n      <th>thai_food</th>\n      <th>veggies_day</th>\n      <th>weight</th>\n      <th>Age</th>\n      <th>Nationality</th>\n      <th>Food</th>\n      <th>Juice</th>\n      <th>Dessert</th>\n      <th>Drink</th>\n    </tr>\n  </thead>\n  <tbody>\n    <tr>\n      <th>0</th>\n      <td>FPS001</td>\n      <td>Female</td>\n      <td>Korean/Asian</td>\n      <td>5</td>\n      <td>italian</td>\n      <td>5</td>\n      <td>5</td>\n      <td>5</td>\n      <td>5</td>\n      <td>In a relationship</td>\n      <td>5</td>\n      <td>5</td>\n      <td>5</td>\n      <td>I'm not answering this.</td>\n      <td>16</td>\n      <td>Indian</td>\n      <td>cereal, frozen yogurt, pizza, fast food, mac a...</td>\n      <td>Fresh Juice</td>\n      <td>Yes</td>\n      <td>espresso shown, orange juice</td>\n    </tr>\n    <tr>\n      <th>1</th>\n      <td>FPS002</td>\n      <td>Female</td>\n      <td>other</td>\n      <td>4</td>\n      <td>African</td>\n      <td>2</td>\n      <td>2</td>\n      <td>5</td>\n      <td>5</td>\n      <td>In a relationship</td>\n      <td>5</td>\n      <td>4</td>\n      <td>1</td>\n      <td>190</td>\n      <td>16</td>\n      <td>Indian</td>\n      <td>cereal, Candy, brownies and soda., Fries, plai...</td>\n      <td>Fresh Juice</td>\n      <td>Yes</td>\n      <td>espresso shown, soda</td>\n    </tr>\n    <tr>\n      <th>2</th>\n      <td>FPS003</td>\n      <td>Female</td>\n      <td>American</td>\n      <td>2</td>\n      <td>Anything american style.</td>\n      <td>5</td>\n      <td>3</td>\n      <td>1</td>\n      <td>3</td>\n      <td>Single</td>\n      <td>1</td>\n      <td>1</td>\n      <td>4</td>\n      <td>137</td>\n      <td>16</td>\n      <td>Indian</td>\n      <td>cereal, Ice cream, cheeseburgers, chips., chic...</td>\n      <td>Fresh Juice</td>\n      <td>Yes</td>\n      <td>creamy frapuccino, soda</td>\n    </tr>\n    <tr>\n      <th>3</th>\n      <td>FPS004</td>\n      <td>Female</td>\n      <td>American</td>\n      <td>5</td>\n      <td>Orange chicken and chow mani noodles</td>\n      <td>5</td>\n      <td>1</td>\n      <td>1</td>\n      <td>5</td>\n      <td>Single</td>\n      <td>2</td>\n      <td>2</td>\n      <td>5</td>\n      <td>116</td>\n      <td>16</td>\n      <td>Indian</td>\n      <td>cereal, Pasta, grandma homemade chocolate cake...</td>\n      <td>Fresh Juice</td>\n      <td>Yes</td>\n      <td>espresso shown, soda</td>\n    </tr>\n    <tr>\n      <th>4</th>\n      <td>FPS005</td>\n      <td>Female</td>\n      <td>American</td>\n      <td>5</td>\n      <td>italian</td>\n      <td>5</td>\n      <td>4</td>\n      <td>3</td>\n      <td>5</td>\n      <td>In a relationship</td>\n      <td>3</td>\n      <td>5</td>\n      <td>5</td>\n      <td>123</td>\n      <td>16</td>\n      <td>Indian</td>\n      <td>cereal, ice cream, cake, chocolate, steak, las...</td>\n      <td>Fresh Juice</td>\n      <td>Yes</td>\n      <td>espresso shown, soda</td>\n    </tr>\n  </tbody>\n</table>\n</div>"
     },
     "execution_count": 41,
     "metadata": {},
     "output_type": "execute_result"
    }
   ],
   "source": [
    "# df.drop(['breakfast', 'comfort_food', 'food_childhood', 'healthy_meal', 'soup', 'coffee', 'drink'], axis=1, inplace=True)\n",
    "df.head()"
   ],
   "metadata": {
    "collapsed": false,
    "ExecuteTime": {
     "end_time": "2023-12-04T01:14:35.888865800Z",
     "start_time": "2023-12-04T01:14:35.817298900Z"
    }
   },
   "id": "f589cc40bc589348"
  },
  {
   "cell_type": "code",
   "execution_count": 45,
   "outputs": [],
   "source": [
    "df['Drink'] = df['Drink'] + ', ' + df['Juice']\n",
    "df.drop('Juice', axis=1, inplace=True)"
   ],
   "metadata": {
    "collapsed": false,
    "ExecuteTime": {
     "end_time": "2023-12-04T01:16:48.996455700Z",
     "start_time": "2023-12-04T01:16:48.918140400Z"
    }
   },
   "id": "85508b81c3229ba"
  },
  {
   "cell_type": "code",
   "execution_count": 46,
   "outputs": [
    {
     "data": {
      "text/plain": "Participant_ID     0\nGender             0\ncuisine            0\nethnic_food        0\nfav_cuisine        0\nfruit_day          0\ngreek_food         0\nindian_food        0\nitalian_food       0\nmarital_status     0\npersian_food       0\nthai_food          0\nveggies_day        0\nweight             0\nAge                0\nNationality        0\nFood               0\nDessert           61\nDrink             61\ndtype: int64"
     },
     "execution_count": 46,
     "metadata": {},
     "output_type": "execute_result"
    }
   ],
   "source": [
    "df.isnull().sum()"
   ],
   "metadata": {
    "collapsed": false,
    "ExecuteTime": {
     "end_time": "2023-12-04T01:16:51.381303200Z",
     "start_time": "2023-12-04T01:16:51.349121400Z"
    }
   },
   "id": "9e67d3b3650829a0"
  },
  {
   "cell_type": "code",
   "execution_count": 47,
   "outputs": [
    {
     "data": {
      "text/plain": "Participant_ID     0\nGender             0\ncuisine            0\nethnic_food        0\nfav_cuisine        0\nfruit_day          0\ngreek_food         0\nindian_food        0\nitalian_food       0\nmarital_status     0\npersian_food       0\nthai_food          0\nveggies_day        0\nweight             0\nAge                0\nNationality        0\nFood               0\nDessert            0\nDrink             61\ndtype: int64"
     },
     "execution_count": 47,
     "metadata": {},
     "output_type": "execute_result"
    }
   ],
   "source": [
    "def determine_dessert(row):\n",
    "    if pd.isnull(row['Dessert']) and 'donut' in row['Food']:\n",
    "        return np.random.choice(['Yes', 'Maybe'], size=1)[0]\n",
    "    elif pd.isnull(row['Dessert']):\n",
    "        return 'No'\n",
    "    else:\n",
    "        return row['Dessert']\n",
    "\n",
    "df['Dessert'] = df.apply(determine_dessert, axis=1)\n",
    "\n",
    "\n",
    "df.isnull().sum()"
   ],
   "metadata": {
    "collapsed": false,
    "ExecuteTime": {
     "end_time": "2023-12-04T01:21:23.798481900Z",
     "start_time": "2023-12-04T01:21:23.411452600Z"
    }
   },
   "id": "289525618ac0e86d"
  },
  {
   "cell_type": "code",
   "execution_count": 49,
   "outputs": [
    {
     "data": {
      "text/plain": "Participant_ID    0\nGender            0\ncuisine           0\nethnic_food       0\nfav_cuisine       0\nfruit_day         0\ngreek_food        0\nindian_food       0\nitalian_food      0\nmarital_status    0\npersian_food      0\nthai_food         0\nveggies_day       0\nweight            0\nAge               0\nNationality       0\nFood              0\nDessert           0\nDrink             0\ndtype: int64"
     },
     "execution_count": 49,
     "metadata": {},
     "output_type": "execute_result"
    }
   ],
   "source": [
    "drink_choices = ['creamy frapuccino', 'espresso shown', 'orange juice', 'soda', 'Fresh Juice', 'Carbonated drinks']\n",
    "\n",
    "def fill_missing_drink(row):\n",
    "    if pd.isnull(row['Drink']):\n",
    "        return np.random.choice(drink_choices, size=1)[0]\n",
    "    else:\n",
    "        return row['Drink']\n",
    "\n",
    "df['Drink'] = df.apply(fill_missing_drink, axis=1)\n",
    "df.isnull().sum()"
   ],
   "metadata": {
    "collapsed": false,
    "ExecuteTime": {
     "end_time": "2023-12-04T01:25:32.828929600Z",
     "start_time": "2023-12-04T01:25:32.700686200Z"
    }
   },
   "id": "2344e8397f83d5fe"
  },
  {
   "cell_type": "code",
   "execution_count": 50,
   "outputs": [],
   "source": [
    "merged_df.to_csv('final_dataset.csv', index=False)"
   ],
   "metadata": {
    "collapsed": false,
    "ExecuteTime": {
     "end_time": "2023-12-04T01:26:09.487404100Z",
     "start_time": "2023-12-04T01:26:09.375062200Z"
    }
   },
   "id": "9d38caeea109f91d"
  },
  {
   "cell_type": "code",
   "execution_count": 51,
   "outputs": [
    {
     "data": {
      "text/plain": "  Participant_ID  Gender       cuisine  ethnic_food  \\\n0         FPS001  Female  Korean/Asian            5   \n1         FPS002  Female         other            4   \n2         FPS003  Female      American            2   \n3         FPS004  Female      American            5   \n4         FPS005  Female      American            5   \n\n                             fav_cuisine  fruit_day  greek_food  indian_food  \\\n0                                italian          5           5            5   \n1                                African          2           2            5   \n2               Anything american style.          5           3            1   \n3  Orange chicken and chow mani noodles           5           1            1   \n4                                italian          5           4            3   \n\n   italian_food     marital_status  persian_food  thai_food  veggies_day  \\\n0             5  In a relationship             5          5            5   \n1             5  In a relationship             5          4            1   \n2             3             Single             1          1            4   \n3             5             Single             2          2            5   \n4             5  In a relationship             3          5            5   \n\n                     weight  Age Nationality  \\\n0  I'm not answering this.    16      Indian   \n1                       190   16      Indian   \n2                       137   16      Indian   \n3                       116   16      Indian   \n4                       123   16      Indian   \n\n                                                Food Dessert  \\\n0  cereal, frozen yogurt, pizza, fast food, mac a...     Yes   \n1  cereal, Candy, brownies and soda., Fries, plai...     Yes   \n2  cereal, Ice cream, cheeseburgers, chips., chic...     Yes   \n3  cereal, Pasta, grandma homemade chocolate cake...     Yes   \n4  cereal, ice cream, cake, chocolate, steak, las...     Yes   \n\n                                               Drink  \n0  espresso shown, orange juice, Fresh Juice, Fre...  \n1     espresso shown, soda, Fresh Juice, Fresh Juice  \n2  creamy frapuccino, soda, Fresh Juice, Fresh Juice  \n3     espresso shown, soda, Fresh Juice, Fresh Juice  \n4     espresso shown, soda, Fresh Juice, Fresh Juice  ",
      "text/html": "<div>\n<style scoped>\n    .dataframe tbody tr th:only-of-type {\n        vertical-align: middle;\n    }\n\n    .dataframe tbody tr th {\n        vertical-align: top;\n    }\n\n    .dataframe thead th {\n        text-align: right;\n    }\n</style>\n<table border=\"1\" class=\"dataframe\">\n  <thead>\n    <tr style=\"text-align: right;\">\n      <th></th>\n      <th>Participant_ID</th>\n      <th>Gender</th>\n      <th>cuisine</th>\n      <th>ethnic_food</th>\n      <th>fav_cuisine</th>\n      <th>fruit_day</th>\n      <th>greek_food</th>\n      <th>indian_food</th>\n      <th>italian_food</th>\n      <th>marital_status</th>\n      <th>persian_food</th>\n      <th>thai_food</th>\n      <th>veggies_day</th>\n      <th>weight</th>\n      <th>Age</th>\n      <th>Nationality</th>\n      <th>Food</th>\n      <th>Dessert</th>\n      <th>Drink</th>\n    </tr>\n  </thead>\n  <tbody>\n    <tr>\n      <th>0</th>\n      <td>FPS001</td>\n      <td>Female</td>\n      <td>Korean/Asian</td>\n      <td>5</td>\n      <td>italian</td>\n      <td>5</td>\n      <td>5</td>\n      <td>5</td>\n      <td>5</td>\n      <td>In a relationship</td>\n      <td>5</td>\n      <td>5</td>\n      <td>5</td>\n      <td>I'm not answering this.</td>\n      <td>16</td>\n      <td>Indian</td>\n      <td>cereal, frozen yogurt, pizza, fast food, mac a...</td>\n      <td>Yes</td>\n      <td>espresso shown, orange juice, Fresh Juice, Fre...</td>\n    </tr>\n    <tr>\n      <th>1</th>\n      <td>FPS002</td>\n      <td>Female</td>\n      <td>other</td>\n      <td>4</td>\n      <td>African</td>\n      <td>2</td>\n      <td>2</td>\n      <td>5</td>\n      <td>5</td>\n      <td>In a relationship</td>\n      <td>5</td>\n      <td>4</td>\n      <td>1</td>\n      <td>190</td>\n      <td>16</td>\n      <td>Indian</td>\n      <td>cereal, Candy, brownies and soda., Fries, plai...</td>\n      <td>Yes</td>\n      <td>espresso shown, soda, Fresh Juice, Fresh Juice</td>\n    </tr>\n    <tr>\n      <th>2</th>\n      <td>FPS003</td>\n      <td>Female</td>\n      <td>American</td>\n      <td>2</td>\n      <td>Anything american style.</td>\n      <td>5</td>\n      <td>3</td>\n      <td>1</td>\n      <td>3</td>\n      <td>Single</td>\n      <td>1</td>\n      <td>1</td>\n      <td>4</td>\n      <td>137</td>\n      <td>16</td>\n      <td>Indian</td>\n      <td>cereal, Ice cream, cheeseburgers, chips., chic...</td>\n      <td>Yes</td>\n      <td>creamy frapuccino, soda, Fresh Juice, Fresh Juice</td>\n    </tr>\n    <tr>\n      <th>3</th>\n      <td>FPS004</td>\n      <td>Female</td>\n      <td>American</td>\n      <td>5</td>\n      <td>Orange chicken and chow mani noodles</td>\n      <td>5</td>\n      <td>1</td>\n      <td>1</td>\n      <td>5</td>\n      <td>Single</td>\n      <td>2</td>\n      <td>2</td>\n      <td>5</td>\n      <td>116</td>\n      <td>16</td>\n      <td>Indian</td>\n      <td>cereal, Pasta, grandma homemade chocolate cake...</td>\n      <td>Yes</td>\n      <td>espresso shown, soda, Fresh Juice, Fresh Juice</td>\n    </tr>\n    <tr>\n      <th>4</th>\n      <td>FPS005</td>\n      <td>Female</td>\n      <td>American</td>\n      <td>5</td>\n      <td>italian</td>\n      <td>5</td>\n      <td>4</td>\n      <td>3</td>\n      <td>5</td>\n      <td>In a relationship</td>\n      <td>3</td>\n      <td>5</td>\n      <td>5</td>\n      <td>123</td>\n      <td>16</td>\n      <td>Indian</td>\n      <td>cereal, ice cream, cake, chocolate, steak, las...</td>\n      <td>Yes</td>\n      <td>espresso shown, soda, Fresh Juice, Fresh Juice</td>\n    </tr>\n  </tbody>\n</table>\n</div>"
     },
     "execution_count": 51,
     "metadata": {},
     "output_type": "execute_result"
    }
   ],
   "source": [
    "df.head()"
   ],
   "metadata": {
    "collapsed": false,
    "ExecuteTime": {
     "end_time": "2023-12-04T01:28:14.273258100Z",
     "start_time": "2023-12-04T01:28:14.138557200Z"
    }
   },
   "id": "61baad9787bb83e2"
  },
  {
   "cell_type": "code",
   "execution_count": 53,
   "outputs": [],
   "source": [
    "df.to_csv('final_dataset.csv', index=False)"
   ],
   "metadata": {
    "collapsed": false,
    "ExecuteTime": {
     "end_time": "2023-12-04T01:28:51.008115400Z",
     "start_time": "2023-12-04T01:28:50.922717100Z"
    }
   },
   "id": "9ed45f0cd6ed5c8a"
  },
  {
   "cell_type": "code",
   "execution_count": null,
   "outputs": [],
   "source": [],
   "metadata": {
    "collapsed": false
   },
   "id": "9261db48de24586e"
  }
 ],
 "metadata": {
  "kernelspec": {
   "display_name": "Python 3",
   "language": "python",
   "name": "python3"
  },
  "language_info": {
   "codemirror_mode": {
    "name": "ipython",
    "version": 2
   },
   "file_extension": ".py",
   "mimetype": "text/x-python",
   "name": "python",
   "nbconvert_exporter": "python",
   "pygments_lexer": "ipython2",
   "version": "2.7.6"
  }
 },
 "nbformat": 4,
 "nbformat_minor": 5
}
