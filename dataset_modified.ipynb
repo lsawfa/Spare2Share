{
 "cells": [
  {
   "cell_type": "code",
   "execution_count": 15,
   "id": "initial_id",
   "metadata": {
    "collapsed": true,
    "ExecuteTime": {
     "end_time": "2023-12-03T07:32:49.896152100Z",
     "start_time": "2023-12-03T07:32:49.813531500Z"
    }
   },
   "outputs": [],
   "source": [
    "import pandas as pd\n",
    "import numpy as np\n",
    "\n",
    "df = pd.read_csv('food_coded.csv')\n",
    "\n",
    "df['Age'] = np.random.randint(6, 20, size=len(df))\n",
    "\n",
    "# Menyimpan dataset yang telah dimodifikasi kembali ke file CSV\n",
    "df.to_csv('final_dataset.csv', index=False)"
   ]
  },
  {
   "cell_type": "code",
   "execution_count": 16,
   "outputs": [],
   "source": [
    "# Mengganti nilai 1 dengan 'Female' dan nilai 2 dengan 'Male' pada kolom 'Gender'\n",
    "df['Gender'] = df['Gender'].replace({1: 'Female', 2: 'Male'})\n",
    "\n",
    "# Menyimpan dataset yang telah dimodifikasi ke file CSV\n",
    "df.to_csv('final_dataset.csv', index=False)"
   ],
   "metadata": {
    "collapsed": false,
    "ExecuteTime": {
     "end_time": "2023-12-03T07:32:50.138210100Z",
     "start_time": "2023-12-03T07:32:49.974496Z"
    }
   },
   "id": "d03a438fb9f28896"
  },
  {
   "cell_type": "code",
   "execution_count": 17,
   "outputs": [],
   "source": [
    "df1 = pd.read_csv('final_dataset.csv')\n",
    "df2 = pd.read_csv('Food_Preference.csv')\n",
    "\n",
    "# Menggabungkan berdasarkan kolom \"Gender\" dan \"Age\"\n",
    "merged_dataset = pd.merge(df1, df2, how='outer', on=['Gender', 'Age'])\n",
    "\n",
    "# Menyimpan hasil gabungan ke file CSV\n",
    "merged_dataset.to_csv('final_bgt.csv', index=False)\n"
   ],
   "metadata": {
    "collapsed": false,
    "ExecuteTime": {
     "end_time": "2023-12-03T07:32:50.668722500Z",
     "start_time": "2023-12-03T07:32:50.157314900Z"
    }
   },
   "id": "22b7ae51162fb7c5"
  },
  {
   "cell_type": "code",
   "execution_count": 18,
   "outputs": [
    {
     "name": "stdout",
     "output_type": "stream",
     "text": [
      "<class 'pandas.core.frame.DataFrame'>\n",
      "RangeIndex: 467 entries, 0 to 466\n",
      "Data columns (total 68 columns):\n",
      " #   Column                        Non-Null Count  Dtype  \n",
      "---  ------                        --------------  -----  \n",
      " 0   GPA                           203 non-null    object \n",
      " 1   Gender                        463 non-null    object \n",
      " 2   breakfast                     205 non-null    float64\n",
      " 3   calories_chicken              205 non-null    float64\n",
      " 4   calories_day                  179 non-null    float64\n",
      " 5   calories_scone                204 non-null    float64\n",
      " 6   coffee                        205 non-null    float64\n",
      " 7   comfort_food                  204 non-null    object \n",
      " 8   comfort_food_reasons          203 non-null    object \n",
      " 9   comfort_food_reasons_coded    173 non-null    float64\n",
      " 10  cook                          202 non-null    float64\n",
      " 11  comfort_food_reasons_coded.1  205 non-null    float64\n",
      " 12  cuisine                       181 non-null    float64\n",
      " 13  diet_current                  204 non-null    object \n",
      " 14  diet_current_coded            205 non-null    float64\n",
      " 15  drink                         203 non-null    float64\n",
      " 16  eating_changes                202 non-null    object \n",
      " 17  eating_changes_coded          205 non-null    float64\n",
      " 18  eating_changes_coded1         205 non-null    float64\n",
      " 19  eating_out                    205 non-null    float64\n",
      " 20  employment                    193 non-null    float64\n",
      " 21  ethnic_food                   205 non-null    float64\n",
      " 22  exercise                      180 non-null    float64\n",
      " 23  father_education              202 non-null    float64\n",
      " 24  father_profession             202 non-null    object \n",
      " 25  fav_cuisine                   203 non-null    object \n",
      " 26  fav_cuisine_coded             205 non-null    float64\n",
      " 27  fav_food                      198 non-null    float64\n",
      " 28  food_childhood                204 non-null    object \n",
      " 29  fries                         205 non-null    float64\n",
      " 30  fruit_day                     205 non-null    float64\n",
      " 31  grade_level                   205 non-null    float64\n",
      " 32  greek_food                    205 non-null    float64\n",
      " 33  healthy_feeling               205 non-null    float64\n",
      " 34  healthy_meal                  204 non-null    object \n",
      " 35  ideal_diet                    204 non-null    object \n",
      " 36  ideal_diet_coded              205 non-null    float64\n",
      " 37  income                        204 non-null    float64\n",
      " 38  indian_food                   205 non-null    float64\n",
      " 39  italian_food                  205 non-null    float64\n",
      " 40  life_rewarding                204 non-null    float64\n",
      " 41  marital_status                204 non-null    float64\n",
      " 42  meals_dinner_friend           202 non-null    object \n",
      " 43  mother_education              202 non-null    float64\n",
      " 44  mother_profession             203 non-null    object \n",
      " 45  nutritional_check             205 non-null    float64\n",
      " 46  on_off_campus                 201 non-null    float64\n",
      " 47  parents_cook                  205 non-null    float64\n",
      " 48  pay_meal_out                  205 non-null    float64\n",
      " 49  persian_food                  204 non-null    float64\n",
      " 50  self_perception_weight        201 non-null    float64\n",
      " 51  soup                          204 non-null    float64\n",
      " 52  sports                        203 non-null    float64\n",
      " 53  thai_food                     205 non-null    float64\n",
      " 54  tortilla_calories             204 non-null    float64\n",
      " 55  turkey_calories               205 non-null    float64\n",
      " 56  type_sports                   159 non-null    object \n",
      " 57  veggies_day                   205 non-null    float64\n",
      " 58  vitamins                      205 non-null    float64\n",
      " 59  waffle_calories               205 non-null    float64\n",
      " 60  weight                        198 non-null    object \n",
      " 61  Age                           467 non-null    int64  \n",
      " 62  Timestamp                     392 non-null    object \n",
      " 63  Participant_ID                392 non-null    object \n",
      " 64  Nationality                   392 non-null    object \n",
      " 65  Food                          392 non-null    object \n",
      " 66  Juice                         392 non-null    object \n",
      " 67  Dessert                       392 non-null    object \n",
      "dtypes: float64(46), int64(1), object(21)\n",
      "memory usage: 248.2+ KB\n"
     ]
    }
   ],
   "source": [
    "df3 = pd.read_csv('final_bgt.csv')\n",
    "df3.info()"
   ],
   "metadata": {
    "collapsed": false,
    "ExecuteTime": {
     "end_time": "2023-12-03T07:32:50.795967400Z",
     "start_time": "2023-12-03T07:32:50.684349400Z"
    }
   },
   "id": "cf0eb007c05fc1cd"
  },
  {
   "cell_type": "code",
   "execution_count": 19,
   "outputs": [
    {
     "name": "stdout",
     "output_type": "stream",
     "text": [
      "GPA                 264\n",
      "Gender                4\n",
      "breakfast           262\n",
      "calories_chicken    262\n",
      "calories_day        288\n",
      "                   ... \n",
      "Participant_ID       75\n",
      "Nationality          75\n",
      "Food                 75\n",
      "Juice                75\n",
      "Dessert              75\n",
      "Length: 68, dtype: int64\n"
     ]
    }
   ],
   "source": [
    "null_values = df3.isnull().sum()\n",
    "\n",
    "# Menampilkan nilai null di setiap kolom\n",
    "print(null_values)"
   ],
   "metadata": {
    "collapsed": false,
    "ExecuteTime": {
     "end_time": "2023-12-03T07:32:51.158879500Z",
     "start_time": "2023-12-03T07:32:51.031111200Z"
    }
   },
   "id": "dcfff3f0c4504267"
  },
  {
   "cell_type": "code",
   "execution_count": 20,
   "outputs": [
    {
     "name": "stdout",
     "output_type": "stream",
     "text": [
      "Jumlah baris sebelum penghapusan: 467\n",
      "Jumlah baris setelah penghapusan: 387\n"
     ]
    }
   ],
   "source": [
    "print(\"Jumlah baris sebelum penghapusan:\", len(df3))\n",
    "\n",
    "# Menghapus 80 baris terakhir\n",
    "df3 = df3.iloc[:-80]\n",
    "\n",
    "# Menampilkan jumlah baris setelah penghapusan\n",
    "print(\"Jumlah baris setelah penghapusan:\", len(df3))\n",
    "\n",
    "# Menyimpan DataFrame yang telah diubah ke file CSV\n",
    "df3.to_csv('final_bgt.csv', index=False)"
   ],
   "metadata": {
    "collapsed": false,
    "ExecuteTime": {
     "end_time": "2023-12-03T07:32:51.248929500Z",
     "start_time": "2023-12-03T07:32:51.127310Z"
    }
   },
   "id": "154051d28eecec00"
  },
  {
   "cell_type": "code",
   "execution_count": 21,
   "outputs": [
    {
     "name": "stdout",
     "output_type": "stream",
     "text": [
      "GPA                 184\n",
      "Gender                1\n",
      "breakfast           182\n",
      "calories_chicken    182\n",
      "calories_day        208\n",
      "                   ... \n",
      "Participant_ID       75\n",
      "Nationality          75\n",
      "Food                 75\n",
      "Juice                75\n",
      "Dessert              75\n",
      "Length: 68, dtype: int64\n"
     ]
    }
   ],
   "source": [
    "df4 = pd.read_csv('final_bgt.csv')\n",
    "null_values = df4.isnull().sum()\n",
    "\n",
    "# Menampilkan nilai null di setiap kolom\n",
    "print(null_values)"
   ],
   "metadata": {
    "collapsed": false,
    "ExecuteTime": {
     "end_time": "2023-12-03T07:32:51.578031300Z",
     "start_time": "2023-12-03T07:32:51.264566200Z"
    }
   },
   "id": "70b543431fd447a3"
  },
  {
   "cell_type": "code",
   "execution_count": 22,
   "outputs": [
    {
     "name": "stdout",
     "output_type": "stream",
     "text": [
      "Jumlah baris sebelum penghapusan: 387\n",
      "Jumlah baris setelah penghapusan: 386\n"
     ]
    }
   ],
   "source": [
    "print(\"Jumlah baris sebelum penghapusan:\", len(df4))\n",
    "\n",
    "# Menghapus baris dengan nilai null pada kolom \"Gender\"\n",
    "df4 = df4.dropna(subset=['Gender'])\n",
    "\n",
    "# Menampilkan jumlah baris setelah penghapusan\n",
    "print(\"Jumlah baris setelah penghapusan:\", len(df4))\n",
    "\n",
    "# Menyimpan DataFrame yang telah diubah ke file CSV\n",
    "df4.to_csv('final_bgt.csv', index=False)"
   ],
   "metadata": {
    "collapsed": false,
    "ExecuteTime": {
     "end_time": "2023-12-03T07:32:52.010084700Z",
     "start_time": "2023-12-03T07:32:51.609293600Z"
    }
   },
   "id": "76c4831a86f27dc8"
  },
  {
   "cell_type": "code",
   "execution_count": 28,
   "outputs": [
    {
     "name": "stdout",
     "output_type": "stream",
     "text": [
      "Gender                0\n",
      "breakfast           181\n",
      "calories_chicken    181\n",
      "calories_day        207\n",
      "calories_scone      182\n",
      "                   ... \n",
      "Participant_ID       75\n",
      "Nationality          75\n",
      "Food                 75\n",
      "Juice                75\n",
      "Dessert              75\n",
      "Length: 67, dtype: int64\n"
     ]
    },
    {
     "ename": "KeyError",
     "evalue": "\"['GPA'] not found in axis\"",
     "output_type": "error",
     "traceback": [
      "\u001B[1;31m---------------------------------------------------------------------------\u001B[0m",
      "\u001B[1;31mKeyError\u001B[0m                                  Traceback (most recent call last)",
      "Cell \u001B[1;32mIn[28], line 7\u001B[0m\n\u001B[0;32m      4\u001B[0m \u001B[38;5;66;03m# Menampilkan nilai null di setiap kolom\u001B[39;00m\n\u001B[0;32m      5\u001B[0m \u001B[38;5;28mprint\u001B[39m(null_values)\n\u001B[1;32m----> 7\u001B[0m df5 \u001B[38;5;241m=\u001B[39m \u001B[43mdf5\u001B[49m\u001B[38;5;241;43m.\u001B[39;49m\u001B[43mdrop\u001B[49m\u001B[43m(\u001B[49m\u001B[43m[\u001B[49m\u001B[38;5;124;43m'\u001B[39;49m\u001B[38;5;124;43mGPA\u001B[39;49m\u001B[38;5;124;43m'\u001B[39;49m\u001B[43m]\u001B[49m\u001B[43m,\u001B[49m\u001B[43m \u001B[49m\u001B[43maxis\u001B[49m\u001B[38;5;241;43m=\u001B[39;49m\u001B[38;5;241;43m1\u001B[39;49m\u001B[43m)\u001B[49m\n\u001B[0;32m      8\u001B[0m df5\u001B[38;5;241m.\u001B[39mto_csv(\u001B[38;5;124m'\u001B[39m\u001B[38;5;124mfinal_bgt.csv\u001B[39m\u001B[38;5;124m'\u001B[39m, index\u001B[38;5;241m=\u001B[39m\u001B[38;5;28;01mFalse\u001B[39;00m)\n",
      "File \u001B[1;32m~\\AppData\\Local\\Programs\\Python\\Python311\\Lib\\site-packages\\pandas\\core\\frame.py:5347\u001B[0m, in \u001B[0;36mDataFrame.drop\u001B[1;34m(self, labels, axis, index, columns, level, inplace, errors)\u001B[0m\n\u001B[0;32m   5199\u001B[0m \u001B[38;5;28;01mdef\u001B[39;00m \u001B[38;5;21mdrop\u001B[39m(\n\u001B[0;32m   5200\u001B[0m     \u001B[38;5;28mself\u001B[39m,\n\u001B[0;32m   5201\u001B[0m     labels: IndexLabel \u001B[38;5;241m|\u001B[39m \u001B[38;5;28;01mNone\u001B[39;00m \u001B[38;5;241m=\u001B[39m \u001B[38;5;28;01mNone\u001B[39;00m,\n\u001B[1;32m   (...)\u001B[0m\n\u001B[0;32m   5208\u001B[0m     errors: IgnoreRaise \u001B[38;5;241m=\u001B[39m \u001B[38;5;124m\"\u001B[39m\u001B[38;5;124mraise\u001B[39m\u001B[38;5;124m\"\u001B[39m,\n\u001B[0;32m   5209\u001B[0m ) \u001B[38;5;241m-\u001B[39m\u001B[38;5;241m>\u001B[39m DataFrame \u001B[38;5;241m|\u001B[39m \u001B[38;5;28;01mNone\u001B[39;00m:\n\u001B[0;32m   5210\u001B[0m \u001B[38;5;250m    \u001B[39m\u001B[38;5;124;03m\"\"\"\u001B[39;00m\n\u001B[0;32m   5211\u001B[0m \u001B[38;5;124;03m    Drop specified labels from rows or columns.\u001B[39;00m\n\u001B[0;32m   5212\u001B[0m \n\u001B[1;32m   (...)\u001B[0m\n\u001B[0;32m   5345\u001B[0m \u001B[38;5;124;03m            weight  1.0     0.8\u001B[39;00m\n\u001B[0;32m   5346\u001B[0m \u001B[38;5;124;03m    \"\"\"\u001B[39;00m\n\u001B[1;32m-> 5347\u001B[0m     \u001B[38;5;28;01mreturn\u001B[39;00m \u001B[38;5;28;43msuper\u001B[39;49m\u001B[43m(\u001B[49m\u001B[43m)\u001B[49m\u001B[38;5;241;43m.\u001B[39;49m\u001B[43mdrop\u001B[49m\u001B[43m(\u001B[49m\n\u001B[0;32m   5348\u001B[0m \u001B[43m        \u001B[49m\u001B[43mlabels\u001B[49m\u001B[38;5;241;43m=\u001B[39;49m\u001B[43mlabels\u001B[49m\u001B[43m,\u001B[49m\n\u001B[0;32m   5349\u001B[0m \u001B[43m        \u001B[49m\u001B[43maxis\u001B[49m\u001B[38;5;241;43m=\u001B[39;49m\u001B[43maxis\u001B[49m\u001B[43m,\u001B[49m\n\u001B[0;32m   5350\u001B[0m \u001B[43m        \u001B[49m\u001B[43mindex\u001B[49m\u001B[38;5;241;43m=\u001B[39;49m\u001B[43mindex\u001B[49m\u001B[43m,\u001B[49m\n\u001B[0;32m   5351\u001B[0m \u001B[43m        \u001B[49m\u001B[43mcolumns\u001B[49m\u001B[38;5;241;43m=\u001B[39;49m\u001B[43mcolumns\u001B[49m\u001B[43m,\u001B[49m\n\u001B[0;32m   5352\u001B[0m \u001B[43m        \u001B[49m\u001B[43mlevel\u001B[49m\u001B[38;5;241;43m=\u001B[39;49m\u001B[43mlevel\u001B[49m\u001B[43m,\u001B[49m\n\u001B[0;32m   5353\u001B[0m \u001B[43m        \u001B[49m\u001B[43minplace\u001B[49m\u001B[38;5;241;43m=\u001B[39;49m\u001B[43minplace\u001B[49m\u001B[43m,\u001B[49m\n\u001B[0;32m   5354\u001B[0m \u001B[43m        \u001B[49m\u001B[43merrors\u001B[49m\u001B[38;5;241;43m=\u001B[39;49m\u001B[43merrors\u001B[49m\u001B[43m,\u001B[49m\n\u001B[0;32m   5355\u001B[0m \u001B[43m    \u001B[49m\u001B[43m)\u001B[49m\n",
      "File \u001B[1;32m~\\AppData\\Local\\Programs\\Python\\Python311\\Lib\\site-packages\\pandas\\core\\generic.py:4711\u001B[0m, in \u001B[0;36mNDFrame.drop\u001B[1;34m(self, labels, axis, index, columns, level, inplace, errors)\u001B[0m\n\u001B[0;32m   4709\u001B[0m \u001B[38;5;28;01mfor\u001B[39;00m axis, labels \u001B[38;5;129;01min\u001B[39;00m axes\u001B[38;5;241m.\u001B[39mitems():\n\u001B[0;32m   4710\u001B[0m     \u001B[38;5;28;01mif\u001B[39;00m labels \u001B[38;5;129;01mis\u001B[39;00m \u001B[38;5;129;01mnot\u001B[39;00m \u001B[38;5;28;01mNone\u001B[39;00m:\n\u001B[1;32m-> 4711\u001B[0m         obj \u001B[38;5;241m=\u001B[39m \u001B[43mobj\u001B[49m\u001B[38;5;241;43m.\u001B[39;49m\u001B[43m_drop_axis\u001B[49m\u001B[43m(\u001B[49m\u001B[43mlabels\u001B[49m\u001B[43m,\u001B[49m\u001B[43m \u001B[49m\u001B[43maxis\u001B[49m\u001B[43m,\u001B[49m\u001B[43m \u001B[49m\u001B[43mlevel\u001B[49m\u001B[38;5;241;43m=\u001B[39;49m\u001B[43mlevel\u001B[49m\u001B[43m,\u001B[49m\u001B[43m \u001B[49m\u001B[43merrors\u001B[49m\u001B[38;5;241;43m=\u001B[39;49m\u001B[43merrors\u001B[49m\u001B[43m)\u001B[49m\n\u001B[0;32m   4713\u001B[0m \u001B[38;5;28;01mif\u001B[39;00m inplace:\n\u001B[0;32m   4714\u001B[0m     \u001B[38;5;28mself\u001B[39m\u001B[38;5;241m.\u001B[39m_update_inplace(obj)\n",
      "File \u001B[1;32m~\\AppData\\Local\\Programs\\Python\\Python311\\Lib\\site-packages\\pandas\\core\\generic.py:4753\u001B[0m, in \u001B[0;36mNDFrame._drop_axis\u001B[1;34m(self, labels, axis, level, errors, only_slice)\u001B[0m\n\u001B[0;32m   4751\u001B[0m         new_axis \u001B[38;5;241m=\u001B[39m axis\u001B[38;5;241m.\u001B[39mdrop(labels, level\u001B[38;5;241m=\u001B[39mlevel, errors\u001B[38;5;241m=\u001B[39merrors)\n\u001B[0;32m   4752\u001B[0m     \u001B[38;5;28;01melse\u001B[39;00m:\n\u001B[1;32m-> 4753\u001B[0m         new_axis \u001B[38;5;241m=\u001B[39m \u001B[43maxis\u001B[49m\u001B[38;5;241;43m.\u001B[39;49m\u001B[43mdrop\u001B[49m\u001B[43m(\u001B[49m\u001B[43mlabels\u001B[49m\u001B[43m,\u001B[49m\u001B[43m \u001B[49m\u001B[43merrors\u001B[49m\u001B[38;5;241;43m=\u001B[39;49m\u001B[43merrors\u001B[49m\u001B[43m)\u001B[49m\n\u001B[0;32m   4754\u001B[0m     indexer \u001B[38;5;241m=\u001B[39m axis\u001B[38;5;241m.\u001B[39mget_indexer(new_axis)\n\u001B[0;32m   4756\u001B[0m \u001B[38;5;66;03m# Case for non-unique axis\u001B[39;00m\n\u001B[0;32m   4757\u001B[0m \u001B[38;5;28;01melse\u001B[39;00m:\n",
      "File \u001B[1;32m~\\AppData\\Local\\Programs\\Python\\Python311\\Lib\\site-packages\\pandas\\core\\indexes\\base.py:6992\u001B[0m, in \u001B[0;36mIndex.drop\u001B[1;34m(self, labels, errors)\u001B[0m\n\u001B[0;32m   6990\u001B[0m \u001B[38;5;28;01mif\u001B[39;00m mask\u001B[38;5;241m.\u001B[39many():\n\u001B[0;32m   6991\u001B[0m     \u001B[38;5;28;01mif\u001B[39;00m errors \u001B[38;5;241m!=\u001B[39m \u001B[38;5;124m\"\u001B[39m\u001B[38;5;124mignore\u001B[39m\u001B[38;5;124m\"\u001B[39m:\n\u001B[1;32m-> 6992\u001B[0m         \u001B[38;5;28;01mraise\u001B[39;00m \u001B[38;5;167;01mKeyError\u001B[39;00m(\u001B[38;5;124mf\u001B[39m\u001B[38;5;124m\"\u001B[39m\u001B[38;5;132;01m{\u001B[39;00mlabels[mask]\u001B[38;5;241m.\u001B[39mtolist()\u001B[38;5;132;01m}\u001B[39;00m\u001B[38;5;124m not found in axis\u001B[39m\u001B[38;5;124m\"\u001B[39m)\n\u001B[0;32m   6993\u001B[0m     indexer \u001B[38;5;241m=\u001B[39m indexer[\u001B[38;5;241m~\u001B[39mmask]\n\u001B[0;32m   6994\u001B[0m \u001B[38;5;28;01mreturn\u001B[39;00m \u001B[38;5;28mself\u001B[39m\u001B[38;5;241m.\u001B[39mdelete(indexer)\n",
      "\u001B[1;31mKeyError\u001B[0m: \"['GPA'] not found in axis\""
     ]
    }
   ],
   "source": [
    "df5 = pd.read_csv('final_bgt.csv')\n",
    "null_values = df5.isnull().sum()\n",
    "\n",
    "# Menampilkan nilai null di setiap kolom\n",
    "print(null_values)\n",
    "\n",
    "df5 = df5.drop(['GPA'], axis=1)\n",
    "df5.to_csv('final_bgt.csv', index=False)"
   ],
   "metadata": {
    "collapsed": false,
    "ExecuteTime": {
     "end_time": "2023-12-03T07:37:27.056949200Z",
     "start_time": "2023-12-03T07:37:26.886926600Z"
    }
   },
   "id": "ef4c4a84c2caa9f2"
  },
  {
   "cell_type": "code",
   "execution_count": 29,
   "outputs": [
    {
     "name": "stdout",
     "output_type": "stream",
     "text": [
      "Participant_ID           0\n",
      "Gender                   0\n",
      "cuisine                205\n",
      "ethnic_food            181\n",
      "food_childhood         182\n",
      "fruit_day              181\n",
      "indian_food            181\n",
      "italian_food           181\n",
      "marital_status         182\n",
      "meals_dinner_friend    184\n",
      "persian_food           182\n",
      "soup                   182\n",
      "thai_food              181\n",
      "weight                 188\n",
      "Age                      0\n",
      "Nationality             75\n",
      "Food                     0\n",
      "Drinks                   0\n",
      "Dessert                 75\n",
      "comfort_food           182\n",
      "dtype: int64\n"
     ]
    },
    {
     "ename": "KeyError",
     "evalue": "\"['GPA'] not found in axis\"",
     "output_type": "error",
     "traceback": [
      "\u001B[1;31m---------------------------------------------------------------------------\u001B[0m",
      "\u001B[1;31mKeyError\u001B[0m                                  Traceback (most recent call last)",
      "Cell \u001B[1;32mIn[29], line 7\u001B[0m\n\u001B[0;32m      4\u001B[0m \u001B[38;5;66;03m# Menampilkan nilai null di setiap kolom\u001B[39;00m\n\u001B[0;32m      5\u001B[0m \u001B[38;5;28mprint\u001B[39m(null_values)\n\u001B[1;32m----> 7\u001B[0m data \u001B[38;5;241m=\u001B[39m \u001B[43mdata\u001B[49m\u001B[38;5;241;43m.\u001B[39;49m\u001B[43mdrop\u001B[49m\u001B[43m(\u001B[49m\u001B[43m[\u001B[49m\u001B[38;5;124;43m'\u001B[39;49m\u001B[38;5;124;43mGPA\u001B[39;49m\u001B[38;5;124;43m'\u001B[39;49m\u001B[43m]\u001B[49m\u001B[43m,\u001B[49m\u001B[43m \u001B[49m\u001B[43maxis\u001B[49m\u001B[38;5;241;43m=\u001B[39;49m\u001B[38;5;241;43m1\u001B[39;49m\u001B[43m)\u001B[49m\n\u001B[0;32m      8\u001B[0m data\u001B[38;5;241m.\u001B[39mto_csv(\u001B[38;5;124m'\u001B[39m\u001B[38;5;124mfinal_bgt.csv\u001B[39m\u001B[38;5;124m'\u001B[39m, index\u001B[38;5;241m=\u001B[39m\u001B[38;5;28;01mFalse\u001B[39;00m)\n",
      "File \u001B[1;32m~\\AppData\\Local\\Programs\\Python\\Python311\\Lib\\site-packages\\pandas\\core\\frame.py:5347\u001B[0m, in \u001B[0;36mDataFrame.drop\u001B[1;34m(self, labels, axis, index, columns, level, inplace, errors)\u001B[0m\n\u001B[0;32m   5199\u001B[0m \u001B[38;5;28;01mdef\u001B[39;00m \u001B[38;5;21mdrop\u001B[39m(\n\u001B[0;32m   5200\u001B[0m     \u001B[38;5;28mself\u001B[39m,\n\u001B[0;32m   5201\u001B[0m     labels: IndexLabel \u001B[38;5;241m|\u001B[39m \u001B[38;5;28;01mNone\u001B[39;00m \u001B[38;5;241m=\u001B[39m \u001B[38;5;28;01mNone\u001B[39;00m,\n\u001B[1;32m   (...)\u001B[0m\n\u001B[0;32m   5208\u001B[0m     errors: IgnoreRaise \u001B[38;5;241m=\u001B[39m \u001B[38;5;124m\"\u001B[39m\u001B[38;5;124mraise\u001B[39m\u001B[38;5;124m\"\u001B[39m,\n\u001B[0;32m   5209\u001B[0m ) \u001B[38;5;241m-\u001B[39m\u001B[38;5;241m>\u001B[39m DataFrame \u001B[38;5;241m|\u001B[39m \u001B[38;5;28;01mNone\u001B[39;00m:\n\u001B[0;32m   5210\u001B[0m \u001B[38;5;250m    \u001B[39m\u001B[38;5;124;03m\"\"\"\u001B[39;00m\n\u001B[0;32m   5211\u001B[0m \u001B[38;5;124;03m    Drop specified labels from rows or columns.\u001B[39;00m\n\u001B[0;32m   5212\u001B[0m \n\u001B[1;32m   (...)\u001B[0m\n\u001B[0;32m   5345\u001B[0m \u001B[38;5;124;03m            weight  1.0     0.8\u001B[39;00m\n\u001B[0;32m   5346\u001B[0m \u001B[38;5;124;03m    \"\"\"\u001B[39;00m\n\u001B[1;32m-> 5347\u001B[0m     \u001B[38;5;28;01mreturn\u001B[39;00m \u001B[38;5;28;43msuper\u001B[39;49m\u001B[43m(\u001B[49m\u001B[43m)\u001B[49m\u001B[38;5;241;43m.\u001B[39;49m\u001B[43mdrop\u001B[49m\u001B[43m(\u001B[49m\n\u001B[0;32m   5348\u001B[0m \u001B[43m        \u001B[49m\u001B[43mlabels\u001B[49m\u001B[38;5;241;43m=\u001B[39;49m\u001B[43mlabels\u001B[49m\u001B[43m,\u001B[49m\n\u001B[0;32m   5349\u001B[0m \u001B[43m        \u001B[49m\u001B[43maxis\u001B[49m\u001B[38;5;241;43m=\u001B[39;49m\u001B[43maxis\u001B[49m\u001B[43m,\u001B[49m\n\u001B[0;32m   5350\u001B[0m \u001B[43m        \u001B[49m\u001B[43mindex\u001B[49m\u001B[38;5;241;43m=\u001B[39;49m\u001B[43mindex\u001B[49m\u001B[43m,\u001B[49m\n\u001B[0;32m   5351\u001B[0m \u001B[43m        \u001B[49m\u001B[43mcolumns\u001B[49m\u001B[38;5;241;43m=\u001B[39;49m\u001B[43mcolumns\u001B[49m\u001B[43m,\u001B[49m\n\u001B[0;32m   5352\u001B[0m \u001B[43m        \u001B[49m\u001B[43mlevel\u001B[49m\u001B[38;5;241;43m=\u001B[39;49m\u001B[43mlevel\u001B[49m\u001B[43m,\u001B[49m\n\u001B[0;32m   5353\u001B[0m \u001B[43m        \u001B[49m\u001B[43minplace\u001B[49m\u001B[38;5;241;43m=\u001B[39;49m\u001B[43minplace\u001B[49m\u001B[43m,\u001B[49m\n\u001B[0;32m   5354\u001B[0m \u001B[43m        \u001B[49m\u001B[43merrors\u001B[49m\u001B[38;5;241;43m=\u001B[39;49m\u001B[43merrors\u001B[49m\u001B[43m,\u001B[49m\n\u001B[0;32m   5355\u001B[0m \u001B[43m    \u001B[49m\u001B[43m)\u001B[49m\n",
      "File \u001B[1;32m~\\AppData\\Local\\Programs\\Python\\Python311\\Lib\\site-packages\\pandas\\core\\generic.py:4711\u001B[0m, in \u001B[0;36mNDFrame.drop\u001B[1;34m(self, labels, axis, index, columns, level, inplace, errors)\u001B[0m\n\u001B[0;32m   4709\u001B[0m \u001B[38;5;28;01mfor\u001B[39;00m axis, labels \u001B[38;5;129;01min\u001B[39;00m axes\u001B[38;5;241m.\u001B[39mitems():\n\u001B[0;32m   4710\u001B[0m     \u001B[38;5;28;01mif\u001B[39;00m labels \u001B[38;5;129;01mis\u001B[39;00m \u001B[38;5;129;01mnot\u001B[39;00m \u001B[38;5;28;01mNone\u001B[39;00m:\n\u001B[1;32m-> 4711\u001B[0m         obj \u001B[38;5;241m=\u001B[39m \u001B[43mobj\u001B[49m\u001B[38;5;241;43m.\u001B[39;49m\u001B[43m_drop_axis\u001B[49m\u001B[43m(\u001B[49m\u001B[43mlabels\u001B[49m\u001B[43m,\u001B[49m\u001B[43m \u001B[49m\u001B[43maxis\u001B[49m\u001B[43m,\u001B[49m\u001B[43m \u001B[49m\u001B[43mlevel\u001B[49m\u001B[38;5;241;43m=\u001B[39;49m\u001B[43mlevel\u001B[49m\u001B[43m,\u001B[49m\u001B[43m \u001B[49m\u001B[43merrors\u001B[49m\u001B[38;5;241;43m=\u001B[39;49m\u001B[43merrors\u001B[49m\u001B[43m)\u001B[49m\n\u001B[0;32m   4713\u001B[0m \u001B[38;5;28;01mif\u001B[39;00m inplace:\n\u001B[0;32m   4714\u001B[0m     \u001B[38;5;28mself\u001B[39m\u001B[38;5;241m.\u001B[39m_update_inplace(obj)\n",
      "File \u001B[1;32m~\\AppData\\Local\\Programs\\Python\\Python311\\Lib\\site-packages\\pandas\\core\\generic.py:4753\u001B[0m, in \u001B[0;36mNDFrame._drop_axis\u001B[1;34m(self, labels, axis, level, errors, only_slice)\u001B[0m\n\u001B[0;32m   4751\u001B[0m         new_axis \u001B[38;5;241m=\u001B[39m axis\u001B[38;5;241m.\u001B[39mdrop(labels, level\u001B[38;5;241m=\u001B[39mlevel, errors\u001B[38;5;241m=\u001B[39merrors)\n\u001B[0;32m   4752\u001B[0m     \u001B[38;5;28;01melse\u001B[39;00m:\n\u001B[1;32m-> 4753\u001B[0m         new_axis \u001B[38;5;241m=\u001B[39m \u001B[43maxis\u001B[49m\u001B[38;5;241;43m.\u001B[39;49m\u001B[43mdrop\u001B[49m\u001B[43m(\u001B[49m\u001B[43mlabels\u001B[49m\u001B[43m,\u001B[49m\u001B[43m \u001B[49m\u001B[43merrors\u001B[49m\u001B[38;5;241;43m=\u001B[39;49m\u001B[43merrors\u001B[49m\u001B[43m)\u001B[49m\n\u001B[0;32m   4754\u001B[0m     indexer \u001B[38;5;241m=\u001B[39m axis\u001B[38;5;241m.\u001B[39mget_indexer(new_axis)\n\u001B[0;32m   4756\u001B[0m \u001B[38;5;66;03m# Case for non-unique axis\u001B[39;00m\n\u001B[0;32m   4757\u001B[0m \u001B[38;5;28;01melse\u001B[39;00m:\n",
      "File \u001B[1;32m~\\AppData\\Local\\Programs\\Python\\Python311\\Lib\\site-packages\\pandas\\core\\indexes\\base.py:6992\u001B[0m, in \u001B[0;36mIndex.drop\u001B[1;34m(self, labels, errors)\u001B[0m\n\u001B[0;32m   6990\u001B[0m \u001B[38;5;28;01mif\u001B[39;00m mask\u001B[38;5;241m.\u001B[39many():\n\u001B[0;32m   6991\u001B[0m     \u001B[38;5;28;01mif\u001B[39;00m errors \u001B[38;5;241m!=\u001B[39m \u001B[38;5;124m\"\u001B[39m\u001B[38;5;124mignore\u001B[39m\u001B[38;5;124m\"\u001B[39m:\n\u001B[1;32m-> 6992\u001B[0m         \u001B[38;5;28;01mraise\u001B[39;00m \u001B[38;5;167;01mKeyError\u001B[39;00m(\u001B[38;5;124mf\u001B[39m\u001B[38;5;124m\"\u001B[39m\u001B[38;5;132;01m{\u001B[39;00mlabels[mask]\u001B[38;5;241m.\u001B[39mtolist()\u001B[38;5;132;01m}\u001B[39;00m\u001B[38;5;124m not found in axis\u001B[39m\u001B[38;5;124m\"\u001B[39m)\n\u001B[0;32m   6993\u001B[0m     indexer \u001B[38;5;241m=\u001B[39m indexer[\u001B[38;5;241m~\u001B[39mmask]\n\u001B[0;32m   6994\u001B[0m \u001B[38;5;28;01mreturn\u001B[39;00m \u001B[38;5;28mself\u001B[39m\u001B[38;5;241m.\u001B[39mdelete(indexer)\n",
      "\u001B[1;31mKeyError\u001B[0m: \"['GPA'] not found in axis\""
     ]
    }
   ],
   "source": [
    "data = pd.read_csv('final_bgt.csv')\n",
    "null_values = data.isnull().sum()\n",
    "\n",
    "# Menampilkan nilai null di setiap kolom\n",
    "print(null_values)\n",
    "\n",
    "data = data.drop(['GPA'], axis=1)\n",
    "data.to_csv('final_bgt.csv', index=False)"
   ],
   "metadata": {
    "collapsed": false,
    "ExecuteTime": {
     "end_time": "2023-12-03T11:48:49.148502800Z",
     "start_time": "2023-12-03T11:48:48.797500300Z"
    }
   },
   "id": "a392bb26a3d7c467"
  },
  {
   "cell_type": "code",
   "execution_count": 33,
   "outputs": [
    {
     "name": "stdout",
     "output_type": "stream",
     "text": [
      "    Nationality       Cuisine\n",
      "0        Indian        Indian\n",
      "1     Pakistani        Indian\n",
      "2     Tanzanian           NaN\n",
      "3     Indonesia           NaN\n",
      "4      Malaysia     Malaysian\n",
      "5     Maldivian     Malaysian\n",
      "6     Malaysian           NaN\n",
      "7      Canadian      American\n",
      "8      Nigerian       African\n",
      "9      Algerian       African\n",
      "10       Korean  Korean/Asian\n",
      "11  Seychellois       African\n",
      "12     Japanese           NaN\n"
     ]
    }
   ],
   "source": [
    "nationality_data = [\n",
    "    'Indian', 'Pakistani', 'Tanzanian', 'Indonesia', 'Malaysia', 'Maldivian', 'Malaysian', 'Canadian', 'Nigerian', 'Algerian', 'Korean', 'Seychellois', 'Japanese',]\n",
    "\n",
    "data = {'Nationality': nationality_data}  # Masukkan data sesuai dataset Anda\n",
    "df_new = pd.DataFrame(data)\n",
    "\n",
    "# Membuat pemetaan untuk kolom \"Nationality\" ke kolom \"Cuisine\"\n",
    "mapping = {\n",
    "    'Indian': 'Indian',\n",
    "    'Pakistani': 'Indian',\n",
    "    'MY': 'Malaysian',\n",
    "    'Maldivian': 'Malaysian',\n",
    "    'Malaysia': 'Malaysian',\n",
    "    'Canadian': 'American',\n",
    "    'Nigerian': 'African',\n",
    "    'Algerian': 'African',\n",
    "    'Korean': 'Korean/Asian',\n",
    "    'Seychellois': 'African',\n",
    "    'Indonesian': 'Other',\n",
    "    'Indonesain': 'Other',\n",
    "    'Japan': 'Other',\n",
    "}\n",
    "\n",
    "# Membuat kolom baru \"Cuisine\" dengan menggunakan pemetaan\n",
    "df_new['Cuisine'] = df_new['Nationality'].map(mapping)\n",
    "\n",
    "# Menampilkan DataFrame hasil\n",
    "print(df_new)\n",
    "df_new.to_csv('final_bgt.csv', index=False)"
   ],
   "metadata": {
    "collapsed": false,
    "ExecuteTime": {
     "end_time": "2023-12-03T12:01:58.966329700Z",
     "start_time": "2023-12-03T12:01:58.904518100Z"
    }
   },
   "id": "ce50a36371ce055e"
  },
  {
   "cell_type": "code",
   "execution_count": null,
   "outputs": [],
   "source": [],
   "metadata": {
    "collapsed": false
   },
   "id": "fdcc320d45439bac"
  }
 ],
 "metadata": {
  "kernelspec": {
   "display_name": "Python 3",
   "language": "python",
   "name": "python3"
  },
  "language_info": {
   "codemirror_mode": {
    "name": "ipython",
    "version": 2
   },
   "file_extension": ".py",
   "mimetype": "text/x-python",
   "name": "python",
   "nbconvert_exporter": "python",
   "pygments_lexer": "ipython2",
   "version": "2.7.6"
  }
 },
 "nbformat": 4,
 "nbformat_minor": 5
}
