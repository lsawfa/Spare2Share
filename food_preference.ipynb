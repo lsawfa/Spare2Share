{
 "cells": [
  {
   "cell_type": "markdown",
   "source": [
    "# Food Preference"
   ],
   "metadata": {
    "collapsed": false
   },
   "id": "2e88e0aff9331fd8"
  },
  {
   "cell_type": "markdown",
   "source": [
    "## Persiapan Data"
   ],
   "metadata": {
    "collapsed": false
   },
   "id": "6238972e341c677f"
  },
  {
   "cell_type": "code",
   "execution_count": 85,
   "outputs": [],
   "source": [
    "import pandas as pd"
   ],
   "metadata": {
    "collapsed": false,
    "ExecuteTime": {
     "end_time": "2023-11-26T09:08:12.840650200Z",
     "start_time": "2023-11-26T09:08:11.347786200Z"
    }
   },
   "id": "14b0b5896cc50b81"
  },
  {
   "cell_type": "code",
   "execution_count": 86,
   "outputs": [
    {
     "data": {
      "text/plain": "                     Timestamp Participant_ID  Gender Nationality  Age  \\\n0  2019/05/07 2:59:13 PM GMT+8         FPS001    Male      Indian   24   \n1  2019/05/07 2:59:45 PM GMT+8         FPS002  Female      Indian   22   \n2  2019/05/07 3:00:05 PM GMT+8         FPS003    Male      Indian   31   \n3  2019/05/07 3:00:11 PM GMT+8         FPS004  Female      Indian   25   \n4  2019/05/07 3:02:50 PM GMT+8         FPS005    Male      Indian   27   \n\n               Food              Juice Dessert  \n0  Traditional food        Fresh Juice   Maybe  \n1      Western Food  Carbonated drinks     Yes  \n2      Western Food        Fresh Juice   Maybe  \n3  Traditional food        Fresh Juice   Maybe  \n4  Traditional food        Fresh Juice   Maybe  ",
      "text/html": "<div>\n<style scoped>\n    .dataframe tbody tr th:only-of-type {\n        vertical-align: middle;\n    }\n\n    .dataframe tbody tr th {\n        vertical-align: top;\n    }\n\n    .dataframe thead th {\n        text-align: right;\n    }\n</style>\n<table border=\"1\" class=\"dataframe\">\n  <thead>\n    <tr style=\"text-align: right;\">\n      <th></th>\n      <th>Timestamp</th>\n      <th>Participant_ID</th>\n      <th>Gender</th>\n      <th>Nationality</th>\n      <th>Age</th>\n      <th>Food</th>\n      <th>Juice</th>\n      <th>Dessert</th>\n    </tr>\n  </thead>\n  <tbody>\n    <tr>\n      <th>0</th>\n      <td>2019/05/07 2:59:13 PM GMT+8</td>\n      <td>FPS001</td>\n      <td>Male</td>\n      <td>Indian</td>\n      <td>24</td>\n      <td>Traditional food</td>\n      <td>Fresh Juice</td>\n      <td>Maybe</td>\n    </tr>\n    <tr>\n      <th>1</th>\n      <td>2019/05/07 2:59:45 PM GMT+8</td>\n      <td>FPS002</td>\n      <td>Female</td>\n      <td>Indian</td>\n      <td>22</td>\n      <td>Western Food</td>\n      <td>Carbonated drinks</td>\n      <td>Yes</td>\n    </tr>\n    <tr>\n      <th>2</th>\n      <td>2019/05/07 3:00:05 PM GMT+8</td>\n      <td>FPS003</td>\n      <td>Male</td>\n      <td>Indian</td>\n      <td>31</td>\n      <td>Western Food</td>\n      <td>Fresh Juice</td>\n      <td>Maybe</td>\n    </tr>\n    <tr>\n      <th>3</th>\n      <td>2019/05/07 3:00:11 PM GMT+8</td>\n      <td>FPS004</td>\n      <td>Female</td>\n      <td>Indian</td>\n      <td>25</td>\n      <td>Traditional food</td>\n      <td>Fresh Juice</td>\n      <td>Maybe</td>\n    </tr>\n    <tr>\n      <th>4</th>\n      <td>2019/05/07 3:02:50 PM GMT+8</td>\n      <td>FPS005</td>\n      <td>Male</td>\n      <td>Indian</td>\n      <td>27</td>\n      <td>Traditional food</td>\n      <td>Fresh Juice</td>\n      <td>Maybe</td>\n    </tr>\n  </tbody>\n</table>\n</div>"
     },
     "execution_count": 86,
     "metadata": {},
     "output_type": "execute_result"
    }
   ],
   "source": [
    "# Baca data dari file CSV\n",
    "file_path = 'Food_Preference.csv'\n",
    "df = pd.read_csv(file_path)\n",
    "df.head()"
   ],
   "metadata": {
    "collapsed": false,
    "ExecuteTime": {
     "end_time": "2023-11-26T09:08:12.840650200Z",
     "start_time": "2023-11-26T09:08:11.398208800Z"
    }
   },
   "id": "8761b433d31b80d8"
  },
  {
   "cell_type": "code",
   "execution_count": 87,
   "outputs": [],
   "source": [
    "columns_to_drop = ['Timestamp']\n",
    "df = df.drop(columns=columns_to_drop)"
   ],
   "metadata": {
    "collapsed": false,
    "ExecuteTime": {
     "end_time": "2023-11-26T09:08:12.856279600Z",
     "start_time": "2023-11-26T09:08:11.582958500Z"
    }
   },
   "id": "79f56f7a799fd774"
  },
  {
   "cell_type": "code",
   "execution_count": 88,
   "outputs": [
    {
     "data": {
      "text/plain": "  Participant_ID  Gender Nationality  Age              Food  \\\n0         FPS001    Male      Indian   24  Traditional food   \n1         FPS002  Female      Indian   22      Western Food   \n2         FPS003    Male      Indian   31      Western Food   \n3         FPS004  Female      Indian   25  Traditional food   \n4         FPS005    Male      Indian   27  Traditional food   \n\n               Juice Dessert  \n0        Fresh Juice   Maybe  \n1  Carbonated drinks     Yes  \n2        Fresh Juice   Maybe  \n3        Fresh Juice   Maybe  \n4        Fresh Juice   Maybe  ",
      "text/html": "<div>\n<style scoped>\n    .dataframe tbody tr th:only-of-type {\n        vertical-align: middle;\n    }\n\n    .dataframe tbody tr th {\n        vertical-align: top;\n    }\n\n    .dataframe thead th {\n        text-align: right;\n    }\n</style>\n<table border=\"1\" class=\"dataframe\">\n  <thead>\n    <tr style=\"text-align: right;\">\n      <th></th>\n      <th>Participant_ID</th>\n      <th>Gender</th>\n      <th>Nationality</th>\n      <th>Age</th>\n      <th>Food</th>\n      <th>Juice</th>\n      <th>Dessert</th>\n    </tr>\n  </thead>\n  <tbody>\n    <tr>\n      <th>0</th>\n      <td>FPS001</td>\n      <td>Male</td>\n      <td>Indian</td>\n      <td>24</td>\n      <td>Traditional food</td>\n      <td>Fresh Juice</td>\n      <td>Maybe</td>\n    </tr>\n    <tr>\n      <th>1</th>\n      <td>FPS002</td>\n      <td>Female</td>\n      <td>Indian</td>\n      <td>22</td>\n      <td>Western Food</td>\n      <td>Carbonated drinks</td>\n      <td>Yes</td>\n    </tr>\n    <tr>\n      <th>2</th>\n      <td>FPS003</td>\n      <td>Male</td>\n      <td>Indian</td>\n      <td>31</td>\n      <td>Western Food</td>\n      <td>Fresh Juice</td>\n      <td>Maybe</td>\n    </tr>\n    <tr>\n      <th>3</th>\n      <td>FPS004</td>\n      <td>Female</td>\n      <td>Indian</td>\n      <td>25</td>\n      <td>Traditional food</td>\n      <td>Fresh Juice</td>\n      <td>Maybe</td>\n    </tr>\n    <tr>\n      <th>4</th>\n      <td>FPS005</td>\n      <td>Male</td>\n      <td>Indian</td>\n      <td>27</td>\n      <td>Traditional food</td>\n      <td>Fresh Juice</td>\n      <td>Maybe</td>\n    </tr>\n  </tbody>\n</table>\n</div>"
     },
     "execution_count": 88,
     "metadata": {},
     "output_type": "execute_result"
    }
   ],
   "source": [
    "df.head()"
   ],
   "metadata": {
    "collapsed": false,
    "ExecuteTime": {
     "end_time": "2023-11-26T09:08:12.856279600Z",
     "start_time": "2023-11-26T09:08:11.924174700Z"
    }
   },
   "id": "6b2cf78a3bf3d31a"
  },
  {
   "cell_type": "code",
   "execution_count": 89,
   "outputs": [
    {
     "name": "stdout",
     "output_type": "stream",
     "text": [
      "<class 'pandas.core.frame.DataFrame'>\n",
      "RangeIndex: 288 entries, 0 to 287\n",
      "Data columns (total 7 columns):\n",
      " #   Column          Non-Null Count  Dtype \n",
      "---  ------          --------------  ----- \n",
      " 0   Participant_ID  288 non-null    object\n",
      " 1   Gender          284 non-null    object\n",
      " 2   Nationality     288 non-null    object\n",
      " 3   Age             288 non-null    int64 \n",
      " 4   Food            288 non-null    object\n",
      " 5   Juice           288 non-null    object\n",
      " 6   Dessert         288 non-null    object\n",
      "dtypes: int64(1), object(6)\n",
      "memory usage: 15.9+ KB\n"
     ]
    }
   ],
   "source": [
    "df.info()"
   ],
   "metadata": {
    "collapsed": false,
    "ExecuteTime": {
     "end_time": "2023-11-26T09:08:12.856279600Z",
     "start_time": "2023-11-26T09:08:12.005458600Z"
    }
   },
   "id": "23c86251dd537c03"
  },
  {
   "cell_type": "code",
   "execution_count": 90,
   "outputs": [
    {
     "data": {
      "text/plain": "Participant_ID    0\nGender            4\nNationality       0\nAge               0\nFood              0\nJuice             0\nDessert           0\ndtype: int64"
     },
     "execution_count": 90,
     "metadata": {},
     "output_type": "execute_result"
    }
   ],
   "source": [
    "df.isnull().sum()"
   ],
   "metadata": {
    "collapsed": false,
    "ExecuteTime": {
     "end_time": "2023-11-26T09:08:12.871907200Z",
     "start_time": "2023-11-26T09:08:12.072475400Z"
    }
   },
   "id": "a17caa143c77dadb"
  },
  {
   "cell_type": "code",
   "execution_count": 91,
   "outputs": [],
   "source": [
    "df.dropna(subset=['Gender'], inplace=True)"
   ],
   "metadata": {
    "collapsed": false,
    "ExecuteTime": {
     "end_time": "2023-11-26T09:08:12.871907200Z",
     "start_time": "2023-11-26T09:08:12.143903600Z"
    }
   },
   "id": "af38256138956d89"
  },
  {
   "cell_type": "code",
   "execution_count": 92,
   "outputs": [
    {
     "data": {
      "text/plain": "Participant_ID    0\nGender            0\nNationality       0\nAge               0\nFood              0\nJuice             0\nDessert           0\ndtype: int64"
     },
     "execution_count": 92,
     "metadata": {},
     "output_type": "execute_result"
    }
   ],
   "source": [
    "df.isnull().sum()"
   ],
   "metadata": {
    "collapsed": false,
    "ExecuteTime": {
     "end_time": "2023-11-26T09:08:12.871907200Z",
     "start_time": "2023-11-26T09:08:12.175671100Z"
    }
   },
   "id": "ececafa79d0214d6"
  },
  {
   "cell_type": "code",
   "execution_count": 93,
   "outputs": [
    {
     "data": {
      "text/plain": "0"
     },
     "execution_count": 93,
     "metadata": {},
     "output_type": "execute_result"
    }
   ],
   "source": [
    "df.duplicated().sum()"
   ],
   "metadata": {
    "collapsed": false,
    "ExecuteTime": {
     "end_time": "2023-11-26T09:08:12.871907200Z",
     "start_time": "2023-11-26T09:08:12.265825500Z"
    }
   },
   "id": "8d32f466bf3938d7"
  },
  {
   "cell_type": "markdown",
   "source": [
    "## Pemrosesan Data"
   ],
   "metadata": {
    "collapsed": false
   },
   "id": "5910cf47ffb17195"
  },
  {
   "cell_type": "code",
   "execution_count": 94,
   "outputs": [],
   "source": [
    "import tensorflow as tf\n",
    "from sklearn.model_selection import train_test_split\n",
    "from sklearn.preprocessing import LabelEncoder"
   ],
   "metadata": {
    "collapsed": false,
    "ExecuteTime": {
     "end_time": "2023-11-26T09:08:12.871907200Z",
     "start_time": "2023-11-26T09:08:12.303808800Z"
    }
   },
   "id": "604c1ae8e39e2e4d"
  },
  {
   "cell_type": "code",
   "execution_count": 95,
   "outputs": [],
   "source": [
    "label_encoder = LabelEncoder()\n",
    "df['Gender'] = label_encoder.fit_transform(df['Gender'])\n",
    "df['Nationality'] = label_encoder.fit_transform(df['Nationality'])\n",
    "df['Food'] = label_encoder.fit_transform(df['Food'])\n",
    "df['Juice'] = label_encoder.fit_transform(df['Juice'])\n",
    "df['Dessert'] = label_encoder.fit_transform(df['Dessert'])"
   ],
   "metadata": {
    "collapsed": false,
    "ExecuteTime": {
     "end_time": "2023-11-26T09:08:12.871907200Z",
     "start_time": "2023-11-26T09:08:12.329258400Z"
    }
   },
   "id": "c3f75cbb87542243"
  },
  {
   "cell_type": "code",
   "execution_count": 96,
   "outputs": [],
   "source": [
    "# Mengonversi kolom 'Participant_ID' menjadi numerik menggunakan LabelEncoder\n",
    "label_encoder_participant = LabelEncoder()\n",
    "df['Participant_ID'] = label_encoder_participant.fit_transform(df['Participant_ID'])"
   ],
   "metadata": {
    "collapsed": false,
    "ExecuteTime": {
     "end_time": "2023-11-26T09:08:12.871907200Z",
     "start_time": "2023-11-26T09:08:12.379348800Z"
    }
   },
   "id": "42f72c1a064c6999"
  },
  {
   "cell_type": "code",
   "execution_count": 97,
   "outputs": [],
   "source": [
    "# Membagi data menjadi data latih dan data uji\n",
    "train_data, test_data = train_test_split(df, test_size=0.2, random_state=42)"
   ],
   "metadata": {
    "collapsed": false,
    "ExecuteTime": {
     "end_time": "2023-11-26T09:08:12.871907200Z",
     "start_time": "2023-11-26T09:08:12.405659400Z"
    }
   },
   "id": "6ca8a4ac0be5674a"
  },
  {
   "cell_type": "markdown",
   "source": [
    "## Pembuatan dan Pelatihan Model"
   ],
   "metadata": {
    "collapsed": false
   },
   "id": "5457571775940074"
  },
  {
   "cell_type": "code",
   "execution_count": 98,
   "outputs": [],
   "source": [
    "# Membangun model collaborative filtering dengan TensorFlow\n",
    "embedding_size = 10"
   ],
   "metadata": {
    "collapsed": false,
    "ExecuteTime": {
     "end_time": "2023-11-26T09:08:12.871907200Z",
     "start_time": "2023-11-26T09:08:12.450510700Z"
    }
   },
   "id": "25a40d696e5ef206"
  },
  {
   "cell_type": "code",
   "execution_count": 99,
   "outputs": [],
   "source": [
    "user_input = tf.keras.layers.Input(shape=(1,), name='user_input')\n",
    "food_input = tf.keras.layers.Input(shape=(1,), name='food_input')"
   ],
   "metadata": {
    "collapsed": false,
    "ExecuteTime": {
     "end_time": "2023-11-26T09:08:12.871907200Z",
     "start_time": "2023-11-26T09:08:12.469738300Z"
    }
   },
   "id": "a89a402ec101069d"
  },
  {
   "cell_type": "code",
   "execution_count": 100,
   "outputs": [],
   "source": [
    "user_embedding = tf.keras.layers.Embedding(input_dim=df['Participant_ID'].nunique(), output_dim=embedding_size, input_length=1)(user_input)\n",
    "food_embedding = tf.keras.layers.Embedding(input_dim=df['Food'].nunique(), output_dim=embedding_size, input_length=1)(food_input)"
   ],
   "metadata": {
    "collapsed": false,
    "ExecuteTime": {
     "end_time": "2023-11-26T09:08:12.871907200Z",
     "start_time": "2023-11-26T09:08:12.508899Z"
    }
   },
   "id": "a204c647e6f172eb"
  },
  {
   "cell_type": "code",
   "execution_count": 101,
   "outputs": [],
   "source": [
    "user_vecs = tf.keras.layers.Flatten()(user_embedding)\n",
    "food_vecs = tf.keras.layers.Flatten()(food_embedding)"
   ],
   "metadata": {
    "collapsed": false,
    "ExecuteTime": {
     "end_time": "2023-11-26T09:08:12.871907200Z",
     "start_time": "2023-11-26T09:08:12.570613900Z"
    }
   },
   "id": "1be2ce13dd622ab1"
  },
  {
   "cell_type": "code",
   "execution_count": 102,
   "outputs": [],
   "source": [
    "prod = tf.keras.layers.Dot(axes=1)([user_vecs, food_vecs])"
   ],
   "metadata": {
    "collapsed": false,
    "ExecuteTime": {
     "end_time": "2023-11-26T09:08:12.871907200Z",
     "start_time": "2023-11-26T09:08:12.619212200Z"
    }
   },
   "id": "5f1bccd32659cc9c"
  },
  {
   "cell_type": "code",
   "execution_count": 103,
   "outputs": [],
   "source": [
    "model = tf.keras.models.Model(inputs=[user_input, food_input], outputs=prod)\n",
    "model.compile(optimizer='adam', loss='mean_squared_error')"
   ],
   "metadata": {
    "collapsed": false,
    "ExecuteTime": {
     "end_time": "2023-11-26T09:08:12.871907200Z",
     "start_time": "2023-11-26T09:08:12.668882900Z"
    }
   },
   "id": "e0e5a17fc9c988d5"
  },
  {
   "cell_type": "code",
   "execution_count": 104,
   "outputs": [
    {
     "name": "stdout",
     "output_type": "stream",
     "text": [
      "Epoch 1/10\n",
      "6/6 [==============================] - 8s 71ms/step - loss: 1.6520 - val_loss: 1.6519\n",
      "Epoch 2/10\n",
      "6/6 [==============================] - 0s 38ms/step - loss: 1.6502 - val_loss: 1.6519\n",
      "Epoch 3/10\n",
      "6/6 [==============================] - 0s 25ms/step - loss: 1.6484 - val_loss: 1.6518\n",
      "Epoch 4/10\n",
      "6/6 [==============================] - 0s 24ms/step - loss: 1.6464 - val_loss: 1.6517\n",
      "Epoch 5/10\n",
      "6/6 [==============================] - 0s 25ms/step - loss: 1.6441 - val_loss: 1.6516\n",
      "Epoch 6/10\n",
      "6/6 [==============================] - 0s 28ms/step - loss: 1.6412 - val_loss: 1.6515\n",
      "Epoch 7/10\n",
      "6/6 [==============================] - 0s 34ms/step - loss: 1.6377 - val_loss: 1.6514\n",
      "Epoch 8/10\n",
      "6/6 [==============================] - 0s 41ms/step - loss: 1.6335 - val_loss: 1.6513\n",
      "Epoch 9/10\n",
      "6/6 [==============================] - 1s 194ms/step - loss: 1.6281 - val_loss: 1.6512\n",
      "Epoch 10/10\n",
      "6/6 [==============================] - 0s 29ms/step - loss: 1.6220 - val_loss: 1.6511\n"
     ]
    },
    {
     "data": {
      "text/plain": "<keras.src.callbacks.History at 0x1649bb97710>"
     },
     "execution_count": 104,
     "metadata": {},
     "output_type": "execute_result"
    }
   ],
   "source": [
    "# Melatih model\n",
    "model.fit([train_data['Participant_ID'], train_data['Food']], train_data['Dessert'], epochs=10, batch_size=32, validation_split=0.2)"
   ],
   "metadata": {
    "collapsed": false,
    "ExecuteTime": {
     "end_time": "2023-11-26T09:08:23.811632Z",
     "start_time": "2023-11-26T09:08:12.717972300Z"
    }
   },
   "id": "4e3d682715d7eb88"
  },
  {
   "cell_type": "markdown",
   "source": [
    "## Evaluasi Model"
   ],
   "metadata": {
    "collapsed": false
   },
   "id": "7310bb0c5a7abb23"
  },
  {
   "cell_type": "code",
   "execution_count": 105,
   "outputs": [
    {
     "name": "stdout",
     "output_type": "stream",
     "text": [
      "2/2 [==============================] - 0s 16ms/step - loss: 2.0531\n",
      "Test Loss: 2.053056240081787\n"
     ]
    }
   ],
   "source": [
    "# Evaluasi model\n",
    "test_loss = model.evaluate([test_data['Participant_ID'], test_data['Food']], test_data['Dessert'])\n",
    "print(f'Test Loss: {test_loss}')"
   ],
   "metadata": {
    "collapsed": false,
    "ExecuteTime": {
     "end_time": "2023-11-26T09:08:24.091560700Z",
     "start_time": "2023-11-26T09:08:23.811632Z"
    }
   },
   "id": "a51e1ecfc92207c"
  },
  {
   "cell_type": "markdown",
   "source": [
    "## Prediksi"
   ],
   "metadata": {
    "collapsed": false
   },
   "id": "7973ccbb96eba941"
  },
  {
   "cell_type": "code",
   "execution_count": 106,
   "outputs": [
    {
     "ename": "ValueError",
     "evalue": "y contains previously unseen labels: 'Traditional food'",
     "output_type": "error",
     "traceback": [
      "\u001B[1;31m---------------------------------------------------------------------------\u001B[0m",
      "\u001B[1;31mKeyError\u001B[0m                                  Traceback (most recent call last)",
      "File \u001B[1;32m~\\AppData\\Local\\Programs\\Python\\Python311\\Lib\\site-packages\\sklearn\\utils\\_encode.py:225\u001B[0m, in \u001B[0;36m_encode\u001B[1;34m(values, uniques, check_unknown)\u001B[0m\n\u001B[0;32m    224\u001B[0m \u001B[38;5;28;01mtry\u001B[39;00m:\n\u001B[1;32m--> 225\u001B[0m     \u001B[38;5;28;01mreturn\u001B[39;00m \u001B[43m_map_to_integer\u001B[49m\u001B[43m(\u001B[49m\u001B[43mvalues\u001B[49m\u001B[43m,\u001B[49m\u001B[43m \u001B[49m\u001B[43muniques\u001B[49m\u001B[43m)\u001B[49m\n\u001B[0;32m    226\u001B[0m \u001B[38;5;28;01mexcept\u001B[39;00m \u001B[38;5;167;01mKeyError\u001B[39;00m \u001B[38;5;28;01mas\u001B[39;00m e:\n",
      "File \u001B[1;32m~\\AppData\\Local\\Programs\\Python\\Python311\\Lib\\site-packages\\sklearn\\utils\\_encode.py:165\u001B[0m, in \u001B[0;36m_map_to_integer\u001B[1;34m(values, uniques)\u001B[0m\n\u001B[0;32m    164\u001B[0m table \u001B[38;5;241m=\u001B[39m _nandict({val: i \u001B[38;5;28;01mfor\u001B[39;00m i, val \u001B[38;5;129;01min\u001B[39;00m \u001B[38;5;28menumerate\u001B[39m(uniques)})\n\u001B[1;32m--> 165\u001B[0m \u001B[38;5;28;01mreturn\u001B[39;00m np\u001B[38;5;241m.\u001B[39marray(\u001B[43m[\u001B[49m\u001B[43mtable\u001B[49m\u001B[43m[\u001B[49m\u001B[43mv\u001B[49m\u001B[43m]\u001B[49m\u001B[43m \u001B[49m\u001B[38;5;28;43;01mfor\u001B[39;49;00m\u001B[43m \u001B[49m\u001B[43mv\u001B[49m\u001B[43m \u001B[49m\u001B[38;5;129;43;01min\u001B[39;49;00m\u001B[43m \u001B[49m\u001B[43mvalues\u001B[49m\u001B[43m]\u001B[49m)\n",
      "File \u001B[1;32m~\\AppData\\Local\\Programs\\Python\\Python311\\Lib\\site-packages\\sklearn\\utils\\_encode.py:165\u001B[0m, in \u001B[0;36m<listcomp>\u001B[1;34m(.0)\u001B[0m\n\u001B[0;32m    164\u001B[0m table \u001B[38;5;241m=\u001B[39m _nandict({val: i \u001B[38;5;28;01mfor\u001B[39;00m i, val \u001B[38;5;129;01min\u001B[39;00m \u001B[38;5;28menumerate\u001B[39m(uniques)})\n\u001B[1;32m--> 165\u001B[0m \u001B[38;5;28;01mreturn\u001B[39;00m np\u001B[38;5;241m.\u001B[39marray([\u001B[43mtable\u001B[49m\u001B[43m[\u001B[49m\u001B[43mv\u001B[49m\u001B[43m]\u001B[49m \u001B[38;5;28;01mfor\u001B[39;00m v \u001B[38;5;129;01min\u001B[39;00m values])\n",
      "File \u001B[1;32m~\\AppData\\Local\\Programs\\Python\\Python311\\Lib\\site-packages\\sklearn\\utils\\_encode.py:159\u001B[0m, in \u001B[0;36m_nandict.__missing__\u001B[1;34m(self, key)\u001B[0m\n\u001B[0;32m    158\u001B[0m     \u001B[38;5;28;01mreturn\u001B[39;00m \u001B[38;5;28mself\u001B[39m\u001B[38;5;241m.\u001B[39mnan_value\n\u001B[1;32m--> 159\u001B[0m \u001B[38;5;28;01mraise\u001B[39;00m \u001B[38;5;167;01mKeyError\u001B[39;00m(key)\n",
      "\u001B[1;31mKeyError\u001B[0m: 'Traditional food'",
      "\nDuring handling of the above exception, another exception occurred:\n",
      "\u001B[1;31mValueError\u001B[0m                                Traceback (most recent call last)",
      "Cell \u001B[1;32mIn[106], line 3\u001B[0m\n\u001B[0;32m      1\u001B[0m \u001B[38;5;66;03m# Membuat prediksi untuk partisipan baru\u001B[39;00m\n\u001B[0;32m      2\u001B[0m new_participant \u001B[38;5;241m=\u001B[39m pd\u001B[38;5;241m.\u001B[39mDataFrame({\u001B[38;5;124m'\u001B[39m\u001B[38;5;124mParticipant_ID\u001B[39m\u001B[38;5;124m'\u001B[39m: [\u001B[38;5;124m'\u001B[39m\u001B[38;5;124mFPS003\u001B[39m\u001B[38;5;124m'\u001B[39m], \u001B[38;5;124m'\u001B[39m\u001B[38;5;124mFood\u001B[39m\u001B[38;5;124m'\u001B[39m: [\u001B[38;5;124m'\u001B[39m\u001B[38;5;124mTraditional food\u001B[39m\u001B[38;5;124m'\u001B[39m]})\n\u001B[1;32m----> 3\u001B[0m new_participant[\u001B[38;5;124m'\u001B[39m\u001B[38;5;124mFood\u001B[39m\u001B[38;5;124m'\u001B[39m] \u001B[38;5;241m=\u001B[39m \u001B[43mlabel_encoder\u001B[49m\u001B[38;5;241;43m.\u001B[39;49m\u001B[43mtransform\u001B[49m\u001B[43m(\u001B[49m\u001B[43mnew_participant\u001B[49m\u001B[43m[\u001B[49m\u001B[38;5;124;43m'\u001B[39;49m\u001B[38;5;124;43mFood\u001B[39;49m\u001B[38;5;124;43m'\u001B[39;49m\u001B[43m]\u001B[49m\u001B[43m)\u001B[49m\n\u001B[0;32m      4\u001B[0m prediction \u001B[38;5;241m=\u001B[39m model\u001B[38;5;241m.\u001B[39mpredict([label_encoder\u001B[38;5;241m.\u001B[39mtransform(new_participant[\u001B[38;5;124m'\u001B[39m\u001B[38;5;124mParticipant_ID\u001B[39m\u001B[38;5;124m'\u001B[39m]), new_participant[\u001B[38;5;124m'\u001B[39m\u001B[38;5;124mFood\u001B[39m\u001B[38;5;124m'\u001B[39m]])\n\u001B[0;32m      5\u001B[0m \u001B[38;5;28mprint\u001B[39m(\u001B[38;5;124mf\u001B[39m\u001B[38;5;124m'\u001B[39m\u001B[38;5;124mPrediction for new participant: \u001B[39m\u001B[38;5;132;01m{\u001B[39;00mprediction\u001B[38;5;132;01m}\u001B[39;00m\u001B[38;5;124m'\u001B[39m)\n",
      "File \u001B[1;32m~\\AppData\\Local\\Programs\\Python\\Python311\\Lib\\site-packages\\sklearn\\preprocessing\\_label.py:137\u001B[0m, in \u001B[0;36mLabelEncoder.transform\u001B[1;34m(self, y)\u001B[0m\n\u001B[0;32m    134\u001B[0m \u001B[38;5;28;01mif\u001B[39;00m _num_samples(y) \u001B[38;5;241m==\u001B[39m \u001B[38;5;241m0\u001B[39m:\n\u001B[0;32m    135\u001B[0m     \u001B[38;5;28;01mreturn\u001B[39;00m np\u001B[38;5;241m.\u001B[39marray([])\n\u001B[1;32m--> 137\u001B[0m \u001B[38;5;28;01mreturn\u001B[39;00m \u001B[43m_encode\u001B[49m\u001B[43m(\u001B[49m\u001B[43my\u001B[49m\u001B[43m,\u001B[49m\u001B[43m \u001B[49m\u001B[43muniques\u001B[49m\u001B[38;5;241;43m=\u001B[39;49m\u001B[38;5;28;43mself\u001B[39;49m\u001B[38;5;241;43m.\u001B[39;49m\u001B[43mclasses_\u001B[49m\u001B[43m)\u001B[49m\n",
      "File \u001B[1;32m~\\AppData\\Local\\Programs\\Python\\Python311\\Lib\\site-packages\\sklearn\\utils\\_encode.py:227\u001B[0m, in \u001B[0;36m_encode\u001B[1;34m(values, uniques, check_unknown)\u001B[0m\n\u001B[0;32m    225\u001B[0m         \u001B[38;5;28;01mreturn\u001B[39;00m _map_to_integer(values, uniques)\n\u001B[0;32m    226\u001B[0m     \u001B[38;5;28;01mexcept\u001B[39;00m \u001B[38;5;167;01mKeyError\u001B[39;00m \u001B[38;5;28;01mas\u001B[39;00m e:\n\u001B[1;32m--> 227\u001B[0m         \u001B[38;5;28;01mraise\u001B[39;00m \u001B[38;5;167;01mValueError\u001B[39;00m(\u001B[38;5;124mf\u001B[39m\u001B[38;5;124m\"\u001B[39m\u001B[38;5;124my contains previously unseen labels: \u001B[39m\u001B[38;5;132;01m{\u001B[39;00m\u001B[38;5;28mstr\u001B[39m(e)\u001B[38;5;132;01m}\u001B[39;00m\u001B[38;5;124m\"\u001B[39m)\n\u001B[0;32m    228\u001B[0m \u001B[38;5;28;01melse\u001B[39;00m:\n\u001B[0;32m    229\u001B[0m     \u001B[38;5;28;01mif\u001B[39;00m check_unknown:\n",
      "\u001B[1;31mValueError\u001B[0m: y contains previously unseen labels: 'Traditional food'"
     ]
    }
   ],
   "source": [
    "# Membuat prediksi untuk partisipan baru\n",
    "new_participant = pd.DataFrame({'Participant_ID': ['FPS003'], 'Food': ['Traditional food']})\n",
    "new_participant['Food'] = label_encoder.transform(new_participant['Food'])\n",
    "prediction = model.predict([label_encoder.transform(new_participant['Participant_ID']), new_participant['Food']])\n",
    "print(f'Prediction for new participant: {prediction}')"
   ],
   "metadata": {
    "collapsed": false,
    "ExecuteTime": {
     "end_time": "2023-11-26T09:08:24.244903500Z",
     "start_time": "2023-11-26T09:08:24.075927100Z"
    }
   },
   "id": "aab0b51808155901"
  },
  {
   "cell_type": "markdown",
   "source": [
    "## Ekspor Model"
   ],
   "metadata": {
    "collapsed": false
   },
   "id": "5ef16b1bab6d5f6d"
  },
  {
   "cell_type": "code",
   "execution_count": 107,
   "outputs": [
    {
     "name": "stderr",
     "output_type": "stream",
     "text": [
      "C:\\Users\\Administrator\\AppData\\Local\\Programs\\Python\\Python311\\Lib\\site-packages\\keras\\src\\engine\\training.py:3079: UserWarning: You are saving your model as an HDF5 file via `model.save()`. This file format is considered legacy. We recommend using instead the native Keras format, e.g. `model.save('my_model.keras')`.\n",
      "  saving_api.save_model(\n"
     ]
    }
   ],
   "source": [
    "# Simpan model ke dalam format HDF5\n",
    "model.save(\"path/to/model.h5\")"
   ],
   "metadata": {
    "collapsed": false,
    "ExecuteTime": {
     "end_time": "2023-11-26T09:11:32.441586700Z",
     "start_time": "2023-11-26T09:11:32.019059600Z"
    }
   },
   "id": "27afa66b8d164a68"
  },
  {
   "cell_type": "code",
   "execution_count": 108,
   "outputs": [
    {
     "name": "stdout",
     "output_type": "stream",
     "text": [
      "INFO:tensorflow:Assets written to: path/to/saved_model\\assets\n"
     ]
    },
    {
     "name": "stderr",
     "output_type": "stream",
     "text": [
      "INFO:tensorflow:Assets written to: path/to/saved_model\\assets\n"
     ]
    }
   ],
   "source": [
    "# Simpan model ke dalam format SavedModel\n",
    "model.save(\"path/to/saved_model\")"
   ],
   "metadata": {
    "collapsed": false,
    "ExecuteTime": {
     "end_time": "2023-11-26T09:12:20.850639200Z",
     "start_time": "2023-11-26T09:12:16.793792400Z"
    }
   },
   "id": "988a9e263738f446"
  }
 ],
 "metadata": {
  "kernelspec": {
   "display_name": "Python 3",
   "language": "python",
   "name": "python3"
  },
  "language_info": {
   "codemirror_mode": {
    "name": "ipython",
    "version": 2
   },
   "file_extension": ".py",
   "mimetype": "text/x-python",
   "name": "python",
   "nbconvert_exporter": "python",
   "pygments_lexer": "ipython2",
   "version": "2.7.6"
  }
 },
 "nbformat": 4,
 "nbformat_minor": 5
}
