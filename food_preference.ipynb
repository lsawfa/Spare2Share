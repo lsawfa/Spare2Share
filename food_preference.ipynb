{
 "cells": [
  {
   "cell_type": "markdown",
   "source": [
    "# Food Preference"
   ],
   "metadata": {
    "collapsed": false
   },
   "id": "2e88e0aff9331fd8"
  },
  {
   "cell_type": "markdown",
   "source": [
    "## Persiapan Data"
   ],
   "metadata": {
    "collapsed": false
   },
   "id": "6238972e341c677f"
  },
  {
   "cell_type": "code",
   "execution_count": 1,
   "outputs": [],
   "source": [
    "import pandas as pd"
   ],
   "metadata": {
    "collapsed": false,
    "ExecuteTime": {
     "end_time": "2023-12-03T12:03:20.145943500Z",
     "start_time": "2023-12-03T12:03:13.173539600Z"
    }
   },
   "id": "14b0b5896cc50b81"
  },
  {
   "cell_type": "code",
   "execution_count": 2,
   "outputs": [
    {
     "data": {
      "text/plain": "                     Timestamp Participant_ID  Gender Nationality  Age  \\\n0  2019/05/07 2:59:13 PM GMT+8         FPS001    Male      Indian   24   \n1  2019/05/07 2:59:45 PM GMT+8         FPS002  Female      Indian   22   \n2  2019/05/07 3:00:05 PM GMT+8         FPS003    Male      Indian   31   \n3  2019/05/07 3:00:11 PM GMT+8         FPS004  Female      Indian   25   \n4  2019/05/07 3:02:50 PM GMT+8         FPS005    Male      Indian   27   \n\n               Food              Juice Dessert  \n0  Traditional food        Fresh Juice   Maybe  \n1      Western Food  Carbonated drinks     Yes  \n2      Western Food        Fresh Juice   Maybe  \n3  Traditional food        Fresh Juice   Maybe  \n4  Traditional food        Fresh Juice   Maybe  ",
      "text/html": "<div>\n<style scoped>\n    .dataframe tbody tr th:only-of-type {\n        vertical-align: middle;\n    }\n\n    .dataframe tbody tr th {\n        vertical-align: top;\n    }\n\n    .dataframe thead th {\n        text-align: right;\n    }\n</style>\n<table border=\"1\" class=\"dataframe\">\n  <thead>\n    <tr style=\"text-align: right;\">\n      <th></th>\n      <th>Timestamp</th>\n      <th>Participant_ID</th>\n      <th>Gender</th>\n      <th>Nationality</th>\n      <th>Age</th>\n      <th>Food</th>\n      <th>Juice</th>\n      <th>Dessert</th>\n    </tr>\n  </thead>\n  <tbody>\n    <tr>\n      <th>0</th>\n      <td>2019/05/07 2:59:13 PM GMT+8</td>\n      <td>FPS001</td>\n      <td>Male</td>\n      <td>Indian</td>\n      <td>24</td>\n      <td>Traditional food</td>\n      <td>Fresh Juice</td>\n      <td>Maybe</td>\n    </tr>\n    <tr>\n      <th>1</th>\n      <td>2019/05/07 2:59:45 PM GMT+8</td>\n      <td>FPS002</td>\n      <td>Female</td>\n      <td>Indian</td>\n      <td>22</td>\n      <td>Western Food</td>\n      <td>Carbonated drinks</td>\n      <td>Yes</td>\n    </tr>\n    <tr>\n      <th>2</th>\n      <td>2019/05/07 3:00:05 PM GMT+8</td>\n      <td>FPS003</td>\n      <td>Male</td>\n      <td>Indian</td>\n      <td>31</td>\n      <td>Western Food</td>\n      <td>Fresh Juice</td>\n      <td>Maybe</td>\n    </tr>\n    <tr>\n      <th>3</th>\n      <td>2019/05/07 3:00:11 PM GMT+8</td>\n      <td>FPS004</td>\n      <td>Female</td>\n      <td>Indian</td>\n      <td>25</td>\n      <td>Traditional food</td>\n      <td>Fresh Juice</td>\n      <td>Maybe</td>\n    </tr>\n    <tr>\n      <th>4</th>\n      <td>2019/05/07 3:02:50 PM GMT+8</td>\n      <td>FPS005</td>\n      <td>Male</td>\n      <td>Indian</td>\n      <td>27</td>\n      <td>Traditional food</td>\n      <td>Fresh Juice</td>\n      <td>Maybe</td>\n    </tr>\n  </tbody>\n</table>\n</div>"
     },
     "execution_count": 2,
     "metadata": {},
     "output_type": "execute_result"
    }
   ],
   "source": [
    "# Baca data dari file CSV\n",
    "file_path = 'Food_Preference.csv'\n",
    "df = pd.read_csv(file_path)\n",
    "df.head()"
   ],
   "metadata": {
    "collapsed": false,
    "ExecuteTime": {
     "end_time": "2023-12-03T12:03:20.161571200Z",
     "start_time": "2023-12-03T12:03:19.522190400Z"
    }
   },
   "id": "8761b433d31b80d8"
  },
  {
   "cell_type": "code",
   "execution_count": 3,
   "outputs": [],
   "source": [
    "columns_to_drop = ['Timestamp']\n",
    "df = df.drop(columns=columns_to_drop)"
   ],
   "metadata": {
    "collapsed": false,
    "ExecuteTime": {
     "end_time": "2023-12-03T12:03:20.177196900Z",
     "start_time": "2023-12-03T12:03:19.693869300Z"
    }
   },
   "id": "79f56f7a799fd774"
  },
  {
   "cell_type": "code",
   "execution_count": 4,
   "outputs": [
    {
     "data": {
      "text/plain": "  Participant_ID  Gender Nationality  Age              Food  \\\n0         FPS001    Male      Indian   24  Traditional food   \n1         FPS002  Female      Indian   22      Western Food   \n2         FPS003    Male      Indian   31      Western Food   \n3         FPS004  Female      Indian   25  Traditional food   \n4         FPS005    Male      Indian   27  Traditional food   \n\n               Juice Dessert  \n0        Fresh Juice   Maybe  \n1  Carbonated drinks     Yes  \n2        Fresh Juice   Maybe  \n3        Fresh Juice   Maybe  \n4        Fresh Juice   Maybe  ",
      "text/html": "<div>\n<style scoped>\n    .dataframe tbody tr th:only-of-type {\n        vertical-align: middle;\n    }\n\n    .dataframe tbody tr th {\n        vertical-align: top;\n    }\n\n    .dataframe thead th {\n        text-align: right;\n    }\n</style>\n<table border=\"1\" class=\"dataframe\">\n  <thead>\n    <tr style=\"text-align: right;\">\n      <th></th>\n      <th>Participant_ID</th>\n      <th>Gender</th>\n      <th>Nationality</th>\n      <th>Age</th>\n      <th>Food</th>\n      <th>Juice</th>\n      <th>Dessert</th>\n    </tr>\n  </thead>\n  <tbody>\n    <tr>\n      <th>0</th>\n      <td>FPS001</td>\n      <td>Male</td>\n      <td>Indian</td>\n      <td>24</td>\n      <td>Traditional food</td>\n      <td>Fresh Juice</td>\n      <td>Maybe</td>\n    </tr>\n    <tr>\n      <th>1</th>\n      <td>FPS002</td>\n      <td>Female</td>\n      <td>Indian</td>\n      <td>22</td>\n      <td>Western Food</td>\n      <td>Carbonated drinks</td>\n      <td>Yes</td>\n    </tr>\n    <tr>\n      <th>2</th>\n      <td>FPS003</td>\n      <td>Male</td>\n      <td>Indian</td>\n      <td>31</td>\n      <td>Western Food</td>\n      <td>Fresh Juice</td>\n      <td>Maybe</td>\n    </tr>\n    <tr>\n      <th>3</th>\n      <td>FPS004</td>\n      <td>Female</td>\n      <td>Indian</td>\n      <td>25</td>\n      <td>Traditional food</td>\n      <td>Fresh Juice</td>\n      <td>Maybe</td>\n    </tr>\n    <tr>\n      <th>4</th>\n      <td>FPS005</td>\n      <td>Male</td>\n      <td>Indian</td>\n      <td>27</td>\n      <td>Traditional food</td>\n      <td>Fresh Juice</td>\n      <td>Maybe</td>\n    </tr>\n  </tbody>\n</table>\n</div>"
     },
     "execution_count": 4,
     "metadata": {},
     "output_type": "execute_result"
    }
   ],
   "source": [
    "df.head()"
   ],
   "metadata": {
    "collapsed": false,
    "ExecuteTime": {
     "end_time": "2023-11-26T12:20:56.063679900Z",
     "start_time": "2023-11-26T12:20:55.820727800Z"
    }
   },
   "id": "6b2cf78a3bf3d31a"
  },
  {
   "cell_type": "code",
   "execution_count": 4,
   "outputs": [
    {
     "name": "stdout",
     "output_type": "stream",
     "text": [
      "<class 'pandas.core.frame.DataFrame'>\n",
      "RangeIndex: 288 entries, 0 to 287\n",
      "Data columns (total 7 columns):\n",
      " #   Column          Non-Null Count  Dtype \n",
      "---  ------          --------------  ----- \n",
      " 0   Participant_ID  288 non-null    object\n",
      " 1   Gender          284 non-null    object\n",
      " 2   Nationality     288 non-null    object\n",
      " 3   Age             288 non-null    int64 \n",
      " 4   Food            288 non-null    object\n",
      " 5   Juice           288 non-null    object\n",
      " 6   Dessert         288 non-null    object\n",
      "dtypes: int64(1), object(6)\n",
      "memory usage: 15.9+ KB\n"
     ]
    }
   ],
   "source": [
    "df.info()"
   ],
   "metadata": {
    "collapsed": false,
    "ExecuteTime": {
     "end_time": "2023-12-03T12:03:20.177196900Z",
     "start_time": "2023-12-03T12:03:19.734689400Z"
    }
   },
   "id": "23c86251dd537c03"
  },
  {
   "cell_type": "code",
   "execution_count": 6,
   "outputs": [
    {
     "data": {
      "text/plain": "Participant_ID    0\nGender            4\nNationality       0\nAge               0\nFood              0\nJuice             0\nDessert           0\ndtype: int64"
     },
     "execution_count": 6,
     "metadata": {},
     "output_type": "execute_result"
    }
   ],
   "source": [
    "df.isnull().sum()"
   ],
   "metadata": {
    "collapsed": false,
    "ExecuteTime": {
     "end_time": "2023-11-26T12:21:01.386459900Z",
     "start_time": "2023-11-26T12:20:56.382278700Z"
    }
   },
   "id": "a17caa143c77dadb"
  },
  {
   "cell_type": "code",
   "execution_count": 5,
   "outputs": [],
   "source": [
    "df.dropna(subset=['Gender'], inplace=True)"
   ],
   "metadata": {
    "collapsed": false,
    "ExecuteTime": {
     "end_time": "2023-12-03T12:03:20.177196900Z",
     "start_time": "2023-12-03T12:03:19.763535800Z"
    }
   },
   "id": "af38256138956d89"
  },
  {
   "cell_type": "code",
   "execution_count": 6,
   "outputs": [
    {
     "data": {
      "text/plain": "Participant_ID    0\nGender            0\nNationality       0\nAge               0\nFood              0\nJuice             0\nDessert           0\ndtype: int64"
     },
     "execution_count": 6,
     "metadata": {},
     "output_type": "execute_result"
    }
   ],
   "source": [
    "df.isnull().sum()"
   ],
   "metadata": {
    "collapsed": false,
    "ExecuteTime": {
     "end_time": "2023-12-03T12:03:20.192820900Z",
     "start_time": "2023-12-03T12:03:19.784590700Z"
    }
   },
   "id": "ececafa79d0214d6"
  },
  {
   "cell_type": "code",
   "execution_count": 7,
   "outputs": [
    {
     "data": {
      "text/plain": "0"
     },
     "execution_count": 7,
     "metadata": {},
     "output_type": "execute_result"
    }
   ],
   "source": [
    "df.duplicated().sum()"
   ],
   "metadata": {
    "collapsed": false,
    "ExecuteTime": {
     "end_time": "2023-12-03T12:03:20.192820900Z",
     "start_time": "2023-12-03T12:03:19.827388500Z"
    }
   },
   "id": "8d32f466bf3938d7"
  },
  {
   "cell_type": "markdown",
   "source": [
    "## Pemrosesan Data"
   ],
   "metadata": {
    "collapsed": false
   },
   "id": "5910cf47ffb17195"
  },
  {
   "cell_type": "code",
   "execution_count": 8,
   "outputs": [],
   "source": [
    "import tensorflow as tf\n",
    "from sklearn.model_selection import train_test_split\n",
    "from sklearn.preprocessing import LabelEncoder"
   ],
   "metadata": {
    "collapsed": false,
    "ExecuteTime": {
     "end_time": "2023-12-03T12:04:04.957365100Z",
     "start_time": "2023-12-03T12:03:19.864661800Z"
    }
   },
   "id": "604c1ae8e39e2e4d"
  },
  {
   "cell_type": "code",
   "execution_count": 9,
   "outputs": [],
   "source": [
    "label_encoder = LabelEncoder()\n",
    "df['Gender'] = label_encoder.fit_transform(df['Gender'])\n",
    "df['Nationality'] = label_encoder.fit_transform(df['Nationality'])\n",
    "df['Food'] = label_encoder.fit_transform(df['Food'])\n",
    "df['Juice'] = label_encoder.fit_transform(df['Juice'])\n",
    "df['Dessert'] = label_encoder.fit_transform(df['Dessert'])"
   ],
   "metadata": {
    "collapsed": false,
    "ExecuteTime": {
     "end_time": "2023-12-03T12:04:04.990427600Z",
     "start_time": "2023-12-03T12:04:04.972991Z"
    }
   },
   "id": "c3f75cbb87542243"
  },
  {
   "cell_type": "code",
   "execution_count": 10,
   "outputs": [],
   "source": [
    "# Mengonversi kolom 'Participant_ID' menjadi numerik menggunakan LabelEncoder\n",
    "label_encoder_participant = LabelEncoder()\n",
    "df['Participant_ID'] = label_encoder_participant.fit_transform(df['Participant_ID'])"
   ],
   "metadata": {
    "collapsed": false,
    "ExecuteTime": {
     "end_time": "2023-12-03T12:04:05.129977800Z",
     "start_time": "2023-12-03T12:04:04.990427600Z"
    }
   },
   "id": "42f72c1a064c6999"
  },
  {
   "cell_type": "code",
   "execution_count": 11,
   "outputs": [],
   "source": [
    "# Membagi data menjadi data latih dan data uji\n",
    "train_data, test_data = train_test_split(df, test_size=0.2, random_state=42)"
   ],
   "metadata": {
    "collapsed": false,
    "ExecuteTime": {
     "end_time": "2023-12-03T12:04:05.158100700Z",
     "start_time": "2023-12-03T12:04:05.129977800Z"
    }
   },
   "id": "6ca8a4ac0be5674a"
  },
  {
   "cell_type": "markdown",
   "source": [
    "## Pembuatan dan Pelatihan Model"
   ],
   "metadata": {
    "collapsed": false
   },
   "id": "5457571775940074"
  },
  {
   "cell_type": "code",
   "execution_count": 12,
   "outputs": [],
   "source": [
    "# Membangun model collaborative filtering dengan TensorFlow\n",
    "embedding_size = 10"
   ],
   "metadata": {
    "collapsed": false,
    "ExecuteTime": {
     "end_time": "2023-12-03T12:04:05.211298700Z",
     "start_time": "2023-12-03T12:04:05.158100700Z"
    }
   },
   "id": "25a40d696e5ef206"
  },
  {
   "cell_type": "code",
   "execution_count": 13,
   "outputs": [],
   "source": [
    "user_input = tf.keras.layers.Input(shape=(1,), name='user_input')\n",
    "food_input = tf.keras.layers.Input(shape=(1,), name='food_input')"
   ],
   "metadata": {
    "collapsed": false,
    "ExecuteTime": {
     "end_time": "2023-12-03T12:04:05.768443500Z",
     "start_time": "2023-12-03T12:04:05.180039200Z"
    }
   },
   "id": "a89a402ec101069d"
  },
  {
   "cell_type": "code",
   "execution_count": 14,
   "outputs": [],
   "source": [
    "user_embedding = tf.keras.layers.Embedding(input_dim=df['Participant_ID'].nunique(), output_dim=embedding_size, input_length=1)(user_input)\n",
    "food_embedding = tf.keras.layers.Embedding(input_dim=df['Food'].nunique(), output_dim=embedding_size, input_length=1)(food_input)"
   ],
   "metadata": {
    "collapsed": false,
    "ExecuteTime": {
     "end_time": "2023-12-03T12:04:06.083439100Z",
     "start_time": "2023-12-03T12:04:05.721560200Z"
    }
   },
   "id": "a204c647e6f172eb"
  },
  {
   "cell_type": "code",
   "execution_count": 15,
   "outputs": [],
   "source": [
    "user_vecs = tf.keras.layers.Flatten()(user_embedding)\n",
    "food_vecs = tf.keras.layers.Flatten()(food_embedding)"
   ],
   "metadata": {
    "collapsed": false,
    "ExecuteTime": {
     "end_time": "2023-12-03T12:04:06.151025500Z",
     "start_time": "2023-12-03T12:04:06.083439100Z"
    }
   },
   "id": "1be2ce13dd622ab1"
  },
  {
   "cell_type": "code",
   "execution_count": 16,
   "outputs": [],
   "source": [
    "prod = tf.keras.layers.Dot(axes=1)([user_vecs, food_vecs])"
   ],
   "metadata": {
    "collapsed": false,
    "ExecuteTime": {
     "end_time": "2023-12-03T12:04:06.276559700Z",
     "start_time": "2023-12-03T12:04:06.135402800Z"
    }
   },
   "id": "5f1bccd32659cc9c"
  },
  {
   "cell_type": "code",
   "execution_count": 17,
   "outputs": [],
   "source": [
    "model = tf.keras.models.Model(inputs=[user_input, food_input], outputs=prod)\n",
    "model.compile(optimizer='adam', loss='mean_squared_error')"
   ],
   "metadata": {
    "collapsed": false,
    "ExecuteTime": {
     "end_time": "2023-12-03T12:04:06.402829200Z",
     "start_time": "2023-12-03T12:04:06.276559700Z"
    }
   },
   "id": "e0e5a17fc9c988d5"
  },
  {
   "cell_type": "code",
   "execution_count": 18,
   "outputs": [
    {
     "name": "stdout",
     "output_type": "stream",
     "text": [
      "Epoch 1/10\n",
      "6/6 [==============================] - 3s 106ms/step - loss: 1.6514 - val_loss: 1.6505\n",
      "Epoch 2/10\n",
      "6/6 [==============================] - 1s 101ms/step - loss: 1.6498 - val_loss: 1.6504\n",
      "Epoch 3/10\n",
      "6/6 [==============================] - 0s 34ms/step - loss: 1.6481 - val_loss: 1.6504\n",
      "Epoch 4/10\n",
      "6/6 [==============================] - 0s 42ms/step - loss: 1.6460 - val_loss: 1.6503\n",
      "Epoch 5/10\n",
      "6/6 [==============================] - 0s 81ms/step - loss: 1.6434 - val_loss: 1.6502\n",
      "Epoch 6/10\n",
      "6/6 [==============================] - 0s 25ms/step - loss: 1.6404 - val_loss: 1.6500\n",
      "Epoch 7/10\n",
      "6/6 [==============================] - 0s 28ms/step - loss: 1.6362 - val_loss: 1.6499\n",
      "Epoch 8/10\n",
      "6/6 [==============================] - 0s 45ms/step - loss: 1.6315 - val_loss: 1.6498\n",
      "Epoch 9/10\n",
      "6/6 [==============================] - 0s 76ms/step - loss: 1.6260 - val_loss: 1.6496\n",
      "Epoch 10/10\n",
      "6/6 [==============================] - 1s 118ms/step - loss: 1.6192 - val_loss: 1.6494\n"
     ]
    },
    {
     "data": {
      "text/plain": "<keras.src.callbacks.History at 0x14ffa12bed0>"
     },
     "execution_count": 18,
     "metadata": {},
     "output_type": "execute_result"
    }
   ],
   "source": [
    "# Melatih model\n",
    "model.fit([train_data['Participant_ID'], train_data['Food']], train_data['Dessert'], epochs=10, batch_size=32, validation_split=0.2)"
   ],
   "metadata": {
    "collapsed": false,
    "ExecuteTime": {
     "end_time": "2023-12-03T12:04:12.702184100Z",
     "start_time": "2023-12-03T12:04:06.411839Z"
    }
   },
   "id": "4e3d682715d7eb88"
  },
  {
   "cell_type": "markdown",
   "source": [
    "## Evaluasi Model"
   ],
   "metadata": {
    "collapsed": false
   },
   "id": "7310bb0c5a7abb23"
  },
  {
   "cell_type": "code",
   "execution_count": 19,
   "outputs": [
    {
     "name": "stdout",
     "output_type": "stream",
     "text": [
      "2/2 [==============================] - 0s 0s/step - loss: 2.0516\n",
      "Test Loss: 2.0515666007995605\n"
     ]
    }
   ],
   "source": [
    "# Evaluasi model\n",
    "test_loss = model.evaluate([test_data['Participant_ID'], test_data['Food']], test_data['Dessert'])\n",
    "print(f'Test Loss: {test_loss}')"
   ],
   "metadata": {
    "collapsed": false,
    "ExecuteTime": {
     "end_time": "2023-12-03T12:05:35.371867300Z",
     "start_time": "2023-12-03T12:05:35.014451100Z"
    }
   },
   "id": "a51e1ecfc92207c"
  },
  {
   "cell_type": "markdown",
   "source": [
    "## Prediksi"
   ],
   "metadata": {
    "collapsed": false
   },
   "id": "7973ccbb96eba941"
  },
  {
   "cell_type": "code",
   "execution_count": 20,
   "outputs": [
    {
     "ename": "ValueError",
     "evalue": "y contains previously unseen labels: 'Traditional food'",
     "output_type": "error",
     "traceback": [
      "\u001B[1;31m---------------------------------------------------------------------------\u001B[0m",
      "\u001B[1;31mKeyError\u001B[0m                                  Traceback (most recent call last)",
      "File \u001B[1;32m~\\AppData\\Local\\Programs\\Python\\Python311\\Lib\\site-packages\\sklearn\\utils\\_encode.py:225\u001B[0m, in \u001B[0;36m_encode\u001B[1;34m(values, uniques, check_unknown)\u001B[0m\n\u001B[0;32m    224\u001B[0m \u001B[38;5;28;01mtry\u001B[39;00m:\n\u001B[1;32m--> 225\u001B[0m     \u001B[38;5;28;01mreturn\u001B[39;00m \u001B[43m_map_to_integer\u001B[49m\u001B[43m(\u001B[49m\u001B[43mvalues\u001B[49m\u001B[43m,\u001B[49m\u001B[43m \u001B[49m\u001B[43muniques\u001B[49m\u001B[43m)\u001B[49m\n\u001B[0;32m    226\u001B[0m \u001B[38;5;28;01mexcept\u001B[39;00m \u001B[38;5;167;01mKeyError\u001B[39;00m \u001B[38;5;28;01mas\u001B[39;00m e:\n",
      "File \u001B[1;32m~\\AppData\\Local\\Programs\\Python\\Python311\\Lib\\site-packages\\sklearn\\utils\\_encode.py:165\u001B[0m, in \u001B[0;36m_map_to_integer\u001B[1;34m(values, uniques)\u001B[0m\n\u001B[0;32m    164\u001B[0m table \u001B[38;5;241m=\u001B[39m _nandict({val: i \u001B[38;5;28;01mfor\u001B[39;00m i, val \u001B[38;5;129;01min\u001B[39;00m \u001B[38;5;28menumerate\u001B[39m(uniques)})\n\u001B[1;32m--> 165\u001B[0m \u001B[38;5;28;01mreturn\u001B[39;00m np\u001B[38;5;241m.\u001B[39marray(\u001B[43m[\u001B[49m\u001B[43mtable\u001B[49m\u001B[43m[\u001B[49m\u001B[43mv\u001B[49m\u001B[43m]\u001B[49m\u001B[43m \u001B[49m\u001B[38;5;28;43;01mfor\u001B[39;49;00m\u001B[43m \u001B[49m\u001B[43mv\u001B[49m\u001B[43m \u001B[49m\u001B[38;5;129;43;01min\u001B[39;49;00m\u001B[43m \u001B[49m\u001B[43mvalues\u001B[49m\u001B[43m]\u001B[49m)\n",
      "File \u001B[1;32m~\\AppData\\Local\\Programs\\Python\\Python311\\Lib\\site-packages\\sklearn\\utils\\_encode.py:165\u001B[0m, in \u001B[0;36m<listcomp>\u001B[1;34m(.0)\u001B[0m\n\u001B[0;32m    164\u001B[0m table \u001B[38;5;241m=\u001B[39m _nandict({val: i \u001B[38;5;28;01mfor\u001B[39;00m i, val \u001B[38;5;129;01min\u001B[39;00m \u001B[38;5;28menumerate\u001B[39m(uniques)})\n\u001B[1;32m--> 165\u001B[0m \u001B[38;5;28;01mreturn\u001B[39;00m np\u001B[38;5;241m.\u001B[39marray([\u001B[43mtable\u001B[49m\u001B[43m[\u001B[49m\u001B[43mv\u001B[49m\u001B[43m]\u001B[49m \u001B[38;5;28;01mfor\u001B[39;00m v \u001B[38;5;129;01min\u001B[39;00m values])\n",
      "File \u001B[1;32m~\\AppData\\Local\\Programs\\Python\\Python311\\Lib\\site-packages\\sklearn\\utils\\_encode.py:159\u001B[0m, in \u001B[0;36m_nandict.__missing__\u001B[1;34m(self, key)\u001B[0m\n\u001B[0;32m    158\u001B[0m     \u001B[38;5;28;01mreturn\u001B[39;00m \u001B[38;5;28mself\u001B[39m\u001B[38;5;241m.\u001B[39mnan_value\n\u001B[1;32m--> 159\u001B[0m \u001B[38;5;28;01mraise\u001B[39;00m \u001B[38;5;167;01mKeyError\u001B[39;00m(key)\n",
      "\u001B[1;31mKeyError\u001B[0m: 'Traditional food'",
      "\nDuring handling of the above exception, another exception occurred:\n",
      "\u001B[1;31mValueError\u001B[0m                                Traceback (most recent call last)",
      "Cell \u001B[1;32mIn[20], line 3\u001B[0m\n\u001B[0;32m      1\u001B[0m \u001B[38;5;66;03m# Membuat prediksi untuk partisipan baru\u001B[39;00m\n\u001B[0;32m      2\u001B[0m new_participant \u001B[38;5;241m=\u001B[39m pd\u001B[38;5;241m.\u001B[39mDataFrame({\u001B[38;5;124m'\u001B[39m\u001B[38;5;124mParticipant_ID\u001B[39m\u001B[38;5;124m'\u001B[39m: [\u001B[38;5;124m'\u001B[39m\u001B[38;5;124mFPS003\u001B[39m\u001B[38;5;124m'\u001B[39m], \u001B[38;5;124m'\u001B[39m\u001B[38;5;124mFood\u001B[39m\u001B[38;5;124m'\u001B[39m: [\u001B[38;5;124m'\u001B[39m\u001B[38;5;124mTraditional food\u001B[39m\u001B[38;5;124m'\u001B[39m]})\n\u001B[1;32m----> 3\u001B[0m new_participant[\u001B[38;5;124m'\u001B[39m\u001B[38;5;124mFood\u001B[39m\u001B[38;5;124m'\u001B[39m] \u001B[38;5;241m=\u001B[39m \u001B[43mlabel_encoder\u001B[49m\u001B[38;5;241;43m.\u001B[39;49m\u001B[43mtransform\u001B[49m\u001B[43m(\u001B[49m\u001B[43mnew_participant\u001B[49m\u001B[43m[\u001B[49m\u001B[38;5;124;43m'\u001B[39;49m\u001B[38;5;124;43mFood\u001B[39;49m\u001B[38;5;124;43m'\u001B[39;49m\u001B[43m]\u001B[49m\u001B[43m)\u001B[49m\n\u001B[0;32m      4\u001B[0m prediction \u001B[38;5;241m=\u001B[39m model\u001B[38;5;241m.\u001B[39mpredict([label_encoder\u001B[38;5;241m.\u001B[39mtransform(new_participant[\u001B[38;5;124m'\u001B[39m\u001B[38;5;124mParticipant_ID\u001B[39m\u001B[38;5;124m'\u001B[39m]), new_participant[\u001B[38;5;124m'\u001B[39m\u001B[38;5;124mFood\u001B[39m\u001B[38;5;124m'\u001B[39m]])\n\u001B[0;32m      5\u001B[0m \u001B[38;5;28mprint\u001B[39m(\u001B[38;5;124mf\u001B[39m\u001B[38;5;124m'\u001B[39m\u001B[38;5;124mPrediction for new participant: \u001B[39m\u001B[38;5;132;01m{\u001B[39;00mprediction\u001B[38;5;132;01m}\u001B[39;00m\u001B[38;5;124m'\u001B[39m)\n",
      "File \u001B[1;32m~\\AppData\\Local\\Programs\\Python\\Python311\\Lib\\site-packages\\sklearn\\preprocessing\\_label.py:137\u001B[0m, in \u001B[0;36mLabelEncoder.transform\u001B[1;34m(self, y)\u001B[0m\n\u001B[0;32m    134\u001B[0m \u001B[38;5;28;01mif\u001B[39;00m _num_samples(y) \u001B[38;5;241m==\u001B[39m \u001B[38;5;241m0\u001B[39m:\n\u001B[0;32m    135\u001B[0m     \u001B[38;5;28;01mreturn\u001B[39;00m np\u001B[38;5;241m.\u001B[39marray([])\n\u001B[1;32m--> 137\u001B[0m \u001B[38;5;28;01mreturn\u001B[39;00m \u001B[43m_encode\u001B[49m\u001B[43m(\u001B[49m\u001B[43my\u001B[49m\u001B[43m,\u001B[49m\u001B[43m \u001B[49m\u001B[43muniques\u001B[49m\u001B[38;5;241;43m=\u001B[39;49m\u001B[38;5;28;43mself\u001B[39;49m\u001B[38;5;241;43m.\u001B[39;49m\u001B[43mclasses_\u001B[49m\u001B[43m)\u001B[49m\n",
      "File \u001B[1;32m~\\AppData\\Local\\Programs\\Python\\Python311\\Lib\\site-packages\\sklearn\\utils\\_encode.py:227\u001B[0m, in \u001B[0;36m_encode\u001B[1;34m(values, uniques, check_unknown)\u001B[0m\n\u001B[0;32m    225\u001B[0m         \u001B[38;5;28;01mreturn\u001B[39;00m _map_to_integer(values, uniques)\n\u001B[0;32m    226\u001B[0m     \u001B[38;5;28;01mexcept\u001B[39;00m \u001B[38;5;167;01mKeyError\u001B[39;00m \u001B[38;5;28;01mas\u001B[39;00m e:\n\u001B[1;32m--> 227\u001B[0m         \u001B[38;5;28;01mraise\u001B[39;00m \u001B[38;5;167;01mValueError\u001B[39;00m(\u001B[38;5;124mf\u001B[39m\u001B[38;5;124m\"\u001B[39m\u001B[38;5;124my contains previously unseen labels: \u001B[39m\u001B[38;5;132;01m{\u001B[39;00m\u001B[38;5;28mstr\u001B[39m(e)\u001B[38;5;132;01m}\u001B[39;00m\u001B[38;5;124m\"\u001B[39m)\n\u001B[0;32m    228\u001B[0m \u001B[38;5;28;01melse\u001B[39;00m:\n\u001B[0;32m    229\u001B[0m     \u001B[38;5;28;01mif\u001B[39;00m check_unknown:\n",
      "\u001B[1;31mValueError\u001B[0m: y contains previously unseen labels: 'Traditional food'"
     ]
    }
   ],
   "source": [
    "# Membuat prediksi untuk partisipan baru\n",
    "new_participant = pd.DataFrame({'Participant_ID': ['FPS003'], 'Food': ['Traditional food']})\n",
    "new_participant['Food'] = label_encoder.transform(new_participant['Food'])\n",
    "prediction = model.predict([label_encoder.transform(new_participant['Participant_ID']), new_participant['Food']])\n",
    "print(f'Prediction for new participant: {prediction}')"
   ],
   "metadata": {
    "collapsed": false,
    "ExecuteTime": {
     "end_time": "2023-12-03T12:06:46.945829400Z",
     "start_time": "2023-12-03T12:06:41.940894500Z"
    }
   },
   "id": "aab0b51808155901"
  },
  {
   "cell_type": "markdown",
   "source": [
    "## Ekspor Model"
   ],
   "metadata": {
    "collapsed": false
   },
   "id": "5ef16b1bab6d5f6d"
  },
  {
   "cell_type": "code",
   "execution_count": 21,
   "outputs": [
    {
     "name": "stderr",
     "output_type": "stream",
     "text": [
      "C:\\Users\\Administrator\\AppData\\Local\\Programs\\Python\\Python311\\Lib\\site-packages\\keras\\src\\engine\\training.py:3079: UserWarning: You are saving your model as an HDF5 file via `model.save()`. This file format is considered legacy. We recommend using instead the native Keras format, e.g. `model.save('my_model.keras')`.\n",
      "  saving_api.save_model(\n"
     ]
    }
   ],
   "source": [
    "# Simpan model ke dalam format HDF5\n",
    "model.save(\"ekspor_model/h5/model.h5\")"
   ],
   "metadata": {
    "collapsed": false,
    "ExecuteTime": {
     "end_time": "2023-12-03T12:13:13.198154700Z",
     "start_time": "2023-12-03T12:13:12.193215900Z"
    }
   },
   "id": "27afa66b8d164a68"
  },
  {
   "cell_type": "code",
   "execution_count": 22,
   "outputs": [
    {
     "name": "stdout",
     "output_type": "stream",
     "text": [
      "INFO:tensorflow:Assets written to: path/saved_model/saved_model\\assets\n"
     ]
    },
    {
     "name": "stderr",
     "output_type": "stream",
     "text": [
      "INFO:tensorflow:Assets written to: path/saved_model/saved_model\\assets\n"
     ]
    }
   ],
   "source": [
    "# Simpan model ke dalam format SavedModel\n",
    "model.save(\"path/saved_model/saved_model\")"
   ],
   "metadata": {
    "collapsed": false,
    "ExecuteTime": {
     "end_time": "2023-12-03T12:13:19.493118300Z",
     "start_time": "2023-12-03T12:13:14.515513300Z"
    }
   },
   "id": "988a9e263738f446"
  },
  {
   "cell_type": "code",
   "execution_count": null,
   "outputs": [],
   "source": [],
   "metadata": {
    "collapsed": false
   },
   "id": "53003570d52869d1"
  }
 ],
 "metadata": {
  "kernelspec": {
   "display_name": "Python 3",
   "language": "python",
   "name": "python3"
  },
  "language_info": {
   "codemirror_mode": {
    "name": "ipython",
    "version": 2
   },
   "file_extension": ".py",
   "mimetype": "text/x-python",
   "name": "python",
   "nbconvert_exporter": "python",
   "pygments_lexer": "ipython2",
   "version": "2.7.6"
  }
 },
 "nbformat": 4,
 "nbformat_minor": 5
}
